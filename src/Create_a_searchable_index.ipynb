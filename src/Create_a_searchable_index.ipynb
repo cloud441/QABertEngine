{
  "nbformat": 4,
  "nbformat_minor": 0,
  "metadata": {
    "colab": {
      "name": "Create_a_searchable_index.ipynb",
      "provenance": [],
      "collapsed_sections": [],
      "machine_shape": "hm"
    },
    "kernelspec": {
      "name": "python3",
      "display_name": "Python 3"
    },
    "language_info": {
      "name": "python"
    },
    "widgets": {
      "application/vnd.jupyter.widget-state+json": {
        "da929917ab364fb99b00cc8abb6dce1f": {
          "model_module": "@jupyter-widgets/controls",
          "model_name": "HBoxModel",
          "model_module_version": "1.5.0",
          "state": {
            "_view_name": "HBoxView",
            "_dom_classes": [],
            "_model_name": "HBoxModel",
            "_view_module": "@jupyter-widgets/controls",
            "_model_module_version": "1.5.0",
            "_view_count": null,
            "_view_module_version": "1.5.0",
            "box_style": "",
            "layout": "IPY_MODEL_83ad3e9743ec4f328bb1b836df8cfe7d",
            "_model_module": "@jupyter-widgets/controls",
            "children": [
              "IPY_MODEL_1416a194523e4fb5920e67d66f3cf8ca",
              "IPY_MODEL_0971a362e0844cf780cd1926cb6e5bb7",
              "IPY_MODEL_4da1511682fd4e37a548f862f5dab4ee"
            ]
          }
        },
        "83ad3e9743ec4f328bb1b836df8cfe7d": {
          "model_module": "@jupyter-widgets/base",
          "model_name": "LayoutModel",
          "model_module_version": "1.2.0",
          "state": {
            "_view_name": "LayoutView",
            "grid_template_rows": null,
            "right": null,
            "justify_content": null,
            "_view_module": "@jupyter-widgets/base",
            "overflow": null,
            "_model_module_version": "1.2.0",
            "_view_count": null,
            "flex_flow": null,
            "width": null,
            "min_width": null,
            "border": null,
            "align_items": null,
            "bottom": null,
            "_model_module": "@jupyter-widgets/base",
            "top": null,
            "grid_column": null,
            "overflow_y": null,
            "overflow_x": null,
            "grid_auto_flow": null,
            "grid_area": null,
            "grid_template_columns": null,
            "flex": null,
            "_model_name": "LayoutModel",
            "justify_items": null,
            "grid_row": null,
            "max_height": null,
            "align_content": null,
            "visibility": null,
            "align_self": null,
            "height": null,
            "min_height": null,
            "padding": null,
            "grid_auto_rows": null,
            "grid_gap": null,
            "max_width": null,
            "order": null,
            "_view_module_version": "1.2.0",
            "grid_template_areas": null,
            "object_position": null,
            "object_fit": null,
            "grid_auto_columns": null,
            "margin": null,
            "display": null,
            "left": null
          }
        },
        "1416a194523e4fb5920e67d66f3cf8ca": {
          "model_module": "@jupyter-widgets/controls",
          "model_name": "HTMLModel",
          "model_module_version": "1.5.0",
          "state": {
            "_view_name": "HTMLView",
            "style": "IPY_MODEL_e18fc32c7a704e79bda2d06aca1e7458",
            "_dom_classes": [],
            "description": "",
            "_model_name": "HTMLModel",
            "placeholder": "​",
            "_view_module": "@jupyter-widgets/controls",
            "_model_module_version": "1.5.0",
            "value": "100%",
            "_view_count": null,
            "_view_module_version": "1.5.0",
            "description_tooltip": null,
            "_model_module": "@jupyter-widgets/controls",
            "layout": "IPY_MODEL_7687f5415ac24dfe85b0f03109f774b9"
          }
        },
        "0971a362e0844cf780cd1926cb6e5bb7": {
          "model_module": "@jupyter-widgets/controls",
          "model_name": "FloatProgressModel",
          "model_module_version": "1.5.0",
          "state": {
            "_view_name": "ProgressView",
            "style": "IPY_MODEL_7941d270f0724f789e9c99c1812469b5",
            "_dom_classes": [],
            "description": "",
            "_model_name": "FloatProgressModel",
            "bar_style": "success",
            "max": 4635922,
            "_view_module": "@jupyter-widgets/controls",
            "_model_module_version": "1.5.0",
            "value": 4635922,
            "_view_count": null,
            "_view_module_version": "1.5.0",
            "orientation": "horizontal",
            "min": 0,
            "description_tooltip": null,
            "_model_module": "@jupyter-widgets/controls",
            "layout": "IPY_MODEL_359af605ab6b4b9ba88671c64ffce9ed"
          }
        },
        "4da1511682fd4e37a548f862f5dab4ee": {
          "model_module": "@jupyter-widgets/controls",
          "model_name": "HTMLModel",
          "model_module_version": "1.5.0",
          "state": {
            "_view_name": "HTMLView",
            "style": "IPY_MODEL_00d772f71fb045f3a6759d0d79be8fa5",
            "_dom_classes": [],
            "description": "",
            "_model_name": "HTMLModel",
            "placeholder": "​",
            "_view_module": "@jupyter-widgets/controls",
            "_model_module_version": "1.5.0",
            "value": " 4635922/4635922 [00:32&lt;00:00, 154136.93it/s]",
            "_view_count": null,
            "_view_module_version": "1.5.0",
            "description_tooltip": null,
            "_model_module": "@jupyter-widgets/controls",
            "layout": "IPY_MODEL_3ead43583ab14b5ebdc4435dd5dbf0b3"
          }
        },
        "e18fc32c7a704e79bda2d06aca1e7458": {
          "model_module": "@jupyter-widgets/controls",
          "model_name": "DescriptionStyleModel",
          "model_module_version": "1.5.0",
          "state": {
            "_view_name": "StyleView",
            "_model_name": "DescriptionStyleModel",
            "description_width": "",
            "_view_module": "@jupyter-widgets/base",
            "_model_module_version": "1.5.0",
            "_view_count": null,
            "_view_module_version": "1.2.0",
            "_model_module": "@jupyter-widgets/controls"
          }
        },
        "7687f5415ac24dfe85b0f03109f774b9": {
          "model_module": "@jupyter-widgets/base",
          "model_name": "LayoutModel",
          "model_module_version": "1.2.0",
          "state": {
            "_view_name": "LayoutView",
            "grid_template_rows": null,
            "right": null,
            "justify_content": null,
            "_view_module": "@jupyter-widgets/base",
            "overflow": null,
            "_model_module_version": "1.2.0",
            "_view_count": null,
            "flex_flow": null,
            "width": null,
            "min_width": null,
            "border": null,
            "align_items": null,
            "bottom": null,
            "_model_module": "@jupyter-widgets/base",
            "top": null,
            "grid_column": null,
            "overflow_y": null,
            "overflow_x": null,
            "grid_auto_flow": null,
            "grid_area": null,
            "grid_template_columns": null,
            "flex": null,
            "_model_name": "LayoutModel",
            "justify_items": null,
            "grid_row": null,
            "max_height": null,
            "align_content": null,
            "visibility": null,
            "align_self": null,
            "height": null,
            "min_height": null,
            "padding": null,
            "grid_auto_rows": null,
            "grid_gap": null,
            "max_width": null,
            "order": null,
            "_view_module_version": "1.2.0",
            "grid_template_areas": null,
            "object_position": null,
            "object_fit": null,
            "grid_auto_columns": null,
            "margin": null,
            "display": null,
            "left": null
          }
        },
        "7941d270f0724f789e9c99c1812469b5": {
          "model_module": "@jupyter-widgets/controls",
          "model_name": "ProgressStyleModel",
          "model_module_version": "1.5.0",
          "state": {
            "_view_name": "StyleView",
            "_model_name": "ProgressStyleModel",
            "description_width": "",
            "_view_module": "@jupyter-widgets/base",
            "_model_module_version": "1.5.0",
            "_view_count": null,
            "_view_module_version": "1.2.0",
            "bar_color": null,
            "_model_module": "@jupyter-widgets/controls"
          }
        },
        "359af605ab6b4b9ba88671c64ffce9ed": {
          "model_module": "@jupyter-widgets/base",
          "model_name": "LayoutModel",
          "model_module_version": "1.2.0",
          "state": {
            "_view_name": "LayoutView",
            "grid_template_rows": null,
            "right": null,
            "justify_content": null,
            "_view_module": "@jupyter-widgets/base",
            "overflow": null,
            "_model_module_version": "1.2.0",
            "_view_count": null,
            "flex_flow": null,
            "width": null,
            "min_width": null,
            "border": null,
            "align_items": null,
            "bottom": null,
            "_model_module": "@jupyter-widgets/base",
            "top": null,
            "grid_column": null,
            "overflow_y": null,
            "overflow_x": null,
            "grid_auto_flow": null,
            "grid_area": null,
            "grid_template_columns": null,
            "flex": null,
            "_model_name": "LayoutModel",
            "justify_items": null,
            "grid_row": null,
            "max_height": null,
            "align_content": null,
            "visibility": null,
            "align_self": null,
            "height": null,
            "min_height": null,
            "padding": null,
            "grid_auto_rows": null,
            "grid_gap": null,
            "max_width": null,
            "order": null,
            "_view_module_version": "1.2.0",
            "grid_template_areas": null,
            "object_position": null,
            "object_fit": null,
            "grid_auto_columns": null,
            "margin": null,
            "display": null,
            "left": null
          }
        },
        "00d772f71fb045f3a6759d0d79be8fa5": {
          "model_module": "@jupyter-widgets/controls",
          "model_name": "DescriptionStyleModel",
          "model_module_version": "1.5.0",
          "state": {
            "_view_name": "StyleView",
            "_model_name": "DescriptionStyleModel",
            "description_width": "",
            "_view_module": "@jupyter-widgets/base",
            "_model_module_version": "1.5.0",
            "_view_count": null,
            "_view_module_version": "1.2.0",
            "_model_module": "@jupyter-widgets/controls"
          }
        },
        "3ead43583ab14b5ebdc4435dd5dbf0b3": {
          "model_module": "@jupyter-widgets/base",
          "model_name": "LayoutModel",
          "model_module_version": "1.2.0",
          "state": {
            "_view_name": "LayoutView",
            "grid_template_rows": null,
            "right": null,
            "justify_content": null,
            "_view_module": "@jupyter-widgets/base",
            "overflow": null,
            "_model_module_version": "1.2.0",
            "_view_count": null,
            "flex_flow": null,
            "width": null,
            "min_width": null,
            "border": null,
            "align_items": null,
            "bottom": null,
            "_model_module": "@jupyter-widgets/base",
            "top": null,
            "grid_column": null,
            "overflow_y": null,
            "overflow_x": null,
            "grid_auto_flow": null,
            "grid_area": null,
            "grid_template_columns": null,
            "flex": null,
            "_model_name": "LayoutModel",
            "justify_items": null,
            "grid_row": null,
            "max_height": null,
            "align_content": null,
            "visibility": null,
            "align_self": null,
            "height": null,
            "min_height": null,
            "padding": null,
            "grid_auto_rows": null,
            "grid_gap": null,
            "max_width": null,
            "order": null,
            "_view_module_version": "1.2.0",
            "grid_template_areas": null,
            "object_position": null,
            "object_fit": null,
            "grid_auto_columns": null,
            "margin": null,
            "display": null,
            "left": null
          }
        },
        "19e95e4c9155420286060a3a7344c8fc": {
          "model_module": "@jupyter-widgets/controls",
          "model_name": "HBoxModel",
          "model_module_version": "1.5.0",
          "state": {
            "_view_name": "HBoxView",
            "_dom_classes": [],
            "_model_name": "HBoxModel",
            "_view_module": "@jupyter-widgets/controls",
            "_model_module_version": "1.5.0",
            "_view_count": null,
            "_view_module_version": "1.5.0",
            "box_style": "",
            "layout": "IPY_MODEL_9a9ae2bb8aa442b3b76c3574b599b3fb",
            "_model_module": "@jupyter-widgets/controls",
            "children": [
              "IPY_MODEL_33cc3def5eb9490f9121952019f897b1",
              "IPY_MODEL_cedc394595b54094b46ac43f1c7afd5b",
              "IPY_MODEL_a8c97d2fd1ab475b94a86c71135efb3c"
            ]
          }
        },
        "9a9ae2bb8aa442b3b76c3574b599b3fb": {
          "model_module": "@jupyter-widgets/base",
          "model_name": "LayoutModel",
          "model_module_version": "1.2.0",
          "state": {
            "_view_name": "LayoutView",
            "grid_template_rows": null,
            "right": null,
            "justify_content": null,
            "_view_module": "@jupyter-widgets/base",
            "overflow": null,
            "_model_module_version": "1.2.0",
            "_view_count": null,
            "flex_flow": null,
            "width": null,
            "min_width": null,
            "border": null,
            "align_items": null,
            "bottom": null,
            "_model_module": "@jupyter-widgets/base",
            "top": null,
            "grid_column": null,
            "overflow_y": null,
            "overflow_x": null,
            "grid_auto_flow": null,
            "grid_area": null,
            "grid_template_columns": null,
            "flex": null,
            "_model_name": "LayoutModel",
            "justify_items": null,
            "grid_row": null,
            "max_height": null,
            "align_content": null,
            "visibility": null,
            "align_self": null,
            "height": null,
            "min_height": null,
            "padding": null,
            "grid_auto_rows": null,
            "grid_gap": null,
            "max_width": null,
            "order": null,
            "_view_module_version": "1.2.0",
            "grid_template_areas": null,
            "object_position": null,
            "object_fit": null,
            "grid_auto_columns": null,
            "margin": null,
            "display": null,
            "left": null
          }
        },
        "33cc3def5eb9490f9121952019f897b1": {
          "model_module": "@jupyter-widgets/controls",
          "model_name": "HTMLModel",
          "model_module_version": "1.5.0",
          "state": {
            "_view_name": "HTMLView",
            "style": "IPY_MODEL_acb6100517a34d49a73c01e59a18a513",
            "_dom_classes": [],
            "description": "",
            "_model_name": "HTMLModel",
            "placeholder": "​",
            "_view_module": "@jupyter-widgets/controls",
            "_model_module_version": "1.5.0",
            "value": "Batches: 100%",
            "_view_count": null,
            "_view_module_version": "1.5.0",
            "description_tooltip": null,
            "_model_module": "@jupyter-widgets/controls",
            "layout": "IPY_MODEL_fc079d0bec3c49b4a1e1249ea2226c81"
          }
        },
        "cedc394595b54094b46ac43f1c7afd5b": {
          "model_module": "@jupyter-widgets/controls",
          "model_name": "FloatProgressModel",
          "model_module_version": "1.5.0",
          "state": {
            "_view_name": "ProgressView",
            "style": "IPY_MODEL_53b1a916cb7241a299457a51630a0a85",
            "_dom_classes": [],
            "description": "",
            "_model_name": "FloatProgressModel",
            "bar_style": "success",
            "max": 63,
            "_view_module": "@jupyter-widgets/controls",
            "_model_module_version": "1.5.0",
            "value": 63,
            "_view_count": null,
            "_view_module_version": "1.5.0",
            "orientation": "horizontal",
            "min": 0,
            "description_tooltip": null,
            "_model_module": "@jupyter-widgets/controls",
            "layout": "IPY_MODEL_32830d8a2a144147a8de96bddcf3a7f2"
          }
        },
        "a8c97d2fd1ab475b94a86c71135efb3c": {
          "model_module": "@jupyter-widgets/controls",
          "model_name": "HTMLModel",
          "model_module_version": "1.5.0",
          "state": {
            "_view_name": "HTMLView",
            "style": "IPY_MODEL_311e9a5a43424869ae1743b6a0424809",
            "_dom_classes": [],
            "description": "",
            "_model_name": "HTMLModel",
            "placeholder": "​",
            "_view_module": "@jupyter-widgets/controls",
            "_model_module_version": "1.5.0",
            "value": " 63/63 [00:05&lt;00:00, 25.38it/s]",
            "_view_count": null,
            "_view_module_version": "1.5.0",
            "description_tooltip": null,
            "_model_module": "@jupyter-widgets/controls",
            "layout": "IPY_MODEL_02e453a995ff48eb9654c2ae0c90452c"
          }
        },
        "acb6100517a34d49a73c01e59a18a513": {
          "model_module": "@jupyter-widgets/controls",
          "model_name": "DescriptionStyleModel",
          "model_module_version": "1.5.0",
          "state": {
            "_view_name": "StyleView",
            "_model_name": "DescriptionStyleModel",
            "description_width": "",
            "_view_module": "@jupyter-widgets/base",
            "_model_module_version": "1.5.0",
            "_view_count": null,
            "_view_module_version": "1.2.0",
            "_model_module": "@jupyter-widgets/controls"
          }
        },
        "fc079d0bec3c49b4a1e1249ea2226c81": {
          "model_module": "@jupyter-widgets/base",
          "model_name": "LayoutModel",
          "model_module_version": "1.2.0",
          "state": {
            "_view_name": "LayoutView",
            "grid_template_rows": null,
            "right": null,
            "justify_content": null,
            "_view_module": "@jupyter-widgets/base",
            "overflow": null,
            "_model_module_version": "1.2.0",
            "_view_count": null,
            "flex_flow": null,
            "width": null,
            "min_width": null,
            "border": null,
            "align_items": null,
            "bottom": null,
            "_model_module": "@jupyter-widgets/base",
            "top": null,
            "grid_column": null,
            "overflow_y": null,
            "overflow_x": null,
            "grid_auto_flow": null,
            "grid_area": null,
            "grid_template_columns": null,
            "flex": null,
            "_model_name": "LayoutModel",
            "justify_items": null,
            "grid_row": null,
            "max_height": null,
            "align_content": null,
            "visibility": null,
            "align_self": null,
            "height": null,
            "min_height": null,
            "padding": null,
            "grid_auto_rows": null,
            "grid_gap": null,
            "max_width": null,
            "order": null,
            "_view_module_version": "1.2.0",
            "grid_template_areas": null,
            "object_position": null,
            "object_fit": null,
            "grid_auto_columns": null,
            "margin": null,
            "display": null,
            "left": null
          }
        },
        "53b1a916cb7241a299457a51630a0a85": {
          "model_module": "@jupyter-widgets/controls",
          "model_name": "ProgressStyleModel",
          "model_module_version": "1.5.0",
          "state": {
            "_view_name": "StyleView",
            "_model_name": "ProgressStyleModel",
            "description_width": "",
            "_view_module": "@jupyter-widgets/base",
            "_model_module_version": "1.5.0",
            "_view_count": null,
            "_view_module_version": "1.2.0",
            "bar_color": null,
            "_model_module": "@jupyter-widgets/controls"
          }
        },
        "32830d8a2a144147a8de96bddcf3a7f2": {
          "model_module": "@jupyter-widgets/base",
          "model_name": "LayoutModel",
          "model_module_version": "1.2.0",
          "state": {
            "_view_name": "LayoutView",
            "grid_template_rows": null,
            "right": null,
            "justify_content": null,
            "_view_module": "@jupyter-widgets/base",
            "overflow": null,
            "_model_module_version": "1.2.0",
            "_view_count": null,
            "flex_flow": null,
            "width": null,
            "min_width": null,
            "border": null,
            "align_items": null,
            "bottom": null,
            "_model_module": "@jupyter-widgets/base",
            "top": null,
            "grid_column": null,
            "overflow_y": null,
            "overflow_x": null,
            "grid_auto_flow": null,
            "grid_area": null,
            "grid_template_columns": null,
            "flex": null,
            "_model_name": "LayoutModel",
            "justify_items": null,
            "grid_row": null,
            "max_height": null,
            "align_content": null,
            "visibility": null,
            "align_self": null,
            "height": null,
            "min_height": null,
            "padding": null,
            "grid_auto_rows": null,
            "grid_gap": null,
            "max_width": null,
            "order": null,
            "_view_module_version": "1.2.0",
            "grid_template_areas": null,
            "object_position": null,
            "object_fit": null,
            "grid_auto_columns": null,
            "margin": null,
            "display": null,
            "left": null
          }
        },
        "311e9a5a43424869ae1743b6a0424809": {
          "model_module": "@jupyter-widgets/controls",
          "model_name": "DescriptionStyleModel",
          "model_module_version": "1.5.0",
          "state": {
            "_view_name": "StyleView",
            "_model_name": "DescriptionStyleModel",
            "description_width": "",
            "_view_module": "@jupyter-widgets/base",
            "_model_module_version": "1.5.0",
            "_view_count": null,
            "_view_module_version": "1.2.0",
            "_model_module": "@jupyter-widgets/controls"
          }
        },
        "02e453a995ff48eb9654c2ae0c90452c": {
          "model_module": "@jupyter-widgets/base",
          "model_name": "LayoutModel",
          "model_module_version": "1.2.0",
          "state": {
            "_view_name": "LayoutView",
            "grid_template_rows": null,
            "right": null,
            "justify_content": null,
            "_view_module": "@jupyter-widgets/base",
            "overflow": null,
            "_model_module_version": "1.2.0",
            "_view_count": null,
            "flex_flow": null,
            "width": null,
            "min_width": null,
            "border": null,
            "align_items": null,
            "bottom": null,
            "_model_module": "@jupyter-widgets/base",
            "top": null,
            "grid_column": null,
            "overflow_y": null,
            "overflow_x": null,
            "grid_auto_flow": null,
            "grid_area": null,
            "grid_template_columns": null,
            "flex": null,
            "_model_name": "LayoutModel",
            "justify_items": null,
            "grid_row": null,
            "max_height": null,
            "align_content": null,
            "visibility": null,
            "align_self": null,
            "height": null,
            "min_height": null,
            "padding": null,
            "grid_auto_rows": null,
            "grid_gap": null,
            "max_width": null,
            "order": null,
            "_view_module_version": "1.2.0",
            "grid_template_areas": null,
            "object_position": null,
            "object_fit": null,
            "grid_auto_columns": null,
            "margin": null,
            "display": null,
            "left": null
          }
        },
        "2f63cb532a54424d8640ed56f2c26f44": {
          "model_module": "@jupyter-widgets/controls",
          "model_name": "HBoxModel",
          "model_module_version": "1.5.0",
          "state": {
            "_view_name": "HBoxView",
            "_dom_classes": [],
            "_model_name": "HBoxModel",
            "_view_module": "@jupyter-widgets/controls",
            "_model_module_version": "1.5.0",
            "_view_count": null,
            "_view_module_version": "1.5.0",
            "box_style": "",
            "layout": "IPY_MODEL_a1e48bd8cc9e4869903f74b8acbad1db",
            "_model_module": "@jupyter-widgets/controls",
            "children": [
              "IPY_MODEL_7627777d9f954031b3e4c4a47bcf0be2",
              "IPY_MODEL_6d4d058321fd445b934efd203c10be00",
              "IPY_MODEL_92ed5467824e4893a084c6990d6442f2"
            ]
          }
        },
        "a1e48bd8cc9e4869903f74b8acbad1db": {
          "model_module": "@jupyter-widgets/base",
          "model_name": "LayoutModel",
          "model_module_version": "1.2.0",
          "state": {
            "_view_name": "LayoutView",
            "grid_template_rows": null,
            "right": null,
            "justify_content": null,
            "_view_module": "@jupyter-widgets/base",
            "overflow": null,
            "_model_module_version": "1.2.0",
            "_view_count": null,
            "flex_flow": null,
            "width": null,
            "min_width": null,
            "border": null,
            "align_items": null,
            "bottom": null,
            "_model_module": "@jupyter-widgets/base",
            "top": null,
            "grid_column": null,
            "overflow_y": null,
            "overflow_x": null,
            "grid_auto_flow": null,
            "grid_area": null,
            "grid_template_columns": null,
            "flex": null,
            "_model_name": "LayoutModel",
            "justify_items": null,
            "grid_row": null,
            "max_height": null,
            "align_content": null,
            "visibility": null,
            "align_self": null,
            "height": null,
            "min_height": null,
            "padding": null,
            "grid_auto_rows": null,
            "grid_gap": null,
            "max_width": null,
            "order": null,
            "_view_module_version": "1.2.0",
            "grid_template_areas": null,
            "object_position": null,
            "object_fit": null,
            "grid_auto_columns": null,
            "margin": null,
            "display": null,
            "left": null
          }
        },
        "7627777d9f954031b3e4c4a47bcf0be2": {
          "model_module": "@jupyter-widgets/controls",
          "model_name": "HTMLModel",
          "model_module_version": "1.5.0",
          "state": {
            "_view_name": "HTMLView",
            "style": "IPY_MODEL_55ec09e7b52448409af82f23e9711351",
            "_dom_classes": [],
            "description": "",
            "_model_name": "HTMLModel",
            "placeholder": "​",
            "_view_module": "@jupyter-widgets/controls",
            "_model_module_version": "1.5.0",
            "value": "Batches: 100%",
            "_view_count": null,
            "_view_module_version": "1.5.0",
            "description_tooltip": null,
            "_model_module": "@jupyter-widgets/controls",
            "layout": "IPY_MODEL_fbe081ea0c01425e8f9c357416cfebc9"
          }
        },
        "6d4d058321fd445b934efd203c10be00": {
          "model_module": "@jupyter-widgets/controls",
          "model_name": "FloatProgressModel",
          "model_module_version": "1.5.0",
          "state": {
            "_view_name": "ProgressView",
            "style": "IPY_MODEL_59db14296c2d49d081b9bda1c5c7d8ba",
            "_dom_classes": [],
            "description": "",
            "_model_name": "FloatProgressModel",
            "bar_style": "success",
            "max": 63,
            "_view_module": "@jupyter-widgets/controls",
            "_model_module_version": "1.5.0",
            "value": 63,
            "_view_count": null,
            "_view_module_version": "1.5.0",
            "orientation": "horizontal",
            "min": 0,
            "description_tooltip": null,
            "_model_module": "@jupyter-widgets/controls",
            "layout": "IPY_MODEL_6a29f5987be04c4cb10536a783b984ae"
          }
        },
        "92ed5467824e4893a084c6990d6442f2": {
          "model_module": "@jupyter-widgets/controls",
          "model_name": "HTMLModel",
          "model_module_version": "1.5.0",
          "state": {
            "_view_name": "HTMLView",
            "style": "IPY_MODEL_f5e7194a2357479187ae187623b37186",
            "_dom_classes": [],
            "description": "",
            "_model_name": "HTMLModel",
            "placeholder": "​",
            "_view_module": "@jupyter-widgets/controls",
            "_model_module_version": "1.5.0",
            "value": " 63/63 [00:05&lt;00:00, 20.44it/s]",
            "_view_count": null,
            "_view_module_version": "1.5.0",
            "description_tooltip": null,
            "_model_module": "@jupyter-widgets/controls",
            "layout": "IPY_MODEL_f2b8e02d72be4a229a450682cacce319"
          }
        },
        "55ec09e7b52448409af82f23e9711351": {
          "model_module": "@jupyter-widgets/controls",
          "model_name": "DescriptionStyleModel",
          "model_module_version": "1.5.0",
          "state": {
            "_view_name": "StyleView",
            "_model_name": "DescriptionStyleModel",
            "description_width": "",
            "_view_module": "@jupyter-widgets/base",
            "_model_module_version": "1.5.0",
            "_view_count": null,
            "_view_module_version": "1.2.0",
            "_model_module": "@jupyter-widgets/controls"
          }
        },
        "fbe081ea0c01425e8f9c357416cfebc9": {
          "model_module": "@jupyter-widgets/base",
          "model_name": "LayoutModel",
          "model_module_version": "1.2.0",
          "state": {
            "_view_name": "LayoutView",
            "grid_template_rows": null,
            "right": null,
            "justify_content": null,
            "_view_module": "@jupyter-widgets/base",
            "overflow": null,
            "_model_module_version": "1.2.0",
            "_view_count": null,
            "flex_flow": null,
            "width": null,
            "min_width": null,
            "border": null,
            "align_items": null,
            "bottom": null,
            "_model_module": "@jupyter-widgets/base",
            "top": null,
            "grid_column": null,
            "overflow_y": null,
            "overflow_x": null,
            "grid_auto_flow": null,
            "grid_area": null,
            "grid_template_columns": null,
            "flex": null,
            "_model_name": "LayoutModel",
            "justify_items": null,
            "grid_row": null,
            "max_height": null,
            "align_content": null,
            "visibility": null,
            "align_self": null,
            "height": null,
            "min_height": null,
            "padding": null,
            "grid_auto_rows": null,
            "grid_gap": null,
            "max_width": null,
            "order": null,
            "_view_module_version": "1.2.0",
            "grid_template_areas": null,
            "object_position": null,
            "object_fit": null,
            "grid_auto_columns": null,
            "margin": null,
            "display": null,
            "left": null
          }
        },
        "59db14296c2d49d081b9bda1c5c7d8ba": {
          "model_module": "@jupyter-widgets/controls",
          "model_name": "ProgressStyleModel",
          "model_module_version": "1.5.0",
          "state": {
            "_view_name": "StyleView",
            "_model_name": "ProgressStyleModel",
            "description_width": "",
            "_view_module": "@jupyter-widgets/base",
            "_model_module_version": "1.5.0",
            "_view_count": null,
            "_view_module_version": "1.2.0",
            "bar_color": null,
            "_model_module": "@jupyter-widgets/controls"
          }
        },
        "6a29f5987be04c4cb10536a783b984ae": {
          "model_module": "@jupyter-widgets/base",
          "model_name": "LayoutModel",
          "model_module_version": "1.2.0",
          "state": {
            "_view_name": "LayoutView",
            "grid_template_rows": null,
            "right": null,
            "justify_content": null,
            "_view_module": "@jupyter-widgets/base",
            "overflow": null,
            "_model_module_version": "1.2.0",
            "_view_count": null,
            "flex_flow": null,
            "width": null,
            "min_width": null,
            "border": null,
            "align_items": null,
            "bottom": null,
            "_model_module": "@jupyter-widgets/base",
            "top": null,
            "grid_column": null,
            "overflow_y": null,
            "overflow_x": null,
            "grid_auto_flow": null,
            "grid_area": null,
            "grid_template_columns": null,
            "flex": null,
            "_model_name": "LayoutModel",
            "justify_items": null,
            "grid_row": null,
            "max_height": null,
            "align_content": null,
            "visibility": null,
            "align_self": null,
            "height": null,
            "min_height": null,
            "padding": null,
            "grid_auto_rows": null,
            "grid_gap": null,
            "max_width": null,
            "order": null,
            "_view_module_version": "1.2.0",
            "grid_template_areas": null,
            "object_position": null,
            "object_fit": null,
            "grid_auto_columns": null,
            "margin": null,
            "display": null,
            "left": null
          }
        },
        "f5e7194a2357479187ae187623b37186": {
          "model_module": "@jupyter-widgets/controls",
          "model_name": "DescriptionStyleModel",
          "model_module_version": "1.5.0",
          "state": {
            "_view_name": "StyleView",
            "_model_name": "DescriptionStyleModel",
            "description_width": "",
            "_view_module": "@jupyter-widgets/base",
            "_model_module_version": "1.5.0",
            "_view_count": null,
            "_view_module_version": "1.2.0",
            "_model_module": "@jupyter-widgets/controls"
          }
        },
        "f2b8e02d72be4a229a450682cacce319": {
          "model_module": "@jupyter-widgets/base",
          "model_name": "LayoutModel",
          "model_module_version": "1.2.0",
          "state": {
            "_view_name": "LayoutView",
            "grid_template_rows": null,
            "right": null,
            "justify_content": null,
            "_view_module": "@jupyter-widgets/base",
            "overflow": null,
            "_model_module_version": "1.2.0",
            "_view_count": null,
            "flex_flow": null,
            "width": null,
            "min_width": null,
            "border": null,
            "align_items": null,
            "bottom": null,
            "_model_module": "@jupyter-widgets/base",
            "top": null,
            "grid_column": null,
            "overflow_y": null,
            "overflow_x": null,
            "grid_auto_flow": null,
            "grid_area": null,
            "grid_template_columns": null,
            "flex": null,
            "_model_name": "LayoutModel",
            "justify_items": null,
            "grid_row": null,
            "max_height": null,
            "align_content": null,
            "visibility": null,
            "align_self": null,
            "height": null,
            "min_height": null,
            "padding": null,
            "grid_auto_rows": null,
            "grid_gap": null,
            "max_width": null,
            "order": null,
            "_view_module_version": "1.2.0",
            "grid_template_areas": null,
            "object_position": null,
            "object_fit": null,
            "grid_auto_columns": null,
            "margin": null,
            "display": null,
            "left": null
          }
        },
        "1d29eb6ce7bf4dd9b3fc09e6cb112fb0": {
          "model_module": "@jupyter-widgets/controls",
          "model_name": "HBoxModel",
          "model_module_version": "1.5.0",
          "state": {
            "_view_name": "HBoxView",
            "_dom_classes": [],
            "_model_name": "HBoxModel",
            "_view_module": "@jupyter-widgets/controls",
            "_model_module_version": "1.5.0",
            "_view_count": null,
            "_view_module_version": "1.5.0",
            "box_style": "",
            "layout": "IPY_MODEL_c811cdd438244c36a6f58dd8aaf5efcd",
            "_model_module": "@jupyter-widgets/controls",
            "children": [
              "IPY_MODEL_71f1e1304ed64cc89d2a572bf6352f3d",
              "IPY_MODEL_7db9f80a155d4007a1e9e8689113351f",
              "IPY_MODEL_9a8e6f9e69574175b2d0d04c50b64d0c"
            ]
          }
        },
        "c811cdd438244c36a6f58dd8aaf5efcd": {
          "model_module": "@jupyter-widgets/base",
          "model_name": "LayoutModel",
          "model_module_version": "1.2.0",
          "state": {
            "_view_name": "LayoutView",
            "grid_template_rows": null,
            "right": null,
            "justify_content": null,
            "_view_module": "@jupyter-widgets/base",
            "overflow": null,
            "_model_module_version": "1.2.0",
            "_view_count": null,
            "flex_flow": null,
            "width": null,
            "min_width": null,
            "border": null,
            "align_items": null,
            "bottom": null,
            "_model_module": "@jupyter-widgets/base",
            "top": null,
            "grid_column": null,
            "overflow_y": null,
            "overflow_x": null,
            "grid_auto_flow": null,
            "grid_area": null,
            "grid_template_columns": null,
            "flex": null,
            "_model_name": "LayoutModel",
            "justify_items": null,
            "grid_row": null,
            "max_height": null,
            "align_content": null,
            "visibility": null,
            "align_self": null,
            "height": null,
            "min_height": null,
            "padding": null,
            "grid_auto_rows": null,
            "grid_gap": null,
            "max_width": null,
            "order": null,
            "_view_module_version": "1.2.0",
            "grid_template_areas": null,
            "object_position": null,
            "object_fit": null,
            "grid_auto_columns": null,
            "margin": null,
            "display": null,
            "left": null
          }
        },
        "71f1e1304ed64cc89d2a572bf6352f3d": {
          "model_module": "@jupyter-widgets/controls",
          "model_name": "HTMLModel",
          "model_module_version": "1.5.0",
          "state": {
            "_view_name": "HTMLView",
            "style": "IPY_MODEL_dd19c0942eb74deb92b0b5ecb85d72b5",
            "_dom_classes": [],
            "description": "",
            "_model_name": "HTMLModel",
            "placeholder": "​",
            "_view_module": "@jupyter-widgets/controls",
            "_model_module_version": "1.5.0",
            "value": "Batches: 100%",
            "_view_count": null,
            "_view_module_version": "1.5.0",
            "description_tooltip": null,
            "_model_module": "@jupyter-widgets/controls",
            "layout": "IPY_MODEL_5bb1a5316e4e42eaad20db9a31485582"
          }
        },
        "7db9f80a155d4007a1e9e8689113351f": {
          "model_module": "@jupyter-widgets/controls",
          "model_name": "FloatProgressModel",
          "model_module_version": "1.5.0",
          "state": {
            "_view_name": "ProgressView",
            "style": "IPY_MODEL_eecbb375477a454fbbfd0e9d93d63157",
            "_dom_classes": [],
            "description": "",
            "_model_name": "FloatProgressModel",
            "bar_style": "success",
            "max": 63,
            "_view_module": "@jupyter-widgets/controls",
            "_model_module_version": "1.5.0",
            "value": 63,
            "_view_count": null,
            "_view_module_version": "1.5.0",
            "orientation": "horizontal",
            "min": 0,
            "description_tooltip": null,
            "_model_module": "@jupyter-widgets/controls",
            "layout": "IPY_MODEL_feee3eff197e44618cde6540e74d4362"
          }
        },
        "9a8e6f9e69574175b2d0d04c50b64d0c": {
          "model_module": "@jupyter-widgets/controls",
          "model_name": "HTMLModel",
          "model_module_version": "1.5.0",
          "state": {
            "_view_name": "HTMLView",
            "style": "IPY_MODEL_d87fd6059bc04d0ea0cebc7eea9b36fa",
            "_dom_classes": [],
            "description": "",
            "_model_name": "HTMLModel",
            "placeholder": "​",
            "_view_module": "@jupyter-widgets/controls",
            "_model_module_version": "1.5.0",
            "value": " 63/63 [00:05&lt;00:00, 20.41it/s]",
            "_view_count": null,
            "_view_module_version": "1.5.0",
            "description_tooltip": null,
            "_model_module": "@jupyter-widgets/controls",
            "layout": "IPY_MODEL_4e010eedc78745b4806ea6c20f395b61"
          }
        },
        "dd19c0942eb74deb92b0b5ecb85d72b5": {
          "model_module": "@jupyter-widgets/controls",
          "model_name": "DescriptionStyleModel",
          "model_module_version": "1.5.0",
          "state": {
            "_view_name": "StyleView",
            "_model_name": "DescriptionStyleModel",
            "description_width": "",
            "_view_module": "@jupyter-widgets/base",
            "_model_module_version": "1.5.0",
            "_view_count": null,
            "_view_module_version": "1.2.0",
            "_model_module": "@jupyter-widgets/controls"
          }
        },
        "5bb1a5316e4e42eaad20db9a31485582": {
          "model_module": "@jupyter-widgets/base",
          "model_name": "LayoutModel",
          "model_module_version": "1.2.0",
          "state": {
            "_view_name": "LayoutView",
            "grid_template_rows": null,
            "right": null,
            "justify_content": null,
            "_view_module": "@jupyter-widgets/base",
            "overflow": null,
            "_model_module_version": "1.2.0",
            "_view_count": null,
            "flex_flow": null,
            "width": null,
            "min_width": null,
            "border": null,
            "align_items": null,
            "bottom": null,
            "_model_module": "@jupyter-widgets/base",
            "top": null,
            "grid_column": null,
            "overflow_y": null,
            "overflow_x": null,
            "grid_auto_flow": null,
            "grid_area": null,
            "grid_template_columns": null,
            "flex": null,
            "_model_name": "LayoutModel",
            "justify_items": null,
            "grid_row": null,
            "max_height": null,
            "align_content": null,
            "visibility": null,
            "align_self": null,
            "height": null,
            "min_height": null,
            "padding": null,
            "grid_auto_rows": null,
            "grid_gap": null,
            "max_width": null,
            "order": null,
            "_view_module_version": "1.2.0",
            "grid_template_areas": null,
            "object_position": null,
            "object_fit": null,
            "grid_auto_columns": null,
            "margin": null,
            "display": null,
            "left": null
          }
        },
        "eecbb375477a454fbbfd0e9d93d63157": {
          "model_module": "@jupyter-widgets/controls",
          "model_name": "ProgressStyleModel",
          "model_module_version": "1.5.0",
          "state": {
            "_view_name": "StyleView",
            "_model_name": "ProgressStyleModel",
            "description_width": "",
            "_view_module": "@jupyter-widgets/base",
            "_model_module_version": "1.5.0",
            "_view_count": null,
            "_view_module_version": "1.2.0",
            "bar_color": null,
            "_model_module": "@jupyter-widgets/controls"
          }
        },
        "feee3eff197e44618cde6540e74d4362": {
          "model_module": "@jupyter-widgets/base",
          "model_name": "LayoutModel",
          "model_module_version": "1.2.0",
          "state": {
            "_view_name": "LayoutView",
            "grid_template_rows": null,
            "right": null,
            "justify_content": null,
            "_view_module": "@jupyter-widgets/base",
            "overflow": null,
            "_model_module_version": "1.2.0",
            "_view_count": null,
            "flex_flow": null,
            "width": null,
            "min_width": null,
            "border": null,
            "align_items": null,
            "bottom": null,
            "_model_module": "@jupyter-widgets/base",
            "top": null,
            "grid_column": null,
            "overflow_y": null,
            "overflow_x": null,
            "grid_auto_flow": null,
            "grid_area": null,
            "grid_template_columns": null,
            "flex": null,
            "_model_name": "LayoutModel",
            "justify_items": null,
            "grid_row": null,
            "max_height": null,
            "align_content": null,
            "visibility": null,
            "align_self": null,
            "height": null,
            "min_height": null,
            "padding": null,
            "grid_auto_rows": null,
            "grid_gap": null,
            "max_width": null,
            "order": null,
            "_view_module_version": "1.2.0",
            "grid_template_areas": null,
            "object_position": null,
            "object_fit": null,
            "grid_auto_columns": null,
            "margin": null,
            "display": null,
            "left": null
          }
        },
        "d87fd6059bc04d0ea0cebc7eea9b36fa": {
          "model_module": "@jupyter-widgets/controls",
          "model_name": "DescriptionStyleModel",
          "model_module_version": "1.5.0",
          "state": {
            "_view_name": "StyleView",
            "_model_name": "DescriptionStyleModel",
            "description_width": "",
            "_view_module": "@jupyter-widgets/base",
            "_model_module_version": "1.5.0",
            "_view_count": null,
            "_view_module_version": "1.2.0",
            "_model_module": "@jupyter-widgets/controls"
          }
        },
        "4e010eedc78745b4806ea6c20f395b61": {
          "model_module": "@jupyter-widgets/base",
          "model_name": "LayoutModel",
          "model_module_version": "1.2.0",
          "state": {
            "_view_name": "LayoutView",
            "grid_template_rows": null,
            "right": null,
            "justify_content": null,
            "_view_module": "@jupyter-widgets/base",
            "overflow": null,
            "_model_module_version": "1.2.0",
            "_view_count": null,
            "flex_flow": null,
            "width": null,
            "min_width": null,
            "border": null,
            "align_items": null,
            "bottom": null,
            "_model_module": "@jupyter-widgets/base",
            "top": null,
            "grid_column": null,
            "overflow_y": null,
            "overflow_x": null,
            "grid_auto_flow": null,
            "grid_area": null,
            "grid_template_columns": null,
            "flex": null,
            "_model_name": "LayoutModel",
            "justify_items": null,
            "grid_row": null,
            "max_height": null,
            "align_content": null,
            "visibility": null,
            "align_self": null,
            "height": null,
            "min_height": null,
            "padding": null,
            "grid_auto_rows": null,
            "grid_gap": null,
            "max_width": null,
            "order": null,
            "_view_module_version": "1.2.0",
            "grid_template_areas": null,
            "object_position": null,
            "object_fit": null,
            "grid_auto_columns": null,
            "margin": null,
            "display": null,
            "left": null
          }
        },
        "4812de5910e64f4da128bb706452a609": {
          "model_module": "@jupyter-widgets/controls",
          "model_name": "HBoxModel",
          "model_module_version": "1.5.0",
          "state": {
            "_view_name": "HBoxView",
            "_dom_classes": [],
            "_model_name": "HBoxModel",
            "_view_module": "@jupyter-widgets/controls",
            "_model_module_version": "1.5.0",
            "_view_count": null,
            "_view_module_version": "1.5.0",
            "box_style": "",
            "layout": "IPY_MODEL_e14ef0de110b47a8b20cb82c0841beaf",
            "_model_module": "@jupyter-widgets/controls",
            "children": [
              "IPY_MODEL_56d993ec465f412a94747d1e04b4c640",
              "IPY_MODEL_bf30257a2210459e8dc907239f8aa3da",
              "IPY_MODEL_fe8bd8a3e465435f9a8c3ca63752bc99"
            ]
          }
        },
        "e14ef0de110b47a8b20cb82c0841beaf": {
          "model_module": "@jupyter-widgets/base",
          "model_name": "LayoutModel",
          "model_module_version": "1.2.0",
          "state": {
            "_view_name": "LayoutView",
            "grid_template_rows": null,
            "right": null,
            "justify_content": null,
            "_view_module": "@jupyter-widgets/base",
            "overflow": null,
            "_model_module_version": "1.2.0",
            "_view_count": null,
            "flex_flow": null,
            "width": null,
            "min_width": null,
            "border": null,
            "align_items": null,
            "bottom": null,
            "_model_module": "@jupyter-widgets/base",
            "top": null,
            "grid_column": null,
            "overflow_y": null,
            "overflow_x": null,
            "grid_auto_flow": null,
            "grid_area": null,
            "grid_template_columns": null,
            "flex": null,
            "_model_name": "LayoutModel",
            "justify_items": null,
            "grid_row": null,
            "max_height": null,
            "align_content": null,
            "visibility": null,
            "align_self": null,
            "height": null,
            "min_height": null,
            "padding": null,
            "grid_auto_rows": null,
            "grid_gap": null,
            "max_width": null,
            "order": null,
            "_view_module_version": "1.2.0",
            "grid_template_areas": null,
            "object_position": null,
            "object_fit": null,
            "grid_auto_columns": null,
            "margin": null,
            "display": null,
            "left": null
          }
        },
        "56d993ec465f412a94747d1e04b4c640": {
          "model_module": "@jupyter-widgets/controls",
          "model_name": "HTMLModel",
          "model_module_version": "1.5.0",
          "state": {
            "_view_name": "HTMLView",
            "style": "IPY_MODEL_99b62d2044f147f388380e0a8d4306d5",
            "_dom_classes": [],
            "description": "",
            "_model_name": "HTMLModel",
            "placeholder": "​",
            "_view_module": "@jupyter-widgets/controls",
            "_model_module_version": "1.5.0",
            "value": "Batches: 100%",
            "_view_count": null,
            "_view_module_version": "1.5.0",
            "description_tooltip": null,
            "_model_module": "@jupyter-widgets/controls",
            "layout": "IPY_MODEL_ea70ccd3b4f6434ebb6c7effd0a247a6"
          }
        },
        "bf30257a2210459e8dc907239f8aa3da": {
          "model_module": "@jupyter-widgets/controls",
          "model_name": "FloatProgressModel",
          "model_module_version": "1.5.0",
          "state": {
            "_view_name": "ProgressView",
            "style": "IPY_MODEL_44bff27793524e609a656cd2b9a16baf",
            "_dom_classes": [],
            "description": "",
            "_model_name": "FloatProgressModel",
            "bar_style": "success",
            "max": 63,
            "_view_module": "@jupyter-widgets/controls",
            "_model_module_version": "1.5.0",
            "value": 63,
            "_view_count": null,
            "_view_module_version": "1.5.0",
            "orientation": "horizontal",
            "min": 0,
            "description_tooltip": null,
            "_model_module": "@jupyter-widgets/controls",
            "layout": "IPY_MODEL_4460b78c5d314acaa81cde77a18c1ccb"
          }
        },
        "fe8bd8a3e465435f9a8c3ca63752bc99": {
          "model_module": "@jupyter-widgets/controls",
          "model_name": "HTMLModel",
          "model_module_version": "1.5.0",
          "state": {
            "_view_name": "HTMLView",
            "style": "IPY_MODEL_e5f0fa81f2b24990957992de744c6380",
            "_dom_classes": [],
            "description": "",
            "_model_name": "HTMLModel",
            "placeholder": "​",
            "_view_module": "@jupyter-widgets/controls",
            "_model_module_version": "1.5.0",
            "value": " 63/63 [00:05&lt;00:00, 20.29it/s]",
            "_view_count": null,
            "_view_module_version": "1.5.0",
            "description_tooltip": null,
            "_model_module": "@jupyter-widgets/controls",
            "layout": "IPY_MODEL_23500efc4d7049a1ac203fd034beab67"
          }
        },
        "99b62d2044f147f388380e0a8d4306d5": {
          "model_module": "@jupyter-widgets/controls",
          "model_name": "DescriptionStyleModel",
          "model_module_version": "1.5.0",
          "state": {
            "_view_name": "StyleView",
            "_model_name": "DescriptionStyleModel",
            "description_width": "",
            "_view_module": "@jupyter-widgets/base",
            "_model_module_version": "1.5.0",
            "_view_count": null,
            "_view_module_version": "1.2.0",
            "_model_module": "@jupyter-widgets/controls"
          }
        },
        "ea70ccd3b4f6434ebb6c7effd0a247a6": {
          "model_module": "@jupyter-widgets/base",
          "model_name": "LayoutModel",
          "model_module_version": "1.2.0",
          "state": {
            "_view_name": "LayoutView",
            "grid_template_rows": null,
            "right": null,
            "justify_content": null,
            "_view_module": "@jupyter-widgets/base",
            "overflow": null,
            "_model_module_version": "1.2.0",
            "_view_count": null,
            "flex_flow": null,
            "width": null,
            "min_width": null,
            "border": null,
            "align_items": null,
            "bottom": null,
            "_model_module": "@jupyter-widgets/base",
            "top": null,
            "grid_column": null,
            "overflow_y": null,
            "overflow_x": null,
            "grid_auto_flow": null,
            "grid_area": null,
            "grid_template_columns": null,
            "flex": null,
            "_model_name": "LayoutModel",
            "justify_items": null,
            "grid_row": null,
            "max_height": null,
            "align_content": null,
            "visibility": null,
            "align_self": null,
            "height": null,
            "min_height": null,
            "padding": null,
            "grid_auto_rows": null,
            "grid_gap": null,
            "max_width": null,
            "order": null,
            "_view_module_version": "1.2.0",
            "grid_template_areas": null,
            "object_position": null,
            "object_fit": null,
            "grid_auto_columns": null,
            "margin": null,
            "display": null,
            "left": null
          }
        },
        "44bff27793524e609a656cd2b9a16baf": {
          "model_module": "@jupyter-widgets/controls",
          "model_name": "ProgressStyleModel",
          "model_module_version": "1.5.0",
          "state": {
            "_view_name": "StyleView",
            "_model_name": "ProgressStyleModel",
            "description_width": "",
            "_view_module": "@jupyter-widgets/base",
            "_model_module_version": "1.5.0",
            "_view_count": null,
            "_view_module_version": "1.2.0",
            "bar_color": null,
            "_model_module": "@jupyter-widgets/controls"
          }
        },
        "4460b78c5d314acaa81cde77a18c1ccb": {
          "model_module": "@jupyter-widgets/base",
          "model_name": "LayoutModel",
          "model_module_version": "1.2.0",
          "state": {
            "_view_name": "LayoutView",
            "grid_template_rows": null,
            "right": null,
            "justify_content": null,
            "_view_module": "@jupyter-widgets/base",
            "overflow": null,
            "_model_module_version": "1.2.0",
            "_view_count": null,
            "flex_flow": null,
            "width": null,
            "min_width": null,
            "border": null,
            "align_items": null,
            "bottom": null,
            "_model_module": "@jupyter-widgets/base",
            "top": null,
            "grid_column": null,
            "overflow_y": null,
            "overflow_x": null,
            "grid_auto_flow": null,
            "grid_area": null,
            "grid_template_columns": null,
            "flex": null,
            "_model_name": "LayoutModel",
            "justify_items": null,
            "grid_row": null,
            "max_height": null,
            "align_content": null,
            "visibility": null,
            "align_self": null,
            "height": null,
            "min_height": null,
            "padding": null,
            "grid_auto_rows": null,
            "grid_gap": null,
            "max_width": null,
            "order": null,
            "_view_module_version": "1.2.0",
            "grid_template_areas": null,
            "object_position": null,
            "object_fit": null,
            "grid_auto_columns": null,
            "margin": null,
            "display": null,
            "left": null
          }
        },
        "e5f0fa81f2b24990957992de744c6380": {
          "model_module": "@jupyter-widgets/controls",
          "model_name": "DescriptionStyleModel",
          "model_module_version": "1.5.0",
          "state": {
            "_view_name": "StyleView",
            "_model_name": "DescriptionStyleModel",
            "description_width": "",
            "_view_module": "@jupyter-widgets/base",
            "_model_module_version": "1.5.0",
            "_view_count": null,
            "_view_module_version": "1.2.0",
            "_model_module": "@jupyter-widgets/controls"
          }
        },
        "23500efc4d7049a1ac203fd034beab67": {
          "model_module": "@jupyter-widgets/base",
          "model_name": "LayoutModel",
          "model_module_version": "1.2.0",
          "state": {
            "_view_name": "LayoutView",
            "grid_template_rows": null,
            "right": null,
            "justify_content": null,
            "_view_module": "@jupyter-widgets/base",
            "overflow": null,
            "_model_module_version": "1.2.0",
            "_view_count": null,
            "flex_flow": null,
            "width": null,
            "min_width": null,
            "border": null,
            "align_items": null,
            "bottom": null,
            "_model_module": "@jupyter-widgets/base",
            "top": null,
            "grid_column": null,
            "overflow_y": null,
            "overflow_x": null,
            "grid_auto_flow": null,
            "grid_area": null,
            "grid_template_columns": null,
            "flex": null,
            "_model_name": "LayoutModel",
            "justify_items": null,
            "grid_row": null,
            "max_height": null,
            "align_content": null,
            "visibility": null,
            "align_self": null,
            "height": null,
            "min_height": null,
            "padding": null,
            "grid_auto_rows": null,
            "grid_gap": null,
            "max_width": null,
            "order": null,
            "_view_module_version": "1.2.0",
            "grid_template_areas": null,
            "object_position": null,
            "object_fit": null,
            "grid_auto_columns": null,
            "margin": null,
            "display": null,
            "left": null
          }
        },
        "04dae5967f734f53a477745d1634439b": {
          "model_module": "@jupyter-widgets/controls",
          "model_name": "HBoxModel",
          "model_module_version": "1.5.0",
          "state": {
            "_view_name": "HBoxView",
            "_dom_classes": [],
            "_model_name": "HBoxModel",
            "_view_module": "@jupyter-widgets/controls",
            "_model_module_version": "1.5.0",
            "_view_count": null,
            "_view_module_version": "1.5.0",
            "box_style": "",
            "layout": "IPY_MODEL_a8179387b69a437ca5930c81001b1a4e",
            "_model_module": "@jupyter-widgets/controls",
            "children": [
              "IPY_MODEL_b18975a2f7f047d584cab9cc9a5aaeb9",
              "IPY_MODEL_b780ff9ec48e4b5b8bc3a83a1665b7fd",
              "IPY_MODEL_1ce8698cfcd14c818a1a365315861925"
            ]
          }
        },
        "a8179387b69a437ca5930c81001b1a4e": {
          "model_module": "@jupyter-widgets/base",
          "model_name": "LayoutModel",
          "model_module_version": "1.2.0",
          "state": {
            "_view_name": "LayoutView",
            "grid_template_rows": null,
            "right": null,
            "justify_content": null,
            "_view_module": "@jupyter-widgets/base",
            "overflow": null,
            "_model_module_version": "1.2.0",
            "_view_count": null,
            "flex_flow": null,
            "width": null,
            "min_width": null,
            "border": null,
            "align_items": null,
            "bottom": null,
            "_model_module": "@jupyter-widgets/base",
            "top": null,
            "grid_column": null,
            "overflow_y": null,
            "overflow_x": null,
            "grid_auto_flow": null,
            "grid_area": null,
            "grid_template_columns": null,
            "flex": null,
            "_model_name": "LayoutModel",
            "justify_items": null,
            "grid_row": null,
            "max_height": null,
            "align_content": null,
            "visibility": null,
            "align_self": null,
            "height": null,
            "min_height": null,
            "padding": null,
            "grid_auto_rows": null,
            "grid_gap": null,
            "max_width": null,
            "order": null,
            "_view_module_version": "1.2.0",
            "grid_template_areas": null,
            "object_position": null,
            "object_fit": null,
            "grid_auto_columns": null,
            "margin": null,
            "display": null,
            "left": null
          }
        },
        "b18975a2f7f047d584cab9cc9a5aaeb9": {
          "model_module": "@jupyter-widgets/controls",
          "model_name": "HTMLModel",
          "model_module_version": "1.5.0",
          "state": {
            "_view_name": "HTMLView",
            "style": "IPY_MODEL_57bddb37bef446dd91c669216243db14",
            "_dom_classes": [],
            "description": "",
            "_model_name": "HTMLModel",
            "placeholder": "​",
            "_view_module": "@jupyter-widgets/controls",
            "_model_module_version": "1.5.0",
            "value": "Batches: 100%",
            "_view_count": null,
            "_view_module_version": "1.5.0",
            "description_tooltip": null,
            "_model_module": "@jupyter-widgets/controls",
            "layout": "IPY_MODEL_9d00fec626f147819b3ec47ffd8f68d2"
          }
        },
        "b780ff9ec48e4b5b8bc3a83a1665b7fd": {
          "model_module": "@jupyter-widgets/controls",
          "model_name": "FloatProgressModel",
          "model_module_version": "1.5.0",
          "state": {
            "_view_name": "ProgressView",
            "style": "IPY_MODEL_c98605435f4e46c68c69f0c0628169c9",
            "_dom_classes": [],
            "description": "",
            "_model_name": "FloatProgressModel",
            "bar_style": "success",
            "max": 357,
            "_view_module": "@jupyter-widgets/controls",
            "_model_module_version": "1.5.0",
            "value": 357,
            "_view_count": null,
            "_view_module_version": "1.5.0",
            "orientation": "horizontal",
            "min": 0,
            "description_tooltip": null,
            "_model_module": "@jupyter-widgets/controls",
            "layout": "IPY_MODEL_1713ac4fe6cb490c826437360a436f96"
          }
        },
        "1ce8698cfcd14c818a1a365315861925": {
          "model_module": "@jupyter-widgets/controls",
          "model_name": "HTMLModel",
          "model_module_version": "1.5.0",
          "state": {
            "_view_name": "HTMLView",
            "style": "IPY_MODEL_e5de641b8b3541e08a2876eeee8d0e5c",
            "_dom_classes": [],
            "description": "",
            "_model_name": "HTMLModel",
            "placeholder": "​",
            "_view_module": "@jupyter-widgets/controls",
            "_model_module_version": "1.5.0",
            "value": " 357/357 [00:21&lt;00:00, 51.43it/s]",
            "_view_count": null,
            "_view_module_version": "1.5.0",
            "description_tooltip": null,
            "_model_module": "@jupyter-widgets/controls",
            "layout": "IPY_MODEL_0fa3b27d87ca4aa1b95b732b350aa17b"
          }
        },
        "57bddb37bef446dd91c669216243db14": {
          "model_module": "@jupyter-widgets/controls",
          "model_name": "DescriptionStyleModel",
          "model_module_version": "1.5.0",
          "state": {
            "_view_name": "StyleView",
            "_model_name": "DescriptionStyleModel",
            "description_width": "",
            "_view_module": "@jupyter-widgets/base",
            "_model_module_version": "1.5.0",
            "_view_count": null,
            "_view_module_version": "1.2.0",
            "_model_module": "@jupyter-widgets/controls"
          }
        },
        "9d00fec626f147819b3ec47ffd8f68d2": {
          "model_module": "@jupyter-widgets/base",
          "model_name": "LayoutModel",
          "model_module_version": "1.2.0",
          "state": {
            "_view_name": "LayoutView",
            "grid_template_rows": null,
            "right": null,
            "justify_content": null,
            "_view_module": "@jupyter-widgets/base",
            "overflow": null,
            "_model_module_version": "1.2.0",
            "_view_count": null,
            "flex_flow": null,
            "width": null,
            "min_width": null,
            "border": null,
            "align_items": null,
            "bottom": null,
            "_model_module": "@jupyter-widgets/base",
            "top": null,
            "grid_column": null,
            "overflow_y": null,
            "overflow_x": null,
            "grid_auto_flow": null,
            "grid_area": null,
            "grid_template_columns": null,
            "flex": null,
            "_model_name": "LayoutModel",
            "justify_items": null,
            "grid_row": null,
            "max_height": null,
            "align_content": null,
            "visibility": null,
            "align_self": null,
            "height": null,
            "min_height": null,
            "padding": null,
            "grid_auto_rows": null,
            "grid_gap": null,
            "max_width": null,
            "order": null,
            "_view_module_version": "1.2.0",
            "grid_template_areas": null,
            "object_position": null,
            "object_fit": null,
            "grid_auto_columns": null,
            "margin": null,
            "display": null,
            "left": null
          }
        },
        "c98605435f4e46c68c69f0c0628169c9": {
          "model_module": "@jupyter-widgets/controls",
          "model_name": "ProgressStyleModel",
          "model_module_version": "1.5.0",
          "state": {
            "_view_name": "StyleView",
            "_model_name": "ProgressStyleModel",
            "description_width": "",
            "_view_module": "@jupyter-widgets/base",
            "_model_module_version": "1.5.0",
            "_view_count": null,
            "_view_module_version": "1.2.0",
            "bar_color": null,
            "_model_module": "@jupyter-widgets/controls"
          }
        },
        "1713ac4fe6cb490c826437360a436f96": {
          "model_module": "@jupyter-widgets/base",
          "model_name": "LayoutModel",
          "model_module_version": "1.2.0",
          "state": {
            "_view_name": "LayoutView",
            "grid_template_rows": null,
            "right": null,
            "justify_content": null,
            "_view_module": "@jupyter-widgets/base",
            "overflow": null,
            "_model_module_version": "1.2.0",
            "_view_count": null,
            "flex_flow": null,
            "width": null,
            "min_width": null,
            "border": null,
            "align_items": null,
            "bottom": null,
            "_model_module": "@jupyter-widgets/base",
            "top": null,
            "grid_column": null,
            "overflow_y": null,
            "overflow_x": null,
            "grid_auto_flow": null,
            "grid_area": null,
            "grid_template_columns": null,
            "flex": null,
            "_model_name": "LayoutModel",
            "justify_items": null,
            "grid_row": null,
            "max_height": null,
            "align_content": null,
            "visibility": null,
            "align_self": null,
            "height": null,
            "min_height": null,
            "padding": null,
            "grid_auto_rows": null,
            "grid_gap": null,
            "max_width": null,
            "order": null,
            "_view_module_version": "1.2.0",
            "grid_template_areas": null,
            "object_position": null,
            "object_fit": null,
            "grid_auto_columns": null,
            "margin": null,
            "display": null,
            "left": null
          }
        },
        "e5de641b8b3541e08a2876eeee8d0e5c": {
          "model_module": "@jupyter-widgets/controls",
          "model_name": "DescriptionStyleModel",
          "model_module_version": "1.5.0",
          "state": {
            "_view_name": "StyleView",
            "_model_name": "DescriptionStyleModel",
            "description_width": "",
            "_view_module": "@jupyter-widgets/base",
            "_model_module_version": "1.5.0",
            "_view_count": null,
            "_view_module_version": "1.2.0",
            "_model_module": "@jupyter-widgets/controls"
          }
        },
        "0fa3b27d87ca4aa1b95b732b350aa17b": {
          "model_module": "@jupyter-widgets/base",
          "model_name": "LayoutModel",
          "model_module_version": "1.2.0",
          "state": {
            "_view_name": "LayoutView",
            "grid_template_rows": null,
            "right": null,
            "justify_content": null,
            "_view_module": "@jupyter-widgets/base",
            "overflow": null,
            "_model_module_version": "1.2.0",
            "_view_count": null,
            "flex_flow": null,
            "width": null,
            "min_width": null,
            "border": null,
            "align_items": null,
            "bottom": null,
            "_model_module": "@jupyter-widgets/base",
            "top": null,
            "grid_column": null,
            "overflow_y": null,
            "overflow_x": null,
            "grid_auto_flow": null,
            "grid_area": null,
            "grid_template_columns": null,
            "flex": null,
            "_model_name": "LayoutModel",
            "justify_items": null,
            "grid_row": null,
            "max_height": null,
            "align_content": null,
            "visibility": null,
            "align_self": null,
            "height": null,
            "min_height": null,
            "padding": null,
            "grid_auto_rows": null,
            "grid_gap": null,
            "max_width": null,
            "order": null,
            "_view_module_version": "1.2.0",
            "grid_template_areas": null,
            "object_position": null,
            "object_fit": null,
            "grid_auto_columns": null,
            "margin": null,
            "display": null,
            "left": null
          }
        }
      }
    },
    "accelerator": "GPU"
  },
  "cells": [
    {
      "cell_type": "markdown",
      "metadata": {
        "id": "MaH9hFPKZypZ"
      },
      "source": [
        "# Part 2"
      ]
    },
    {
      "cell_type": "markdown",
      "metadata": {
        "id": "YkufR7sEZ1-6"
      },
      "source": [
        "## Setup and import"
      ]
    },
    {
      "cell_type": "code",
      "metadata": {
        "colab": {
          "base_uri": "https://localhost:8080/"
        },
        "id": "pf1LrzYuumKY",
        "outputId": "5c2acd61-c041-4006-c3d7-3c09da13b258"
      },
      "source": [
        "!pip install beir"
      ],
      "execution_count": 51,
      "outputs": [
        {
          "output_type": "stream",
          "name": "stdout",
          "text": [
            "Requirement already satisfied: beir in /usr/local/lib/python3.7/dist-packages (0.2.3)\n",
            "Requirement already satisfied: tensorflow>=2.2.0 in /usr/local/lib/python3.7/dist-packages (from beir) (2.7.0)\n",
            "Requirement already satisfied: elasticsearch in /usr/local/lib/python3.7/dist-packages (from beir) (7.15.2)\n",
            "Requirement already satisfied: pytrec-eval in /usr/local/lib/python3.7/dist-packages (from beir) (0.5)\n",
            "Requirement already satisfied: faiss-cpu in /usr/local/lib/python3.7/dist-packages (from beir) (1.7.1.post2)\n",
            "Requirement already satisfied: sentence-transformers in /usr/local/lib/python3.7/dist-packages (from beir) (2.1.0)\n",
            "Requirement already satisfied: tensorflow-hub in /usr/local/lib/python3.7/dist-packages (from beir) (0.12.0)\n",
            "Requirement already satisfied: tensorflow-text in /usr/local/lib/python3.7/dist-packages (from beir) (2.7.3)\n",
            "Requirement already satisfied: numpy>=1.14.5 in /usr/local/lib/python3.7/dist-packages (from tensorflow>=2.2.0->beir) (1.19.5)\n",
            "Requirement already satisfied: tensorboard~=2.6 in /usr/local/lib/python3.7/dist-packages (from tensorflow>=2.2.0->beir) (2.7.0)\n",
            "Requirement already satisfied: typing-extensions>=3.6.6 in /usr/local/lib/python3.7/dist-packages (from tensorflow>=2.2.0->beir) (3.10.0.2)\n",
            "Requirement already satisfied: google-pasta>=0.1.1 in /usr/local/lib/python3.7/dist-packages (from tensorflow>=2.2.0->beir) (0.2.0)\n",
            "Requirement already satisfied: protobuf>=3.9.2 in /usr/local/lib/python3.7/dist-packages (from tensorflow>=2.2.0->beir) (3.17.3)\n",
            "Requirement already satisfied: libclang>=9.0.1 in /usr/local/lib/python3.7/dist-packages (from tensorflow>=2.2.0->beir) (12.0.0)\n",
            "Requirement already satisfied: wrapt>=1.11.0 in /usr/local/lib/python3.7/dist-packages (from tensorflow>=2.2.0->beir) (1.13.3)\n",
            "Requirement already satisfied: astunparse>=1.6.0 in /usr/local/lib/python3.7/dist-packages (from tensorflow>=2.2.0->beir) (1.6.3)\n",
            "Requirement already satisfied: grpcio<2.0,>=1.24.3 in /usr/local/lib/python3.7/dist-packages (from tensorflow>=2.2.0->beir) (1.42.0)\n",
            "Requirement already satisfied: keras-preprocessing>=1.1.1 in /usr/local/lib/python3.7/dist-packages (from tensorflow>=2.2.0->beir) (1.1.2)\n",
            "Requirement already satisfied: gast<0.5.0,>=0.2.1 in /usr/local/lib/python3.7/dist-packages (from tensorflow>=2.2.0->beir) (0.4.0)\n",
            "Requirement already satisfied: tensorflow-io-gcs-filesystem>=0.21.0 in /usr/local/lib/python3.7/dist-packages (from tensorflow>=2.2.0->beir) (0.22.0)\n",
            "Requirement already satisfied: opt-einsum>=2.3.2 in /usr/local/lib/python3.7/dist-packages (from tensorflow>=2.2.0->beir) (3.3.0)\n",
            "Requirement already satisfied: absl-py>=0.4.0 in /usr/local/lib/python3.7/dist-packages (from tensorflow>=2.2.0->beir) (0.12.0)\n",
            "Requirement already satisfied: tensorflow-estimator<2.8,~=2.7.0rc0 in /usr/local/lib/python3.7/dist-packages (from tensorflow>=2.2.0->beir) (2.7.0)\n",
            "Requirement already satisfied: wheel<1.0,>=0.32.0 in /usr/local/lib/python3.7/dist-packages (from tensorflow>=2.2.0->beir) (0.37.0)\n",
            "Requirement already satisfied: h5py>=2.9.0 in /usr/local/lib/python3.7/dist-packages (from tensorflow>=2.2.0->beir) (3.1.0)\n",
            "Requirement already satisfied: keras<2.8,>=2.7.0rc0 in /usr/local/lib/python3.7/dist-packages (from tensorflow>=2.2.0->beir) (2.7.0)\n",
            "Requirement already satisfied: flatbuffers<3.0,>=1.12 in /usr/local/lib/python3.7/dist-packages (from tensorflow>=2.2.0->beir) (2.0)\n",
            "Requirement already satisfied: termcolor>=1.1.0 in /usr/local/lib/python3.7/dist-packages (from tensorflow>=2.2.0->beir) (1.1.0)\n",
            "Requirement already satisfied: six>=1.12.0 in /usr/local/lib/python3.7/dist-packages (from tensorflow>=2.2.0->beir) (1.15.0)\n",
            "Requirement already satisfied: cached-property in /usr/local/lib/python3.7/dist-packages (from h5py>=2.9.0->tensorflow>=2.2.0->beir) (1.5.2)\n",
            "Requirement already satisfied: google-auth-oauthlib<0.5,>=0.4.1 in /usr/local/lib/python3.7/dist-packages (from tensorboard~=2.6->tensorflow>=2.2.0->beir) (0.4.6)\n",
            "Requirement already satisfied: tensorboard-data-server<0.7.0,>=0.6.0 in /usr/local/lib/python3.7/dist-packages (from tensorboard~=2.6->tensorflow>=2.2.0->beir) (0.6.1)\n",
            "Requirement already satisfied: tensorboard-plugin-wit>=1.6.0 in /usr/local/lib/python3.7/dist-packages (from tensorboard~=2.6->tensorflow>=2.2.0->beir) (1.8.0)\n",
            "Requirement already satisfied: google-auth<3,>=1.6.3 in /usr/local/lib/python3.7/dist-packages (from tensorboard~=2.6->tensorflow>=2.2.0->beir) (1.35.0)\n",
            "Requirement already satisfied: requests<3,>=2.21.0 in /usr/local/lib/python3.7/dist-packages (from tensorboard~=2.6->tensorflow>=2.2.0->beir) (2.23.0)\n",
            "Requirement already satisfied: setuptools>=41.0.0 in /usr/local/lib/python3.7/dist-packages (from tensorboard~=2.6->tensorflow>=2.2.0->beir) (57.4.0)\n",
            "Requirement already satisfied: markdown>=2.6.8 in /usr/local/lib/python3.7/dist-packages (from tensorboard~=2.6->tensorflow>=2.2.0->beir) (3.3.6)\n",
            "Requirement already satisfied: werkzeug>=0.11.15 in /usr/local/lib/python3.7/dist-packages (from tensorboard~=2.6->tensorflow>=2.2.0->beir) (1.0.1)\n",
            "Requirement already satisfied: pyasn1-modules>=0.2.1 in /usr/local/lib/python3.7/dist-packages (from google-auth<3,>=1.6.3->tensorboard~=2.6->tensorflow>=2.2.0->beir) (0.2.8)\n",
            "Requirement already satisfied: cachetools<5.0,>=2.0.0 in /usr/local/lib/python3.7/dist-packages (from google-auth<3,>=1.6.3->tensorboard~=2.6->tensorflow>=2.2.0->beir) (4.2.4)\n",
            "Requirement already satisfied: rsa<5,>=3.1.4 in /usr/local/lib/python3.7/dist-packages (from google-auth<3,>=1.6.3->tensorboard~=2.6->tensorflow>=2.2.0->beir) (4.7.2)\n",
            "Requirement already satisfied: requests-oauthlib>=0.7.0 in /usr/local/lib/python3.7/dist-packages (from google-auth-oauthlib<0.5,>=0.4.1->tensorboard~=2.6->tensorflow>=2.2.0->beir) (1.3.0)\n",
            "Requirement already satisfied: importlib-metadata>=4.4 in /usr/local/lib/python3.7/dist-packages (from markdown>=2.6.8->tensorboard~=2.6->tensorflow>=2.2.0->beir) (4.8.2)\n",
            "Requirement already satisfied: zipp>=0.5 in /usr/local/lib/python3.7/dist-packages (from importlib-metadata>=4.4->markdown>=2.6.8->tensorboard~=2.6->tensorflow>=2.2.0->beir) (3.6.0)\n",
            "Requirement already satisfied: pyasn1<0.5.0,>=0.4.6 in /usr/local/lib/python3.7/dist-packages (from pyasn1-modules>=0.2.1->google-auth<3,>=1.6.3->tensorboard~=2.6->tensorflow>=2.2.0->beir) (0.4.8)\n",
            "Requirement already satisfied: idna<3,>=2.5 in /usr/local/lib/python3.7/dist-packages (from requests<3,>=2.21.0->tensorboard~=2.6->tensorflow>=2.2.0->beir) (2.10)\n",
            "Requirement already satisfied: certifi>=2017.4.17 in /usr/local/lib/python3.7/dist-packages (from requests<3,>=2.21.0->tensorboard~=2.6->tensorflow>=2.2.0->beir) (2021.10.8)\n",
            "Requirement already satisfied: chardet<4,>=3.0.2 in /usr/local/lib/python3.7/dist-packages (from requests<3,>=2.21.0->tensorboard~=2.6->tensorflow>=2.2.0->beir) (3.0.4)\n",
            "Requirement already satisfied: urllib3!=1.25.0,!=1.25.1,<1.26,>=1.21.1 in /usr/local/lib/python3.7/dist-packages (from requests<3,>=2.21.0->tensorboard~=2.6->tensorflow>=2.2.0->beir) (1.24.3)\n",
            "Requirement already satisfied: oauthlib>=3.0.0 in /usr/local/lib/python3.7/dist-packages (from requests-oauthlib>=0.7.0->google-auth-oauthlib<0.5,>=0.4.1->tensorboard~=2.6->tensorflow>=2.2.0->beir) (3.1.1)\n",
            "Requirement already satisfied: transformers<5.0.0,>=4.6.0 in /usr/local/lib/python3.7/dist-packages (from sentence-transformers->beir) (4.12.5)\n",
            "Requirement already satisfied: scikit-learn in /usr/local/lib/python3.7/dist-packages (from sentence-transformers->beir) (1.0.1)\n",
            "Requirement already satisfied: tokenizers>=0.10.3 in /usr/local/lib/python3.7/dist-packages (from sentence-transformers->beir) (0.10.3)\n",
            "Requirement already satisfied: scipy in /usr/local/lib/python3.7/dist-packages (from sentence-transformers->beir) (1.4.1)\n",
            "Requirement already satisfied: tqdm in /usr/local/lib/python3.7/dist-packages (from sentence-transformers->beir) (4.62.3)\n",
            "Requirement already satisfied: huggingface-hub in /usr/local/lib/python3.7/dist-packages (from sentence-transformers->beir) (0.1.2)\n",
            "Requirement already satisfied: nltk in /usr/local/lib/python3.7/dist-packages (from sentence-transformers->beir) (3.2.5)\n",
            "Requirement already satisfied: torch>=1.6.0 in /usr/local/lib/python3.7/dist-packages (from sentence-transformers->beir) (1.10.0+cu111)\n",
            "Requirement already satisfied: sentencepiece in /usr/local/lib/python3.7/dist-packages (from sentence-transformers->beir) (0.1.96)\n",
            "Requirement already satisfied: torchvision in /usr/local/lib/python3.7/dist-packages (from sentence-transformers->beir) (0.11.1+cu111)\n",
            "Requirement already satisfied: regex!=2019.12.17 in /usr/local/lib/python3.7/dist-packages (from transformers<5.0.0,>=4.6.0->sentence-transformers->beir) (2019.12.20)\n",
            "Requirement already satisfied: sacremoses in /usr/local/lib/python3.7/dist-packages (from transformers<5.0.0,>=4.6.0->sentence-transformers->beir) (0.0.46)\n",
            "Requirement already satisfied: pyyaml>=5.1 in /usr/local/lib/python3.7/dist-packages (from transformers<5.0.0,>=4.6.0->sentence-transformers->beir) (6.0)\n",
            "Requirement already satisfied: filelock in /usr/local/lib/python3.7/dist-packages (from transformers<5.0.0,>=4.6.0->sentence-transformers->beir) (3.4.0)\n",
            "Requirement already satisfied: packaging>=20.0 in /usr/local/lib/python3.7/dist-packages (from transformers<5.0.0,>=4.6.0->sentence-transformers->beir) (21.3)\n",
            "Requirement already satisfied: pyparsing!=3.0.5,>=2.0.2 in /usr/local/lib/python3.7/dist-packages (from packaging>=20.0->transformers<5.0.0,>=4.6.0->sentence-transformers->beir) (3.0.6)\n",
            "Requirement already satisfied: click in /usr/local/lib/python3.7/dist-packages (from sacremoses->transformers<5.0.0,>=4.6.0->sentence-transformers->beir) (7.1.2)\n",
            "Requirement already satisfied: joblib in /usr/local/lib/python3.7/dist-packages (from sacremoses->transformers<5.0.0,>=4.6.0->sentence-transformers->beir) (1.1.0)\n",
            "Requirement already satisfied: threadpoolctl>=2.0.0 in /usr/local/lib/python3.7/dist-packages (from scikit-learn->sentence-transformers->beir) (3.0.0)\n",
            "Requirement already satisfied: pillow!=8.3.0,>=5.3.0 in /usr/local/lib/python3.7/dist-packages (from torchvision->sentence-transformers->beir) (7.1.2)\n"
          ]
        }
      ]
    },
    {
      "cell_type": "code",
      "metadata": {
        "colab": {
          "base_uri": "https://localhost:8080/"
        },
        "id": "ajmZKPT4ZadV",
        "outputId": "07627bce-51d8-46e8-d224-ad914acdcb80"
      },
      "source": [
        "!pip install sentence_transformers"
      ],
      "execution_count": 52,
      "outputs": [
        {
          "output_type": "stream",
          "name": "stdout",
          "text": [
            "Requirement already satisfied: sentence_transformers in /usr/local/lib/python3.7/dist-packages (2.1.0)\n",
            "Requirement already satisfied: transformers<5.0.0,>=4.6.0 in /usr/local/lib/python3.7/dist-packages (from sentence_transformers) (4.12.5)\n",
            "Requirement already satisfied: huggingface-hub in /usr/local/lib/python3.7/dist-packages (from sentence_transformers) (0.1.2)\n",
            "Requirement already satisfied: scikit-learn in /usr/local/lib/python3.7/dist-packages (from sentence_transformers) (1.0.1)\n",
            "Requirement already satisfied: tokenizers>=0.10.3 in /usr/local/lib/python3.7/dist-packages (from sentence_transformers) (0.10.3)\n",
            "Requirement already satisfied: numpy in /usr/local/lib/python3.7/dist-packages (from sentence_transformers) (1.19.5)\n",
            "Requirement already satisfied: scipy in /usr/local/lib/python3.7/dist-packages (from sentence_transformers) (1.4.1)\n",
            "Requirement already satisfied: torch>=1.6.0 in /usr/local/lib/python3.7/dist-packages (from sentence_transformers) (1.10.0+cu111)\n",
            "Requirement already satisfied: nltk in /usr/local/lib/python3.7/dist-packages (from sentence_transformers) (3.2.5)\n",
            "Requirement already satisfied: sentencepiece in /usr/local/lib/python3.7/dist-packages (from sentence_transformers) (0.1.96)\n",
            "Requirement already satisfied: tqdm in /usr/local/lib/python3.7/dist-packages (from sentence_transformers) (4.62.3)\n",
            "Requirement already satisfied: torchvision in /usr/local/lib/python3.7/dist-packages (from sentence_transformers) (0.11.1+cu111)\n",
            "Requirement already satisfied: typing-extensions in /usr/local/lib/python3.7/dist-packages (from torch>=1.6.0->sentence_transformers) (3.10.0.2)\n",
            "Requirement already satisfied: packaging>=20.0 in /usr/local/lib/python3.7/dist-packages (from transformers<5.0.0,>=4.6.0->sentence_transformers) (21.3)\n",
            "Requirement already satisfied: pyyaml>=5.1 in /usr/local/lib/python3.7/dist-packages (from transformers<5.0.0,>=4.6.0->sentence_transformers) (6.0)\n",
            "Requirement already satisfied: importlib-metadata in /usr/local/lib/python3.7/dist-packages (from transformers<5.0.0,>=4.6.0->sentence_transformers) (4.8.2)\n",
            "Requirement already satisfied: filelock in /usr/local/lib/python3.7/dist-packages (from transformers<5.0.0,>=4.6.0->sentence_transformers) (3.4.0)\n",
            "Requirement already satisfied: requests in /usr/local/lib/python3.7/dist-packages (from transformers<5.0.0,>=4.6.0->sentence_transformers) (2.23.0)\n",
            "Requirement already satisfied: sacremoses in /usr/local/lib/python3.7/dist-packages (from transformers<5.0.0,>=4.6.0->sentence_transformers) (0.0.46)\n",
            "Requirement already satisfied: regex!=2019.12.17 in /usr/local/lib/python3.7/dist-packages (from transformers<5.0.0,>=4.6.0->sentence_transformers) (2019.12.20)\n",
            "Requirement already satisfied: pyparsing!=3.0.5,>=2.0.2 in /usr/local/lib/python3.7/dist-packages (from packaging>=20.0->transformers<5.0.0,>=4.6.0->sentence_transformers) (3.0.6)\n",
            "Requirement already satisfied: zipp>=0.5 in /usr/local/lib/python3.7/dist-packages (from importlib-metadata->transformers<5.0.0,>=4.6.0->sentence_transformers) (3.6.0)\n",
            "Requirement already satisfied: six in /usr/local/lib/python3.7/dist-packages (from nltk->sentence_transformers) (1.15.0)\n",
            "Requirement already satisfied: chardet<4,>=3.0.2 in /usr/local/lib/python3.7/dist-packages (from requests->transformers<5.0.0,>=4.6.0->sentence_transformers) (3.0.4)\n",
            "Requirement already satisfied: urllib3!=1.25.0,!=1.25.1,<1.26,>=1.21.1 in /usr/local/lib/python3.7/dist-packages (from requests->transformers<5.0.0,>=4.6.0->sentence_transformers) (1.24.3)\n",
            "Requirement already satisfied: idna<3,>=2.5 in /usr/local/lib/python3.7/dist-packages (from requests->transformers<5.0.0,>=4.6.0->sentence_transformers) (2.10)\n",
            "Requirement already satisfied: certifi>=2017.4.17 in /usr/local/lib/python3.7/dist-packages (from requests->transformers<5.0.0,>=4.6.0->sentence_transformers) (2021.10.8)\n",
            "Requirement already satisfied: joblib in /usr/local/lib/python3.7/dist-packages (from sacremoses->transformers<5.0.0,>=4.6.0->sentence_transformers) (1.1.0)\n",
            "Requirement already satisfied: click in /usr/local/lib/python3.7/dist-packages (from sacremoses->transformers<5.0.0,>=4.6.0->sentence_transformers) (7.1.2)\n",
            "Requirement already satisfied: threadpoolctl>=2.0.0 in /usr/local/lib/python3.7/dist-packages (from scikit-learn->sentence_transformers) (3.0.0)\n",
            "Requirement already satisfied: pillow!=8.3.0,>=5.3.0 in /usr/local/lib/python3.7/dist-packages (from torchvision->sentence_transformers) (7.1.2)\n"
          ]
        }
      ]
    },
    {
      "cell_type": "code",
      "metadata": {
        "colab": {
          "base_uri": "https://localhost:8080/"
        },
        "id": "A2ctSmyDZsfz",
        "outputId": "78af40f5-8d4c-427d-e575-6fb7d0de3f01"
      },
      "source": [
        "!pip install datasets"
      ],
      "execution_count": 53,
      "outputs": [
        {
          "output_type": "stream",
          "name": "stdout",
          "text": [
            "Requirement already satisfied: datasets in /usr/local/lib/python3.7/dist-packages (1.15.1)\n",
            "Requirement already satisfied: dill in /usr/local/lib/python3.7/dist-packages (from datasets) (0.3.4)\n",
            "Requirement already satisfied: pyarrow!=4.0.0,>=1.0.0 in /usr/local/lib/python3.7/dist-packages (from datasets) (3.0.0)\n",
            "Requirement already satisfied: huggingface-hub<1.0.0,>=0.1.0 in /usr/local/lib/python3.7/dist-packages (from datasets) (0.1.2)\n",
            "Requirement already satisfied: importlib-metadata in /usr/local/lib/python3.7/dist-packages (from datasets) (4.8.2)\n",
            "Requirement already satisfied: requests>=2.19.0 in /usr/local/lib/python3.7/dist-packages (from datasets) (2.23.0)\n",
            "Requirement already satisfied: packaging in /usr/local/lib/python3.7/dist-packages (from datasets) (21.3)\n",
            "Requirement already satisfied: pandas in /usr/local/lib/python3.7/dist-packages (from datasets) (1.1.5)\n",
            "Requirement already satisfied: tqdm>=4.62.1 in /usr/local/lib/python3.7/dist-packages (from datasets) (4.62.3)\n",
            "Requirement already satisfied: numpy>=1.17 in /usr/local/lib/python3.7/dist-packages (from datasets) (1.19.5)\n",
            "Requirement already satisfied: aiohttp in /usr/local/lib/python3.7/dist-packages (from datasets) (3.8.1)\n",
            "Requirement already satisfied: multiprocess in /usr/local/lib/python3.7/dist-packages (from datasets) (0.70.12.2)\n",
            "Requirement already satisfied: fsspec[http]>=2021.05.0 in /usr/local/lib/python3.7/dist-packages (from datasets) (2021.11.0)\n",
            "Requirement already satisfied: xxhash in /usr/local/lib/python3.7/dist-packages (from datasets) (2.0.2)\n",
            "Requirement already satisfied: filelock in /usr/local/lib/python3.7/dist-packages (from huggingface-hub<1.0.0,>=0.1.0->datasets) (3.4.0)\n",
            "Requirement already satisfied: typing-extensions>=3.7.4.3 in /usr/local/lib/python3.7/dist-packages (from huggingface-hub<1.0.0,>=0.1.0->datasets) (3.10.0.2)\n",
            "Requirement already satisfied: pyyaml in /usr/local/lib/python3.7/dist-packages (from huggingface-hub<1.0.0,>=0.1.0->datasets) (6.0)\n",
            "Requirement already satisfied: pyparsing!=3.0.5,>=2.0.2 in /usr/local/lib/python3.7/dist-packages (from packaging->datasets) (3.0.6)\n",
            "Requirement already satisfied: certifi>=2017.4.17 in /usr/local/lib/python3.7/dist-packages (from requests>=2.19.0->datasets) (2021.10.8)\n",
            "Requirement already satisfied: idna<3,>=2.5 in /usr/local/lib/python3.7/dist-packages (from requests>=2.19.0->datasets) (2.10)\n",
            "Requirement already satisfied: urllib3!=1.25.0,!=1.25.1,<1.26,>=1.21.1 in /usr/local/lib/python3.7/dist-packages (from requests>=2.19.0->datasets) (1.24.3)\n",
            "Requirement already satisfied: chardet<4,>=3.0.2 in /usr/local/lib/python3.7/dist-packages (from requests>=2.19.0->datasets) (3.0.4)\n",
            "Requirement already satisfied: frozenlist>=1.1.1 in /usr/local/lib/python3.7/dist-packages (from aiohttp->datasets) (1.2.0)\n",
            "Requirement already satisfied: multidict<7.0,>=4.5 in /usr/local/lib/python3.7/dist-packages (from aiohttp->datasets) (5.2.0)\n",
            "Requirement already satisfied: attrs>=17.3.0 in /usr/local/lib/python3.7/dist-packages (from aiohttp->datasets) (21.2.0)\n",
            "Requirement already satisfied: aiosignal>=1.1.2 in /usr/local/lib/python3.7/dist-packages (from aiohttp->datasets) (1.2.0)\n",
            "Requirement already satisfied: asynctest==0.13.0 in /usr/local/lib/python3.7/dist-packages (from aiohttp->datasets) (0.13.0)\n",
            "Requirement already satisfied: async-timeout<5.0,>=4.0.0a3 in /usr/local/lib/python3.7/dist-packages (from aiohttp->datasets) (4.0.1)\n",
            "Requirement already satisfied: yarl<2.0,>=1.0 in /usr/local/lib/python3.7/dist-packages (from aiohttp->datasets) (1.7.2)\n",
            "Requirement already satisfied: charset-normalizer<3.0,>=2.0 in /usr/local/lib/python3.7/dist-packages (from aiohttp->datasets) (2.0.7)\n",
            "Requirement already satisfied: zipp>=0.5 in /usr/local/lib/python3.7/dist-packages (from importlib-metadata->datasets) (3.6.0)\n",
            "Requirement already satisfied: python-dateutil>=2.7.3 in /usr/local/lib/python3.7/dist-packages (from pandas->datasets) (2.8.2)\n",
            "Requirement already satisfied: pytz>=2017.2 in /usr/local/lib/python3.7/dist-packages (from pandas->datasets) (2018.9)\n",
            "Requirement already satisfied: six>=1.5 in /usr/local/lib/python3.7/dist-packages (from python-dateutil>=2.7.3->pandas->datasets) (1.15.0)\n"
          ]
        }
      ]
    },
    {
      "cell_type": "code",
      "metadata": {
        "colab": {
          "base_uri": "https://localhost:8080/"
        },
        "id": "nkHGAqS_vIvV",
        "outputId": "a5ef9c9a-7bc3-4a95-b908-0c7c45195d14"
      },
      "source": [
        "!pip install progress"
      ],
      "execution_count": 54,
      "outputs": [
        {
          "output_type": "stream",
          "name": "stdout",
          "text": [
            "Requirement already satisfied: progress in /usr/local/lib/python3.7/dist-packages (1.6)\n"
          ]
        }
      ]
    },
    {
      "cell_type": "code",
      "metadata": {
        "colab": {
          "base_uri": "https://localhost:8080/"
        },
        "id": "WnUB_MrhUPLB",
        "outputId": "d865ab50-60e9-4dbd-c295-396b9ff89404"
      },
      "source": [
        "!pip install hnswlib"
      ],
      "execution_count": 55,
      "outputs": [
        {
          "output_type": "stream",
          "name": "stdout",
          "text": [
            "Requirement already satisfied: hnswlib in /usr/local/lib/python3.7/dist-packages (0.5.2)\n",
            "Requirement already satisfied: numpy in /usr/local/lib/python3.7/dist-packages (from hnswlib) (1.19.5)\n"
          ]
        }
      ]
    },
    {
      "cell_type": "markdown",
      "metadata": {
        "id": "Dlype17NOj-Y"
      },
      "source": [
        "We will detail all the imports we need:\n",
        "\n",
        "- pandas and nympy : data manipulation\n",
        "- beri datasets : loading the dbpedia dataset\n",
        "- typing : for the typing of the functions\n",
        "- sentence_transformers : text encoding\n",
        "- faiss, hnswlib, pickle : for approximate nearest neighbors\n",
        "- operator : sorting of similarity lists\n",
        "- time : computation time coparison"
      ]
    },
    {
      "cell_type": "code",
      "metadata": {
        "id": "ueB57S0aZeZ2"
      },
      "source": [
        "import pandas as pd\n",
        "import numpy as np\n",
        "\n",
        "from beir import util\n",
        "from beir.datasets.data_loader import GenericDataLoader\n",
        "\n",
        "from datasets import load_dataset, load_metric\n",
        "\n",
        "from typing import List\n",
        "from typing import Dict\n",
        "from typing import Tuple\n",
        "from typing import List\n",
        "from typing import Callable\n",
        "\n",
        "from sentence_transformers import SentenceTransformer\n",
        "import sentence_transformers.util\n",
        "\n",
        "import faiss\n",
        "import hnswlib\n",
        "import pickle\n",
        "\n",
        "from operator import itemgetter\n",
        "\n",
        "import time"
      ],
      "execution_count": 56,
      "outputs": []
    },
    {
      "cell_type": "markdown",
      "metadata": {
        "id": "odwQSsGhaLQB"
      },
      "source": [
        "## Create the mix dataset"
      ]
    },
    {
      "cell_type": "markdown",
      "metadata": {
        "id": "92R62QsiaRoQ"
      },
      "source": [
        "### Squadv2 part"
      ]
    },
    {
      "cell_type": "markdown",
      "metadata": {
        "id": "7xsZ53MSPy7G"
      },
      "source": [
        "Here we will simply load the squad_v2 data set which contains the questions and contexts."
      ]
    },
    {
      "cell_type": "code",
      "metadata": {
        "id": "GXlsW4Ona4u_"
      },
      "source": [
        "squad_v2 = False"
      ],
      "execution_count": 57,
      "outputs": []
    },
    {
      "cell_type": "code",
      "metadata": {
        "colab": {
          "base_uri": "https://localhost:8080/"
        },
        "id": "N-SaGh9ban2j",
        "outputId": "33962388-6f1f-4ea2-9a79-c9db25af5a95"
      },
      "source": [
        "train_dataset = load_dataset(\"squad_v2\" if squad_v2 else \"squad\", split='train[:10%]')"
      ],
      "execution_count": 58,
      "outputs": [
        {
          "output_type": "stream",
          "name": "stderr",
          "text": [
            "Reusing dataset squad (/root/.cache/huggingface/datasets/squad/plain_text/1.0.0/d6ec3ceb99ca480ce37cdd35555d6cb2511d223b9150cce08a837ef62ffea453)\n"
          ]
        }
      ]
    },
    {
      "cell_type": "code",
      "metadata": {
        "colab": {
          "base_uri": "https://localhost:8080/"
        },
        "id": "1B_R3CE2an3F",
        "outputId": "416397a7-db48-4c03-8557-6d0423c52bef"
      },
      "source": [
        "train_dataset[0]"
      ],
      "execution_count": 59,
      "outputs": [
        {
          "output_type": "execute_result",
          "data": {
            "text/plain": [
              "{'answers': {'answer_start': [515], 'text': ['Saint Bernadette Soubirous']},\n",
              " 'context': 'Architecturally, the school has a Catholic character. Atop the Main Building\\'s gold dome is a golden statue of the Virgin Mary. Immediately in front of the Main Building and facing it, is a copper statue of Christ with arms upraised with the legend \"Venite Ad Me Omnes\". Next to the Main Building is the Basilica of the Sacred Heart. Immediately behind the basilica is the Grotto, a Marian place of prayer and reflection. It is a replica of the grotto at Lourdes, France where the Virgin Mary reputedly appeared to Saint Bernadette Soubirous in 1858. At the end of the main drive (and in a direct line that connects through 3 statues and the Gold Dome), is a simple, modern stone statue of Mary.',\n",
              " 'id': '5733be284776f41900661182',\n",
              " 'question': 'To whom did the Virgin Mary allegedly appear in 1858 in Lourdes France?',\n",
              " 'title': 'University_of_Notre_Dame'}"
            ]
          },
          "metadata": {},
          "execution_count": 59
        }
      ]
    },
    {
      "cell_type": "markdown",
      "metadata": {
        "id": "eZoohmBQP7Xl"
      },
      "source": [
        "And we are now going to collect the context in a list to create our new dataset."
      ]
    },
    {
      "cell_type": "code",
      "metadata": {
        "id": "VW_ClkKWawHf"
      },
      "source": [
        "list_context = []\n",
        "\n",
        "for elem in train_dataset:\n",
        "    context = elem[\"context\"]\n",
        "    if (not context in list_context):\n",
        "        list_context.append(context)"
      ],
      "execution_count": 60,
      "outputs": []
    },
    {
      "cell_type": "markdown",
      "metadata": {
        "id": "IgRuokHPbHSj"
      },
      "source": [
        "### The Dbpedia part"
      ]
    },
    {
      "cell_type": "markdown",
      "metadata": {
        "id": "0ntmZVreQDw0"
      },
      "source": [
        "Nous chargons le nouveau dataset (dbpedia)."
      ]
    },
    {
      "cell_type": "code",
      "metadata": {
        "colab": {
          "base_uri": "https://localhost:8080/",
          "height": 49,
          "referenced_widgets": [
            "da929917ab364fb99b00cc8abb6dce1f",
            "83ad3e9743ec4f328bb1b836df8cfe7d",
            "1416a194523e4fb5920e67d66f3cf8ca",
            "0971a362e0844cf780cd1926cb6e5bb7",
            "4da1511682fd4e37a548f862f5dab4ee",
            "e18fc32c7a704e79bda2d06aca1e7458",
            "7687f5415ac24dfe85b0f03109f774b9",
            "7941d270f0724f789e9c99c1812469b5",
            "359af605ab6b4b9ba88671c64ffce9ed",
            "00d772f71fb045f3a6759d0d79be8fa5",
            "3ead43583ab14b5ebdc4435dd5dbf0b3"
          ]
        },
        "id": "4lIz8xqMbJ6V",
        "outputId": "80782c4f-d28b-4242-c118-cf988214bfa2"
      },
      "source": [
        "dataset = \"dbpedia-entity\"\n",
        "url = \"https://public.ukp.informatik.tu-darmstadt.de/thakur/BEIR/datasets/dbpedia-entity.zip\".format(dataset)\n",
        "data_path = util.download_and_unzip(url, \"datasets\")\n",
        "corpus, queries, qrels = GenericDataLoader(data_folder=data_path).load(split=\"test\")"
      ],
      "execution_count": 61,
      "outputs": [
        {
          "output_type": "display_data",
          "data": {
            "application/vnd.jupyter.widget-view+json": {
              "model_id": "da929917ab364fb99b00cc8abb6dce1f",
              "version_minor": 0,
              "version_major": 2
            },
            "text/plain": [
              "  0%|          | 0/4635922 [00:00<?, ?it/s]"
            ]
          },
          "metadata": {}
        }
      ]
    },
    {
      "cell_type": "markdown",
      "metadata": {
        "id": "tR15gnA2QMhU"
      },
      "source": [
        "Creation d'une fonction pour recupérer les contextes de plus de 50 charactère et sans avoir de doublons."
      ]
    },
    {
      "cell_type": "code",
      "metadata": {
        "id": "K2mJV3B-bKBA"
      },
      "source": [
        "def get_n_random_text(n : int, corpus_dataset : Dict[str, Dict[str, str]]) -> List[str]:\n",
        "\n",
        "    corpus_list = list(corpus_dataset)\n",
        "    random_element = np.random.choice(corpus_list, n)\n",
        "\n",
        "    random_element = [corpus_dataset[elem][\"text\"] for elem in random_element]\n",
        "\n",
        "    random_element = [elem for elem in random_element if len(elem) >= 50]\n",
        "\n",
        "    random_element = np.unique(random_element)\n",
        "\n",
        "    return random_element"
      ],
      "execution_count": 62,
      "outputs": []
    },
    {
      "cell_type": "markdown",
      "metadata": {
        "id": "g4bcOC7NQXy1"
      },
      "source": [
        "Now we add our context to form our dataset."
      ]
    },
    {
      "cell_type": "code",
      "metadata": {
        "id": "yp1jJohlbVQ7"
      },
      "source": [
        "new_context = get_n_random_text(10000 - len(list_context) + 1500, corpus)"
      ],
      "execution_count": 63,
      "outputs": []
    },
    {
      "cell_type": "code",
      "metadata": {
        "id": "Ua2oqq-zbVUG"
      },
      "source": [
        "for elem in new_context:\n",
        "  if (not elem in list_context):\n",
        "    list_context.append(elem)"
      ],
      "execution_count": 64,
      "outputs": []
    },
    {
      "cell_type": "code",
      "metadata": {
        "colab": {
          "base_uri": "https://localhost:8080/"
        },
        "id": "bY1RkGPhQeyj",
        "outputId": "23dbe7c5-ea10-4172-83ad-8d91f457dcc1"
      },
      "source": [
        "len(list_context)"
      ],
      "execution_count": 65,
      "outputs": [
        {
          "output_type": "execute_result",
          "data": {
            "text/plain": [
              "11413"
            ]
          },
          "metadata": {},
          "execution_count": 65
        }
      ]
    },
    {
      "cell_type": "markdown",
      "metadata": {
        "id": "deHH65pBQe8A"
      },
      "source": [
        "So we have 11412 contexts now and we can make our calculations on a larger amount of data."
      ]
    },
    {
      "cell_type": "markdown",
      "metadata": {
        "id": "ty3ZUtmYdWHs"
      },
      "source": [
        "### Create question and context list"
      ]
    },
    {
      "cell_type": "markdown",
      "metadata": {
        "id": "NYdO0kDMQ-OC"
      },
      "source": [
        "In this part we will simply create a list of context with their index to be able to have a reference. We will also create the list of questions."
      ]
    },
    {
      "cell_type": "code",
      "metadata": {
        "id": "xqw3YYxqdVfV"
      },
      "source": [
        "list_context_index = [[i, list_context[i]] for i in range(len(list_context))]"
      ],
      "execution_count": 66,
      "outputs": []
    },
    {
      "cell_type": "code",
      "metadata": {
        "id": "HN4WriqNbVWc"
      },
      "source": [
        "question_dict = {}\n",
        "\n",
        "for elem in train_dataset:\n",
        "    question = elem[\"question\"]\n",
        "    context = elem[\"context\"]\n",
        "\n",
        "    index = -1\n",
        "    for elem in list_context_index:\n",
        "        if (elem[1] == context):\n",
        "            index = elem[0]\n",
        "            break\n",
        "\n",
        "    if (not question in question_dict):\n",
        "        question_dict[question] = [index]\n",
        "    else:\n",
        "        question_dict[question].append(index)"
      ],
      "execution_count": 67,
      "outputs": []
    },
    {
      "cell_type": "code",
      "metadata": {
        "id": "eIoHvGXfbKF1"
      },
      "source": [
        "question_list = []\n",
        "\n",
        "for elem in train_dataset:\n",
        "    question = elem[\"question\"]\n",
        "    if (not question in question_list):\n",
        "        question_list.append(question)"
      ],
      "execution_count": 68,
      "outputs": []
    },
    {
      "cell_type": "markdown",
      "metadata": {
        "id": "_nOQXKbteJq1"
      },
      "source": [
        "## Compute MRR\n"
      ]
    },
    {
      "cell_type": "markdown",
      "metadata": {
        "id": "w5bVAxqJRhCw"
      },
      "source": [
        "For errors we will calculate the MRR. This error uses the inverse of the result rank. That is, if we search for context c and it appears in the nth position then we have 1/n. And we make the sum for all the elements then we divide by the number of elements."
      ]
    },
    {
      "cell_type": "code",
      "metadata": {
        "id": "qt9sj0hyh7Ai"
      },
      "source": [
        "def compute_MRR(q_dict : Dict[str, List[int]],  q_result_list : List[List[str or List[int]]]) -> int:\n",
        "\n",
        "    total_sum = 0\n",
        "    nb_q = len(q_result_list)\n",
        "\n",
        "    for elem in q_result_list:\n",
        "        valid_context = q_dict[elem[0]]\n",
        "\n",
        "        find_the_good_elem = False\n",
        "        index = 0\n",
        "\n",
        "        for i in range(len(elem[1])):\n",
        "          \n",
        "            if (elem[1][i][0] in valid_context):\n",
        "                find_the_good_elem = True\n",
        "                index = i\n",
        "                break\n",
        "\n",
        "        if (find_the_good_elem):\n",
        "            total_sum += (1 / (index + 1))\n",
        "\n",
        "    return total_sum / nb_q"
      ],
      "execution_count": 69,
      "outputs": []
    },
    {
      "cell_type": "markdown",
      "metadata": {
        "id": "cGaRutGAhzkz"
      },
      "source": [
        "## Choose the best model"
      ]
    },
    {
      "cell_type": "markdown",
      "metadata": {
        "id": "aUxm1eKBRq5w"
      },
      "source": [
        "We create the list of models that we want to create. For each model we have the function of similiarity that it corresponds"
      ]
    },
    {
      "cell_type": "code",
      "metadata": {
        "id": "P62hiwq7eI1A"
      },
      "source": [
        "model_list = [['msmarco-distilbert-base-v4', 'cos'], ['msmarco-distilbert-base-v3', 'cos'], ['msmarco-distilbert-base-dot-prod-v3', 'dot'], ['msmarco-distilbert-base-tas-b', 'dot']]"
      ],
      "execution_count": 70,
      "outputs": []
    },
    {
      "cell_type": "markdown",
      "metadata": {
        "id": "vFR908qBRrhA"
      },
      "source": [
        "For each model we will calculate the list of smiliratities of all the contexts with the question then sort this list and finally calculate the MR. \n",
        "\n",
        "For the comparison we will compare the MRR and the execution time."
      ]
    },
    {
      "cell_type": "code",
      "metadata": {
        "id": "f1UbGhLLikhv"
      },
      "source": [
        "def try_a_model_part(model : str, simil_function : str) -> List[List[str or List[List[int]]]]:\n",
        "    model = SentenceTransformer(model)\n",
        "\n",
        "    list_formated_context = model.encode(list_context[:2000], device='cuda', show_progress_bar=True)\n",
        "    list_formated_context = [[list_context[i], list_formated_context[i], i] for i in range(len(list_formated_context))]\n",
        "\n",
        "    list_question_result = model.encode(question_list[:2000], device='cuda', show_progress_bar=False)\n",
        "    list_question_result = [[question_list[i], list_question_result[i]] for i in range(len(list_question_result))]\n",
        "\n",
        "    list_final = []\n",
        "\n",
        "    for elem in list_question_result:\n",
        "        question_formated = elem[1]\n",
        "\n",
        "        list_sim_question = []\n",
        "\n",
        "        for context_elem in list_formated_context:\n",
        "\n",
        "            if (simil_function == 'cos'):\n",
        "                list_sim_question.append([context_elem[2], sentence_transformers.util.pytorch_cos_sim(context_elem[1], question_formated)])\n",
        "            elif (simil_function == 'dot'):\n",
        "                list_sim_question.append([context_elem[2], sentence_transformers.util.dot_score(context_elem[1], question_formated)])\n",
        "        \n",
        "        list_sim_question = sorted(list_sim_question, key=itemgetter(1), reverse=True)\n",
        "\n",
        "        list_final.append([elem[0], list_sim_question[:20]])\n",
        "\n",
        "    return list_final"
      ],
      "execution_count": 71,
      "outputs": []
    },
    {
      "cell_type": "code",
      "metadata": {
        "colab": {
          "base_uri": "https://localhost:8080/",
          "height": 145,
          "referenced_widgets": [
            "19e95e4c9155420286060a3a7344c8fc",
            "9a9ae2bb8aa442b3b76c3574b599b3fb",
            "33cc3def5eb9490f9121952019f897b1",
            "cedc394595b54094b46ac43f1c7afd5b",
            "a8c97d2fd1ab475b94a86c71135efb3c",
            "acb6100517a34d49a73c01e59a18a513",
            "fc079d0bec3c49b4a1e1249ea2226c81",
            "53b1a916cb7241a299457a51630a0a85",
            "32830d8a2a144147a8de96bddcf3a7f2",
            "311e9a5a43424869ae1743b6a0424809",
            "02e453a995ff48eb9654c2ae0c90452c",
            "2f63cb532a54424d8640ed56f2c26f44",
            "a1e48bd8cc9e4869903f74b8acbad1db",
            "7627777d9f954031b3e4c4a47bcf0be2",
            "6d4d058321fd445b934efd203c10be00",
            "92ed5467824e4893a084c6990d6442f2",
            "55ec09e7b52448409af82f23e9711351",
            "fbe081ea0c01425e8f9c357416cfebc9",
            "59db14296c2d49d081b9bda1c5c7d8ba",
            "6a29f5987be04c4cb10536a783b984ae",
            "f5e7194a2357479187ae187623b37186",
            "f2b8e02d72be4a229a450682cacce319",
            "1d29eb6ce7bf4dd9b3fc09e6cb112fb0",
            "c811cdd438244c36a6f58dd8aaf5efcd",
            "71f1e1304ed64cc89d2a572bf6352f3d",
            "7db9f80a155d4007a1e9e8689113351f",
            "9a8e6f9e69574175b2d0d04c50b64d0c",
            "dd19c0942eb74deb92b0b5ecb85d72b5",
            "5bb1a5316e4e42eaad20db9a31485582",
            "eecbb375477a454fbbfd0e9d93d63157",
            "feee3eff197e44618cde6540e74d4362",
            "d87fd6059bc04d0ea0cebc7eea9b36fa",
            "4e010eedc78745b4806ea6c20f395b61",
            "4812de5910e64f4da128bb706452a609",
            "e14ef0de110b47a8b20cb82c0841beaf",
            "56d993ec465f412a94747d1e04b4c640",
            "bf30257a2210459e8dc907239f8aa3da",
            "fe8bd8a3e465435f9a8c3ca63752bc99",
            "99b62d2044f147f388380e0a8d4306d5",
            "ea70ccd3b4f6434ebb6c7effd0a247a6",
            "44bff27793524e609a656cd2b9a16baf",
            "4460b78c5d314acaa81cde77a18c1ccb",
            "e5f0fa81f2b24990957992de744c6380",
            "23500efc4d7049a1ac203fd034beab67"
          ]
        },
        "id": "c1WAHToYBWd1",
        "outputId": "e0c0179d-d9f2-483d-c199-02f6c12dff25"
      },
      "source": [
        "str_result = \"\"\n",
        "\n",
        "for elem in model_list:\n",
        "    start_time = time.time()\n",
        "    temp = try_a_model_part(elem[0], elem[1])\n",
        "    MRR_value = compute_MRR(question_dict, temp)\n",
        "    total_time = time.time() - start_time\n",
        "\n",
        "    str_result += \"For the model \" + elem[0] + \" we have a MRR of \" + str(MRR_value) + \" and a computation time of \" + str(round(total_time, 2)) + \" secondes.\\n\""
      ],
      "execution_count": 72,
      "outputs": [
        {
          "output_type": "display_data",
          "data": {
            "application/vnd.jupyter.widget-view+json": {
              "model_id": "19e95e4c9155420286060a3a7344c8fc",
              "version_minor": 0,
              "version_major": 2
            },
            "text/plain": [
              "Batches:   0%|          | 0/63 [00:00<?, ?it/s]"
            ]
          },
          "metadata": {}
        },
        {
          "output_type": "display_data",
          "data": {
            "application/vnd.jupyter.widget-view+json": {
              "model_id": "2f63cb532a54424d8640ed56f2c26f44",
              "version_minor": 0,
              "version_major": 2
            },
            "text/plain": [
              "Batches:   0%|          | 0/63 [00:00<?, ?it/s]"
            ]
          },
          "metadata": {}
        },
        {
          "output_type": "display_data",
          "data": {
            "application/vnd.jupyter.widget-view+json": {
              "model_id": "1d29eb6ce7bf4dd9b3fc09e6cb112fb0",
              "version_minor": 0,
              "version_major": 2
            },
            "text/plain": [
              "Batches:   0%|          | 0/63 [00:00<?, ?it/s]"
            ]
          },
          "metadata": {}
        },
        {
          "output_type": "display_data",
          "data": {
            "application/vnd.jupyter.widget-view+json": {
              "model_id": "4812de5910e64f4da128bb706452a609",
              "version_minor": 0,
              "version_major": 2
            },
            "text/plain": [
              "Batches:   0%|          | 0/63 [00:00<?, ?it/s]"
            ]
          },
          "metadata": {}
        }
      ]
    },
    {
      "cell_type": "code",
      "metadata": {
        "colab": {
          "base_uri": "https://localhost:8080/"
        },
        "id": "YzjlLtc0DSia",
        "outputId": "710e2a58-6d7c-4b86-810c-26a019eb0872"
      },
      "source": [
        "print(str_result)"
      ],
      "execution_count": 73,
      "outputs": [
        {
          "output_type": "stream",
          "name": "stdout",
          "text": [
            "For the model msmarco-distilbert-base-v4 we have a MRR of 0.61883334041904 and a computation time of 351.68 secondes.\n",
            "For the model msmarco-distilbert-base-v3 we have a MRR of 0.6035525153939627 and a computation time of 349.94 secondes.\n",
            "For the model msmarco-distilbert-base-dot-prod-v3 we have a MRR of 0.6124762715462214 and a computation time of 190.22 secondes.\n",
            "For the model msmarco-distilbert-base-tas-b we have a MRR of 0.6919105011496064 and a computation time of 187.79 secondes.\n",
            "\n"
          ]
        }
      ]
    },
    {
      "cell_type": "markdown",
      "metadata": {
        "id": "FBm70Q6CSCGp"
      },
      "source": [
        "For the base v4 and base v3 models we have good results, around 0.6 MRR but with execution times of more than 300seconds.\n",
        "\n",
        "While the dot and heap models also have at least 0.6 MRR but with less than 200 seconds of computing time.\n",
        "\n",
        "We will thus take the last model to be tested which is the tas-b model with an MRR of 0.69 and a calculation time of 187.06 seconds."
      ]
    },
    {
      "cell_type": "markdown",
      "metadata": {
        "id": "vS5zMz3WUx0I"
      },
      "source": [
        "Au vu des résultats nous allons choisir le model 'msmarco-distilbert-base-tas-b'. Nous pouvons donc maintenant le train sur le dataset entier."
      ]
    },
    {
      "cell_type": "code",
      "metadata": {
        "id": "EecMD613UxLH"
      },
      "source": [
        "def run_the_full_model(model : str) -> List[List[List[int] or List[List[int]] or int]]:\n",
        "\n",
        "    model = SentenceTransformer(model)\n",
        "\n",
        "    list_formated_context = model.encode(list_context, device='cuda', show_progress_bar=True)\n",
        "    list_formated_context = [[list_context[i], list_formated_context[i], i] for i in range(len(list_formated_context))]\n",
        "\n",
        "    return list_formated_context"
      ],
      "execution_count": 74,
      "outputs": []
    },
    {
      "cell_type": "code",
      "metadata": {
        "colab": {
          "base_uri": "https://localhost:8080/",
          "height": 49,
          "referenced_widgets": [
            "04dae5967f734f53a477745d1634439b",
            "a8179387b69a437ca5930c81001b1a4e",
            "b18975a2f7f047d584cab9cc9a5aaeb9",
            "b780ff9ec48e4b5b8bc3a83a1665b7fd",
            "1ce8698cfcd14c818a1a365315861925",
            "57bddb37bef446dd91c669216243db14",
            "9d00fec626f147819b3ec47ffd8f68d2",
            "c98605435f4e46c68c69f0c0628169c9",
            "1713ac4fe6cb490c826437360a436f96",
            "e5de641b8b3541e08a2876eeee8d0e5c",
            "0fa3b27d87ca4aa1b95b732b350aa17b"
          ]
        },
        "id": "j8oLs3fYUxRX",
        "outputId": "4db461a1-0a66-4b89-f527-b1fc3ba208ad"
      },
      "source": [
        "formated_context = run_the_full_model('msmarco-distilbert-base-tas-b')"
      ],
      "execution_count": 75,
      "outputs": [
        {
          "output_type": "display_data",
          "data": {
            "application/vnd.jupyter.widget-view+json": {
              "model_id": "04dae5967f734f53a477745d1634439b",
              "version_minor": 0,
              "version_major": 2
            },
            "text/plain": [
              "Batches:   0%|          | 0/357 [00:00<?, ?it/s]"
            ]
          },
          "metadata": {}
        }
      ]
    },
    {
      "cell_type": "code",
      "metadata": {
        "id": "Bka_2xxHchO4"
      },
      "source": [
        "model = SentenceTransformer('msmarco-distilbert-base-tas-b')"
      ],
      "execution_count": 76,
      "outputs": []
    },
    {
      "cell_type": "markdown",
      "metadata": {
        "id": "PeOEUc8aD2Oj"
      },
      "source": [
        "## Nearest Neigbourg\n"
      ]
    },
    {
      "cell_type": "markdown",
      "metadata": {
        "id": "aWy-8zSiTc92"
      },
      "source": [
        "For the nearest neighbor we will use the algotihme of the hnswlib library, for the code it is taken from the example in the github of the project. We simply use our previously calculated data."
      ]
    },
    {
      "cell_type": "markdown",
      "metadata": {
        "id": "v32CFat8Uf4T"
      },
      "source": [
        "###  hnswlib"
      ]
    },
    {
      "cell_type": "markdown",
      "metadata": {
        "id": "uPf-Jn7JUGui"
      },
      "source": [
        "For the analysis function we will base on the first 500 questions and we will test it for parameters and take the best results"
      ]
    },
    {
      "cell_type": "code",
      "metadata": {
        "id": "vKLi1v_ti-wi"
      },
      "source": [
        "def compure_MMR_for_param(param1 : int, param2 : int, param3 : int) -> int:\n",
        "    start_time = time.time()\n",
        "\n",
        "    dim = len(formated_context[0][1])\n",
        "    num_elements = len(formated_context)\n",
        "\n",
        "    p = hnswlib.Index(space = 'ip', dim = dim)\n",
        "    p.init_index(max_elements = num_elements, ef_construction = param1, M = param2)\n",
        "\n",
        "    datas = [elem[1] for elem in formated_context]\n",
        "    indexs = [elem[2] for elem in formated_context]\n",
        "\n",
        "    p.add_items(datas, indexs)\n",
        "\n",
        "    list_question_result = []\n",
        "\n",
        "    list_question_result = model.encode(question_list[:500], device='cuda', show_progress_bar=False)\n",
        "    list_question_result = [[question_list[i], list_question_result[i]] for i in range(len(list_question_result))]\n",
        "\n",
        "    final_list = []\n",
        "\n",
        "    for elem in list_question_result:\n",
        "        labels, distances = p.knn_query(elem[1], k = param3)\n",
        "        list_to_add = [elem[0]]\n",
        "        list_index_dist = []\n",
        "        for i in range(len(distances[0])):\n",
        "          list_index_dist.append([labels[0][i], distances[0][i]])\n",
        "        list_to_add.append(list_index_dist)\n",
        "        final_list.append(list_to_add)\n",
        "\n",
        "    MRR_value = compute_MRR(question_dict, final_list)\n",
        "\n",
        "    total_time = round(time.time() - start_time, 2)\n",
        "\n",
        "    print(\"ef_construction = \", param1, \", M = \", param2, \", k = \", param3, \". And we have a MRR of \", MRR_value, \"for a time of \", total_time, \"secondes.\")\n",
        "    \n",
        "    return MRR_value"
      ],
      "execution_count": 77,
      "outputs": []
    },
    {
      "cell_type": "code",
      "metadata": {
        "id": "4C1jZIPOj-Tl"
      },
      "source": [
        "param1_list = [100, 150, 200, 250, 300]\n",
        "param2_list = [10, 14, 18, 22, 26]\n",
        "param3_list = [15, 30, 45, 60]"
      ],
      "execution_count": 78,
      "outputs": []
    },
    {
      "cell_type": "code",
      "metadata": {
        "colab": {
          "base_uri": "https://localhost:8080/"
        },
        "id": "D51PLipskkVc",
        "outputId": "dcf5ba5c-baf9-4ade-cced-6a23e88df014"
      },
      "source": [
        "best_value = 0\n",
        "\n",
        "for param1 in param1_list:\n",
        "    for param2 in param2_list:\n",
        "        for param3 in param3_list:\n",
        "          value = compure_MMR_for_param(param1, param2, param3)\n",
        "\n",
        "          print(value)\n",
        "\n",
        "          if (value > best_value):\n",
        "            best_value = value\n",
        "            print(\"\\n\\n--------------------------------------------------------------------------\")\n",
        "            print(\"We have a new best value of MRR of \", best_value, \"for the param \", param1, param2, param3, \"!\")\n",
        "            print(\"--------------------------------------------------------------------------\\n\\n\")"
      ],
      "execution_count": 79,
      "outputs": [
        {
          "output_type": "stream",
          "name": "stdout",
          "text": [
            "ef_construction =  100 , M =  10 , k =  15 . And we have a MRR of  0.5866302752802751 for a time of  1.37 secondes.\n",
            "0.5866302752802751\n",
            "\n",
            "\n",
            "--------------------------------------------------------------------------\n",
            "We have a new best value of MRR of  0.5866302752802751 for the param  100 10 15 !\n",
            "--------------------------------------------------------------------------\n",
            "\n",
            "\n",
            "ef_construction =  100 , M =  10 , k =  30 . And we have a MRR of  0.6113932342262767 for a time of  1.24 secondes.\n",
            "0.6113932342262767\n",
            "\n",
            "\n",
            "--------------------------------------------------------------------------\n",
            "We have a new best value of MRR of  0.6113932342262767 for the param  100 10 30 !\n",
            "--------------------------------------------------------------------------\n",
            "\n",
            "\n",
            "ef_construction =  100 , M =  10 , k =  45 . And we have a MRR of  0.6119476272015288 for a time of  2.05 secondes.\n",
            "0.6119476272015288\n",
            "\n",
            "\n",
            "--------------------------------------------------------------------------\n",
            "We have a new best value of MRR of  0.6119476272015288 for the param  100 10 45 !\n",
            "--------------------------------------------------------------------------\n",
            "\n",
            "\n",
            "ef_construction =  100 , M =  10 , k =  60 . And we have a MRR of  0.6157493896907724 for a time of  1.29 secondes.\n",
            "0.6157493896907724\n",
            "\n",
            "\n",
            "--------------------------------------------------------------------------\n",
            "We have a new best value of MRR of  0.6157493896907724 for the param  100 10 60 !\n",
            "--------------------------------------------------------------------------\n",
            "\n",
            "\n",
            "ef_construction =  100 , M =  14 , k =  15 . And we have a MRR of  0.592310578310578 for a time of  1.35 secondes.\n",
            "0.592310578310578\n",
            "ef_construction =  100 , M =  14 , k =  30 . And we have a MRR of  0.6256473972854396 for a time of  1.38 secondes.\n",
            "0.6256473972854396\n",
            "\n",
            "\n",
            "--------------------------------------------------------------------------\n",
            "We have a new best value of MRR of  0.6256473972854396 for the param  100 14 30 !\n",
            "--------------------------------------------------------------------------\n",
            "\n",
            "\n",
            "ef_construction =  100 , M =  14 , k =  45 . And we have a MRR of  0.6146723097897577 for a time of  1.39 secondes.\n",
            "0.6146723097897577\n",
            "ef_construction =  100 , M =  14 , k =  60 . And we have a MRR of  0.6238072782216789 for a time of  1.43 secondes.\n",
            "0.6238072782216789\n",
            "ef_construction =  100 , M =  18 , k =  15 . And we have a MRR of  0.6100694305694301 for a time of  1.38 secondes.\n",
            "0.6100694305694301\n",
            "ef_construction =  100 , M =  18 , k =  30 . And we have a MRR of  0.6192381786098273 for a time of  1.43 secondes.\n",
            "0.6192381786098273\n",
            "ef_construction =  100 , M =  18 , k =  45 . And we have a MRR of  0.6245348721729084 for a time of  2.27 secondes.\n",
            "0.6245348721729084\n",
            "ef_construction =  100 , M =  18 , k =  60 . And we have a MRR of  0.6265664063087615 for a time of  1.48 secondes.\n",
            "0.6265664063087615\n",
            "\n",
            "\n",
            "--------------------------------------------------------------------------\n",
            "We have a new best value of MRR of  0.6265664063087615 for the param  100 18 60 !\n",
            "--------------------------------------------------------------------------\n",
            "\n",
            "\n",
            "ef_construction =  100 , M =  22 , k =  15 . And we have a MRR of  0.6153367687867682 for a time of  1.46 secondes.\n",
            "0.6153367687867682\n",
            "ef_construction =  100 , M =  22 , k =  30 . And we have a MRR of  0.6272323263901515 for a time of  1.45 secondes.\n",
            "0.6272323263901515\n",
            "\n",
            "\n",
            "--------------------------------------------------------------------------\n",
            "We have a new best value of MRR of  0.6272323263901515 for the param  100 22 30 !\n",
            "--------------------------------------------------------------------------\n",
            "\n",
            "\n",
            "ef_construction =  100 , M =  22 , k =  45 . And we have a MRR of  0.6296201065767475 for a time of  1.5 secondes.\n",
            "0.6296201065767475\n",
            "\n",
            "\n",
            "--------------------------------------------------------------------------\n",
            "We have a new best value of MRR of  0.6296201065767475 for the param  100 22 45 !\n",
            "--------------------------------------------------------------------------\n",
            "\n",
            "\n",
            "ef_construction =  100 , M =  22 , k =  60 . And we have a MRR of  0.6324804236477802 for a time of  1.55 secondes.\n",
            "0.6324804236477802\n",
            "\n",
            "\n",
            "--------------------------------------------------------------------------\n",
            "We have a new best value of MRR of  0.6324804236477802 for the param  100 22 60 !\n",
            "--------------------------------------------------------------------------\n",
            "\n",
            "\n",
            "ef_construction =  100 , M =  26 , k =  15 . And we have a MRR of  0.6191701021201017 for a time of  1.49 secondes.\n",
            "0.6191701021201017\n",
            "ef_construction =  100 , M =  26 , k =  30 . And we have a MRR of  0.6268569992336478 for a time of  1.49 secondes.\n",
            "0.6268569992336478\n",
            "ef_construction =  100 , M =  26 , k =  45 . And we have a MRR of  0.6305901642968051 for a time of  1.52 secondes.\n",
            "0.6305901642968051\n",
            "ef_construction =  100 , M =  26 , k =  60 . And we have a MRR of  0.6305881456805008 for a time of  2.39 secondes.\n",
            "0.6305881456805008\n",
            "ef_construction =  150 , M =  10 , k =  15 . And we have a MRR of  0.5856230103230102 for a time of  1.54 secondes.\n",
            "0.5856230103230102\n",
            "ef_construction =  150 , M =  10 , k =  30 . And we have a MRR of  0.611576411566178 for a time of  1.57 secondes.\n",
            "0.611576411566178\n",
            "ef_construction =  150 , M =  10 , k =  45 . And we have a MRR of  0.616829287433189 for a time of  1.6 secondes.\n",
            "0.616829287433189\n",
            "ef_construction =  150 , M =  10 , k =  60 . And we have a MRR of  0.6216536229108619 for a time of  1.63 secondes.\n",
            "0.6216536229108619\n",
            "ef_construction =  150 , M =  14 , k =  15 . And we have a MRR of  0.5950248418248416 for a time of  1.73 secondes.\n",
            "0.5950248418248416\n",
            "ef_construction =  150 , M =  14 , k =  30 . And we have a MRR of  0.6230661525068266 for a time of  1.82 secondes.\n",
            "0.6230661525068266\n",
            "ef_construction =  150 , M =  14 , k =  45 . And we have a MRR of  0.6113381671208326 for a time of  1.83 secondes.\n",
            "0.6113381671208326\n",
            "ef_construction =  150 , M =  14 , k =  60 . And we have a MRR of  0.6269018359986944 for a time of  2.63 secondes.\n",
            "0.6269018359986944\n",
            "ef_construction =  150 , M =  18 , k =  15 . And we have a MRR of  0.6043795537795533 for a time of  1.99 secondes.\n",
            "0.6043795537795533\n",
            "ef_construction =  150 , M =  18 , k =  30 . And we have a MRR of  0.6142742883171135 for a time of  1.92 secondes.\n",
            "0.6142742883171135\n",
            "ef_construction =  150 , M =  18 , k =  45 . And we have a MRR of  0.6274110508176919 for a time of  1.94 secondes.\n",
            "0.6274110508176919\n",
            "ef_construction =  150 , M =  18 , k =  60 . And we have a MRR of  0.6306379115704857 for a time of  1.98 secondes.\n",
            "0.6306379115704857\n",
            "ef_construction =  150 , M =  22 , k =  15 . And we have a MRR of  0.6172718115218111 for a time of  1.93 secondes.\n",
            "0.6172718115218111\n",
            "ef_construction =  150 , M =  22 , k =  30 . And we have a MRR of  0.6264985240813492 for a time of  1.97 secondes.\n",
            "0.6264985240813492\n",
            "ef_construction =  150 , M =  22 , k =  45 . And we have a MRR of  0.6292897971802617 for a time of  2.06 secondes.\n",
            "0.6292897971802617\n",
            "ef_construction =  150 , M =  22 , k =  60 . And we have a MRR of  0.632245410637766 for a time of  2.01 secondes.\n",
            "0.632245410637766\n",
            "ef_construction =  150 , M =  26 , k =  15 . And we have a MRR of  0.6127471361971356 for a time of  1.96 secondes.\n",
            "0.6127471361971356\n",
            "ef_construction =  150 , M =  26 , k =  30 . And we have a MRR of  0.6264764605892857 for a time of  2.74 secondes.\n",
            "0.6264764605892857\n",
            "ef_construction =  150 , M =  26 , k =  45 . And we have a MRR of  0.6301126326780971 for a time of  2.11 secondes.\n",
            "0.6301126326780971\n",
            "ef_construction =  150 , M =  26 , k =  60 . And we have a MRR of  0.632245410637766 for a time of  2.14 secondes.\n",
            "0.632245410637766\n",
            "ef_construction =  200 , M =  10 , k =  15 . And we have a MRR of  0.6041341214341212 for a time of  1.84 secondes.\n",
            "0.6041341214341212\n",
            "ef_construction =  200 , M =  10 , k =  30 . And we have a MRR of  0.6077250662831089 for a time of  1.9 secondes.\n",
            "0.6077250662831089\n",
            "ef_construction =  200 , M =  10 , k =  45 . And we have a MRR of  0.6091581019120035 for a time of  1.88 secondes.\n",
            "0.6091581019120035\n",
            "ef_construction =  200 , M =  10 , k =  60 . And we have a MRR of  0.6145306276318978 for a time of  1.91 secondes.\n",
            "0.6145306276318978\n",
            "ef_construction =  200 , M =  14 , k =  15 . And we have a MRR of  0.6055691142191136 for a time of  2.17 secondes.\n",
            "0.6055691142191136\n",
            "ef_construction =  200 , M =  14 , k =  30 . And we have a MRR of  0.6244394786251526 for a time of  2.12 secondes.\n",
            "0.6244394786251526\n",
            "ef_construction =  200 , M =  14 , k =  45 . And we have a MRR of  0.6274633421165957 for a time of  2.2 secondes.\n",
            "0.6274633421165957\n",
            "ef_construction =  200 , M =  14 , k =  60 . And we have a MRR of  0.6221789227605637 for a time of  3.0 secondes.\n",
            "0.6221789227605637\n",
            "ef_construction =  200 , M =  18 , k =  15 . And we have a MRR of  0.6083064657564654 for a time of  2.3 secondes.\n",
            "0.6083064657564654\n",
            "ef_construction =  200 , M =  18 , k =  30 . And we have a MRR of  0.6188947145575397 for a time of  2.38 secondes.\n",
            "0.6188947145575397\n",
            "ef_construction =  200 , M =  18 , k =  45 . And we have a MRR of  0.6276180281540807 for a time of  2.4 secondes.\n",
            "0.6276180281540807\n",
            "ef_construction =  200 , M =  18 , k =  60 . And we have a MRR of  0.6307414580685959 for a time of  2.53 secondes.\n",
            "0.6307414580685959\n",
            "ef_construction =  200 , M =  22 , k =  15 . And we have a MRR of  0.6176636807636802 for a time of  2.56 secondes.\n",
            "0.6176636807636802\n",
            "ef_construction =  200 , M =  22 , k =  30 . And we have a MRR of  0.62634159130824 for a time of  2.45 secondes.\n",
            "0.62634159130824\n",
            "ef_construction =  200 , M =  22 , k =  45 . And we have a MRR of  0.6292758064324474 for a time of  2.47 secondes.\n",
            "0.6292758064324474\n",
            "ef_construction =  200 , M =  22 , k =  60 . And we have a MRR of  0.6322404479675857 for a time of  3.31 secondes.\n",
            "0.6322404479675857\n",
            "ef_construction =  200 , M =  26 , k =  15 . And we have a MRR of  0.613791458541458 for a time of  2.48 secondes.\n",
            "0.613791458541458\n",
            "ef_construction =  200 , M =  26 , k =  30 . And we have a MRR of  0.626184210355859 for a time of  2.54 secondes.\n",
            "0.626184210355859\n",
            "ef_construction =  200 , M =  26 , k =  45 . And we have a MRR of  0.6292070474136883 for a time of  2.55 secondes.\n",
            "0.6292070474136883\n",
            "ef_construction =  200 , M =  26 , k =  60 . And we have a MRR of  0.632239481784011 for a time of  2.59 secondes.\n",
            "0.632239481784011\n",
            "ef_construction =  250 , M =  10 , k =  15 . And we have a MRR of  0.6054636086136085 for a time of  2.09 secondes.\n",
            "0.6054636086136085\n",
            "ef_construction =  250 , M =  10 , k =  30 . And we have a MRR of  0.6164911626703816 for a time of  2.21 secondes.\n",
            "0.6164911626703816\n",
            "ef_construction =  250 , M =  10 , k =  45 . And we have a MRR of  0.6151683694222709 for a time of  2.2 secondes.\n",
            "0.6151683694222709\n",
            "ef_construction =  250 , M =  10 , k =  60 . And we have a MRR of  0.6145306276318978 for a time of  3.0 secondes.\n",
            "0.6145306276318978\n",
            "ef_construction =  250 , M =  14 , k =  15 . And we have a MRR of  0.596298701298701 for a time of  2.45 secondes.\n",
            "0.596298701298701\n",
            "ef_construction =  250 , M =  14 , k =  30 . And we have a MRR of  0.6083317802124543 for a time of  2.5 secondes.\n",
            "0.6083317802124543\n",
            "ef_construction =  250 , M =  14 , k =  45 . And we have a MRR of  0.62141470447237 for a time of  2.5 secondes.\n",
            "0.62141470447237\n",
            "ef_construction =  250 , M =  14 , k =  60 . And we have a MRR of  0.6307684832001242 for a time of  2.5 secondes.\n",
            "0.6307684832001242\n",
            "ef_construction =  250 , M =  18 , k =  15 . And we have a MRR of  0.59899627039627 for a time of  2.62 secondes.\n",
            "0.59899627039627\n",
            "ef_construction =  250 , M =  18 , k =  30 . And we have a MRR of  0.6198200598172405 for a time of  2.73 secondes.\n",
            "0.6198200598172405\n",
            "ef_construction =  250 , M =  18 , k =  45 . And we have a MRR of  0.6297356752129043 for a time of  2.71 secondes.\n",
            "0.6297356752129043\n",
            "ef_construction =  250 , M =  18 , k =  60 . And we have a MRR of  0.6288636802908181 for a time of  2.71 secondes.\n",
            "0.6288636802908181\n",
            "ef_construction =  250 , M =  22 , k =  15 . And we have a MRR of  0.6192540848040843 for a time of  2.77 secondes.\n",
            "0.6192540848040843\n",
            "ef_construction =  250 , M =  22 , k =  30 . And we have a MRR of  0.6268865913082399 for a time of  3.56 secondes.\n",
            "0.6268865913082399\n",
            "ef_construction =  250 , M =  22 , k =  45 . And we have a MRR of  0.6271752155818566 for a time of  2.9 secondes.\n",
            "0.6271752155818566\n",
            "ef_construction =  250 , M =  22 , k =  60 . And we have a MRR of  0.6322404479675857 for a time of  2.85 secondes.\n",
            "0.6322404479675857\n",
            "ef_construction =  250 , M =  26 , k =  15 . And we have a MRR of  0.616113608613608 for a time of  2.85 secondes.\n",
            "0.616113608613608\n",
            "ef_construction =  250 , M =  26 , k =  30 . And we have a MRR of  0.6265199246415732 for a time of  2.86 secondes.\n",
            "0.6265199246415732\n",
            "ef_construction =  250 , M =  26 , k =  45 . And we have a MRR of  0.6272144003548648 for a time of  2.9 secondes.\n",
            "0.6272144003548648\n",
            "ef_construction =  250 , M =  26 , k =  60 . And we have a MRR of  0.632239481784011 for a time of  2.97 secondes.\n",
            "0.632239481784011\n",
            "ef_construction =  300 , M =  10 , k =  15 . And we have a MRR of  0.5936872960372959 for a time of  2.26 secondes.\n",
            "0.5936872960372959\n",
            "ef_construction =  300 , M =  10 , k =  30 . And we have a MRR of  0.6184398351910567 for a time of  2.29 secondes.\n",
            "0.6184398351910567\n",
            "ef_construction =  300 , M =  10 , k =  45 . And we have a MRR of  0.6122265983278685 for a time of  3.17 secondes.\n",
            "0.6122265983278685\n",
            "ef_construction =  300 , M =  10 , k =  60 . And we have a MRR of  0.6223055305068007 for a time of  2.36 secondes.\n",
            "0.6223055305068007\n",
            "ef_construction =  300 , M =  14 , k =  15 . And we have a MRR of  0.5971264291264288 for a time of  2.66 secondes.\n",
            "0.5971264291264288\n",
            "ef_construction =  300 , M =  14 , k =  30 . And we have a MRR of  0.6138501648996625 for a time of  2.73 secondes.\n",
            "0.6138501648996625\n",
            "ef_construction =  300 , M =  14 , k =  45 . And we have a MRR of  0.621560479307339 for a time of  2.78 secondes.\n",
            "0.621560479307339\n",
            "ef_construction =  300 , M =  14 , k =  60 . And we have a MRR of  0.622564173661032 for a time of  2.8 secondes.\n",
            "0.622564173661032\n",
            "ef_construction =  300 , M =  18 , k =  15 . And we have a MRR of  0.6084249361749358 for a time of  2.96 secondes.\n",
            "0.6084249361749358\n",
            "ef_construction =  300 , M =  18 , k =  30 . And we have a MRR of  0.6257662613058105 for a time of  3.02 secondes.\n",
            "0.6257662613058105\n",
            "ef_construction =  300 , M =  18 , k =  45 . And we have a MRR of  0.6256556925265278 for a time of  3.01 secondes.\n",
            "0.6256556925265278\n",
            "ef_construction =  300 , M =  18 , k =  60 . And we have a MRR of  0.6267515537453042 for a time of  3.87 secondes.\n",
            "0.6267515537453042\n",
            "ef_construction =  300 , M =  22 , k =  15 . And we have a MRR of  0.6183963425463421 for a time of  3.14 secondes.\n",
            "0.6183963425463421\n",
            "ef_construction =  300 , M =  22 , k =  30 . And we have a MRR of  0.6252320679046756 for a time of  3.15 secondes.\n",
            "0.6252320679046756\n",
            "ef_construction =  300 , M =  22 , k =  45 . And we have a MRR of  0.6295510796777206 for a time of  3.21 secondes.\n",
            "0.6295510796777206\n",
            "ef_construction =  300 , M =  22 , k =  60 . And we have a MRR of  0.63256682477918 for a time of  3.22 secondes.\n",
            "0.63256682477918\n",
            "\n",
            "\n",
            "--------------------------------------------------------------------------\n",
            "We have a new best value of MRR of  0.63256682477918 for the param  300 22 60 !\n",
            "--------------------------------------------------------------------------\n",
            "\n",
            "\n",
            "ef_construction =  300 , M =  26 , k =  15 . And we have a MRR of  0.6145653402153398 for a time of  3.24 secondes.\n",
            "0.6145653402153398\n",
            "ef_construction =  300 , M =  26 , k =  30 . And we have a MRR of  0.6264255082083334 for a time of  3.32 secondes.\n",
            "0.6264255082083334\n",
            "ef_construction =  300 , M =  26 , k =  45 . And we have a MRR of  0.6272034912639557 for a time of  3.32 secondes.\n",
            "0.6272034912639557\n",
            "ef_construction =  300 , M =  26 , k =  60 . And we have a MRR of  0.6322334914458466 for a time of  4.14 secondes.\n",
            "0.6322334914458466\n"
          ]
        }
      ]
    },
    {
      "cell_type": "markdown",
      "metadata": {
        "id": "gFU2Oxa0UWr_"
      },
      "source": [
        "So we found our optimal parameters which are: ef_construction = 300, M = 22 and with the list of the 60 closest contexts.\n",
        "\n",
        "We can now create the model that corresponds to these parameters and create the function that will allow us to use it and read it in part 1."
      ]
    },
    {
      "cell_type": "code",
      "metadata": {
        "id": "smotgJ3ckkaP"
      },
      "source": [
        "    dim = len(formated_context[0][1])\n",
        "    num_elements = len(formated_context)\n",
        "\n",
        "    p = hnswlib.Index(space = 'ip', dim = dim)\n",
        "    p.init_index(max_elements = num_elements, ef_construction = 300, M = 22)\n",
        "\n",
        "    datas = [elem[1] for elem in formated_context]\n",
        "    indexs = [elem[2] for elem in formated_context]\n",
        "\n",
        "    p.add_items(datas, indexs)"
      ],
      "execution_count": 80,
      "outputs": []
    },
    {
      "cell_type": "code",
      "metadata": {
        "id": "Wo97gtrPMkPv"
      },
      "source": [
        "def find_best_context(question : str) -> List[str]:\n",
        "\n",
        "    formated_question = model.encode(question, device='cuda', show_progress_bar=False)\n",
        "\n",
        "    labels, distances = p.knn_query(formated_question, k = param3)\n",
        "\n",
        "    context_list = []\n",
        "\n",
        "    for label in labels[0]:\n",
        "      context_list.append(formated_context[label][0])\n",
        "\n",
        "    return context_list"
      ],
      "execution_count": 81,
      "outputs": []
    },
    {
      "cell_type": "markdown",
      "metadata": {
        "id": "VsJJt9Pz0MnR"
      },
      "source": [
        "## Analysis of the results"
      ]
    },
    {
      "cell_type": "code",
      "metadata": {
        "colab": {
          "base_uri": "https://localhost:8080/"
        },
        "id": "xdjh6XNINJz7",
        "outputId": "35e48dd8-0126-48e9-d571-523c60a4e070"
      },
      "source": [
        "find_best_context(question_list[0])"
      ],
      "execution_count": 82,
      "outputs": [
        {
          "output_type": "execute_result",
          "data": {
            "text/plain": [
              "['Mary Salome and Zebedee by Tilman Riemenschneider (c.1460-1531) originally formed the right wing of an altarpiece showing the family of the Virgin Mary. The central scene would have shown St Anne seated with her daughter Mary and the Christ Child. Mary Salome was another daughter of St Anne, half sister of the Virgin and wife of Zebedee. Tilman Riemenschnieder was one of the most important sculptors in southern Germany in the late fifteenth and sixteenth century.',\n",
              " 'Jeanne Jugan (October 25, 1792 – August 29, 1879), also known as Sister Mary of the Cross, L.S.P., was a French woman who became known for the dedication of her life to the neediest of the elderly poor. Her service resulted in the establishment of the Little Sisters of the Poor, who care for the elderly who have no other resources throughout the world. She has been declared a saint by the Catholic Church.',\n",
              " \"Mary of Lusignan (French: Marie de Lusignan; before March 1215 – 5 July 1251 or 1253), was the wife of Count Walter IV of Brienne and Countess of Brienne from the time of her marriage in 1233 to her husband's death while on Crusade in 1244. Mary's parents were King Hugh I of Cyprus and Alice of Champagne, making her a maternal granddaughter of Queen Isabella I of Jerusalem. Her two surviving sons were John, Count of Brienne, and Hugh of Brienne.\",\n",
              " 'Blessed Marie Louise Trichet, also known as  Marie-Louise de Jésus (1684–1759), was a French Catholic figure who, with Saint Louis de Montfort, founded the Congregation of religious women called Daughters of Wisdom and since the age of seventeen devoted her life to caring for the poor and the sick. She is also referred to as the First Daughter of Wisdom. She was beatified by Pope John Paul II.',\n",
              " 'Architecturally, the school has a Catholic character. Atop the Main Building\\'s gold dome is a golden statue of the Virgin Mary. Immediately in front of the Main Building and facing it, is a copper statue of Christ with arms upraised with the legend \"Venite Ad Me Omnes\". Next to the Main Building is the Basilica of the Sacred Heart. Immediately behind the basilica is the Grotto, a Marian place of prayer and reflection. It is a replica of the grotto at Lourdes, France where the Virgin Mary reputedly appeared to Saint Bernadette Soubirous in 1858. At the end of the main drive (and in a direct line that connects through 3 statues and the Gold Dome), is a simple, modern stone statue of Mary.',\n",
              " \"Because of its Catholic identity, a number of religious buildings stand on campus. The Old College building has become one of two seminaries on campus run by the Congregation of Holy Cross. The current Basilica of the Sacred Heart is located on the spot of Fr. Sorin's original church, which became too small for the growing college. It is built in French Revival style and it is decorated by stained glass windows imported directly from France. The interior was painted by Luigi Gregori, an Italian painter invited by Fr. Sorin to be artist in residence. The Basilica also features a bell tower with a carillon. Inside the church there are also sculptures by Ivan Mestrovic. The Grotto of Our Lady of Lourdes, which was built in 1896, is a replica of the original in Lourdes, France. It is very popular among students and alumni as a place of prayer and meditation, and it is considered one of the most beloved spots on campus.\",\n",
              " \"Hail Mary (French: Je vous salue, Marie) is a 1985 French film written and directed by Jean-Luc Godard. The film is a modern retelling of the story of a virgin birth. It was entered into the 35th Berlin International Film Festival. All screenings of the film in its initial theatrical distribution were accompanied by the short film The Book of Mary (French: Le livre de Marie) by Godard's longtime companion and collaborator Anne-Marie Miéville.\",\n",
              " 'The Church of St. Mary is the parish church in the village of Worsborough in South Yorkshire, England. It is a Church of England church in the Diocese of Sheffield. The building is Grade I listed and was built in the 14th century AD.Seventy five miners who were killed in the 1849 Darley Main Colliery disaster lay buried in the churchyard in a mass grave.',\n",
              " 'Our Lady of Lourdes Shrine is a famous Marian shrine located in Villianur Town, Puducherry. This Roman Catholic shrine is devoted to Our Lady of Lourdes.',\n",
              " 'The Oratory of Santa Maria delle Grazie (Holy Mary of the Graces), sometimes called a church, is a Baroque religious edifice in central Parma.Construction of the Oratory began in 1617, under the designs of the local architect Gian Battista Magnani. In 1644, the architect Girolamo Rinaldi installed the peculiar octagonal lantern. The interior contains a number of Baroque paintings, including works (1715) by  Sebastiano Galeotti.',\n",
              " 'Lourdes Verónica Arévalos Elias (born January 13, 1984, in San Lorenzo) is a Paraguayan beauty queen who represented her country in the Miss Universe 2006 pageant, held in Los Angeles, California, USA on July 23, 2006. She won the title of 3rd Runner-up. In the same year she represented Paraguay in the Reina Sudamericana 2006 beauty pageant and won the title of 2nd Runner-up.',\n",
              " 'Mary Frances “Fannie” McCray (1837–1898). In her biography written by her husband and son she is portrayed as a multifaceted Christian woman. Her life serves as an example of the power and the influence of religion during the time of enslavement and after.  At the death of her owner, Polly Adams the will stipulated that she was to be granted freedom and the funds to purchase land in Ohio.',\n",
              " 'The Last Supper is a painting by Daniele Crespi.This depiction of the last meal that Jesus Christ took with his disciples was painted in 1624-5 for the Benedictine monastery at Brugora (Brianza). The composition is based on that of Gaudenzio Ferrari (painted 1541-2), located in the Santa Maria della Passione, Milan.',\n",
              " \"Antoine de Laloubère (1600–1664), a Jesuit, born in Languedoc, is chiefly known for an incorrect solution of Pascal's problems on the cycloid, which he gave in 1660, but he has a better claim to distinction in having been the first mathematician to study the properties of the helix.De Laloubère died at Toulouse.\",\n",
              " 'Bishop Augustin Verot (May 1804 at Le Puy, France – June 10, 1876 at St. Augustine, Florida USA) was a prelate of the Roman Catholic Church who served as the third bishop of the Diocese of Savannah, Georgia (1861–1870), and the first Bishop of the Diocese of St. Augustine, Florida (1857–1876).',\n",
              " 'Countess Marie Karoline von Fuchs-Mollard (14 January 1681 – 27 April 1754), known as Charlotte, was the governess of Maria Theresa of Austria.Born in Vienna, Marie Karoline came to the imperial court as lady-in-waiting of the future queen consort of Portugal, Maria Anna of Austria, the daughter of Leopold I, Holy Roman Emperor.',\n",
              " 'François Perrochel (8 July 1602, Paris - 8 April 1682, Boulogne-Sur-Mer) was a French cleric.He was the son of Charles Perrochel, grand audiencier of France, and his wife Marie Gibercour. He was already abbot of Saint-Crépin et Crespinien de Soissons when he was made bishop of Boulogne in 1643. He founded a Minims convent there. He resigned from his bishopric in 1675 and was succeeded there by Nicolas Ladvocat-Billiard.',\n",
              " 'Margaret of France (c. 1279 – 14 February 1318), a daughter of Philip III of France and Maria of Brabant, was Queen of England as the second wife of King Edward I.',\n",
              " 'The Abbey of Our Lady and of St. Bridget (Latin: Monasterium sanctarum Mariæ Virgìnis et Brigidæ in Vatzstena), more commonly referred to as Vadstena Abbey, situated on Lake Vättern, in the Diocese of Linköping, Sweden, was the motherhouse of the Bridgettine Order. The abbey started on one of the farms donated to it by the king, but the town of Vadstena grew up around it. It was active from 1346 until 1595.',\n",
              " 'The 1878 Labor Riot on St. Croix, also known as Fireburn was a labor riot on St. Croix started on October 1, 1878. Among the leaders were several women, who became known as \"Queens of the Fireburn\"',\n",
              " 'Blessed Bartholomew di Braganca (or Bartholomew of Vicenza) (c. 1200 – 1 July 1271) was an Italian Dominican friar and bishop.',\n",
              " \"Mary Alice Fontenot (April 16, 1910 - May 12, 2003), born in Eunice, Louisiana, was a noted author of regional children's books, best known for the Clovis Crawfish series published by Pelican Publishing, a collection of eighteen books featuring animals from the Louisiana bayou.  The books are written in English and sprinkled with Cajun words, with an explanation of their pronunciation and meaning (several titles are also published in complete French versions).\",\n",
              " \"Peter I of Cyprus or Pierre I de Lusignan (9 October 1328 in Nicosia – 17 January 1369 in Palace of La Cava, Nicosia) was King of Cyprus and titular King of Jerusalem from his father's abdication on 24 November 1358 until his own death in 1369. He was also Latin King of Armenia from either 1361 or 1368. He was the second son of Hugh IV of Cyprus, the first by his second wife Alice of Ibelin. He was also invested as titular Count of Tripoli when young, in 1346.\",\n",
              " 'The Crucifer of Blood is a play by Paul Giovanni that is adapted from the Arthur Conan Doyle story The Sign of the Four. It depicts the character Irene St. Claire hiring the detective Sherlock Holmes to investigate the travails that her father and his three compatriots suffered over a pact made over a cursed treasure chest in colonial India during the Indian Rebellion of 1857.',\n",
              " 'Stabat Mater Speciosa \"\\\\The beautiful mother stood\") is a Catholic hymn to Mary about the Nativity of Jesus.It first appeared in a 1495 edition of the Italian poems of Jacopone da Todi, along with the other Stabat, but the Speciosa was almost forgotten until it was re-transcribed in 1852 in the \"Poètes Franciscains en Italie au Treizième siècle\" in Paris. The Speciosa has since been viewed as one of the tenderest Marian hymns and one of the seven greatest Latin hymns.',\n",
              " 'Real Monasterio de Santa Inés del Valle (Royal Monastery of Saint Agnes of the Valley) is located in Écija, Province of Seville, Spain. The convent is served by Poor Clares. Founded in the late 15th century, its church is designed in Baroque style and dates to the early 17th century. Reports in 2002 stated that the building was in serious disrepair.',\n",
              " 'The Church of St. Denis in Liège, Belgium, is a former fortified collegiate church, founded by Notker of Liège in 987 and first consecrated on 12 March 990. The tower was added around 1100. The church has since 1936 been registered as a listed building, and is currently listed as \"exceptional heritage\" of Wallonia.',\n",
              " 'St Mary Magdalen Woolwich is an Anglican church dedicated to Mary Magdalen in Woolwich, sited at the extremity of a spur reaching northwards towards the Thames.',\n",
              " \"Yvonne Marie Elise Toussaint de Quiévrecourt (March 31, 1885-December 29, 1964) was the inspiration for the character Yvonne de Galais in Henri Alain-Fournier's novel Le Grand Meaulnes. She is buried in Père Lachaise Cemetery.\",\n",
              " 'Pierre Batiffol (born 27 January 1861 in Toulouse in France, died 13 January 1929 in Paris) – was a French Catholic priest and prominent theologian, specialising in Church history. He had also a particular interest in the history of dogma.Batiffol studied from 1878 at the priest seminary Saint-Sulpice in Paris, was ordained in 1884 and continued his studies at the Institut catholique in Paris and at the Ecole des Hautes Etudes.',\n",
              " 'L’Aumône Abbey (French: Abbaye Notre-Dame de l’Aumône, Latin: Eleemosynae; also known as French: Petit-Cîteaux, Latin: Cistercium minus) is a former Cistercian monastery in the commune of La Colombe, Loir-et-Cher, France, 34 kilometres north of Blois in the Forêt de Cîteaux, part of the Forêt de Marchenoir.',\n",
              " 'The Gruenwald Convent is a historic former Roman Catholic convent in the far western part of the U.S. state of Ohio.  Located approximately 0.5 miles (0.80 km) south of the small community of Cassella in Mercer County, the convent was built in 1854.  It is one of six convents that were built by the Missionaries of the Precious Blood in this portion of Ohio and in adjacent portions of far eastern Indiana, and one of only two that remain without significant alterations.',\n",
              " 'Matija Mazarek or Matija Masarek (Serbian: Матија Мазарек) (1726 — ?) was an 18th-century Catholic priest. In the second half of the 18th century he was the archbishop of the Roman Catholic Diocese of Skopje. His reports to Vatikan are important source for demography study of his diocese.',\n",
              " 'The Anglican Church of St Mary The Virgin in Ston Easton, Somerset, England, is a Grade II* listed building dating from the 11th century, with a 15th-century embattled 3-stage west tower.The most striking interior feature is the Norman chancel arch, with semi-circular head and colonettes. The pews, choir stalls, altar rails, pulpit, font and screen are all 19th century.',\n",
              " 'The first documented visit by a European was in 1524 by Giovanni da Verrazzano, a Florentine explorer in the service of the French crown, who sailed his ship La Dauphine into New York Harbor. He claimed the area for France and named it \"Nouvelle Angoulême\" (New Angoulême).',\n",
              " \"Jeanne d'Évreux (1310 – 4 March 1371) was the third wife of King Charles IV of France, daughter of his uncle Louis d'Évreux and Margaret of Artois. Their lack of sons caused the end of the direct line of the Capetian dynasty. Because she was his first cousin, the couple required papal permission to marry from Pope John XXII.\",\n",
              " \"In 1842, the Bishop of Vincennes, Célestine Guynemer de la Hailandière, offered land to Father Edward Sorin of the Congregation of the Holy Cross, on the condition that he build a college in two years. Fr. Sorin arrived on the site with eight Holy Cross brothers from France and Ireland on November 26, 1842, and began the school using Father Stephen Badin's old log chapel. He soon erected additional buildings, including Old College, the first church, and the first main building. They immediately acquired two students and set about building additions to the campus.\",\n",
              " 'Pope Felix IV (III) (died 22 September 530) served as the Pope of the Catholic Church from 12 July 526 to his death in 530.',\n",
              " 'The  Golden Madonna of Essen is a sculpture of the Virgin Mary and the infant Jesus. It is a wooden core covered with sheets of thin gold leaf.',\n",
              " 'Saint Sergius of Valaam (Сергий Валаамский) was a Greek monk and wonderworker credited with bringing Orthodox Christianity to Karelian and Finnish people. Conflicting church traditions place him possibly as early as the 10th century or as late as the 14th. His feast day is celebrated on June 28.Church legends about St. Sergius of Valaam were not committed to writing until the 18th century.',\n",
              " 'Santa María la Real is a monastery in the small town of Nájera in the La Rioja community, Spain. Originally a royal foundation, it was ceded by Alfonso VI to the Cluniac order. It was an important pilgrimage stop on the Camino de Santiago. It is particularly well known for the woodwork in the choir of the church.',\n",
              " 'The Synod of Jassy (also referred to as the Council of Jassy) was convened in Iași (Jassy), Moldavia (present day Romania), between 15 September - 27 October 1642, by the Ecumenical Patriarch Parthenius I of Constantinople, with the support of the Moldavian Prince Vasile Lupu.The purpose of the synod was to counter certain Roman Catholic and Protestant doctrinal errors which had made inroads into Orthodox Christian theology and to offer a comprehensive Orthodox statement on the content and character of the faith.',\n",
              " \"Ubald of Gubbio (Italian: Ubaldo; Latin: Ubaldus; French: Ubalde; ca. 1084–1160) was a medieval bishop of Gubbio, in Umbria, today venerated as a saint by the Catholic Church. Saint Ubaldo Day is still celebrated at the Basilica of Sant'Ubaldo in Gubbio in his honor, as well as at Jessup, Pennsylvania.\",\n",
              " 'Bishop William Wareing was the first Roman Catholic Bishop of the Diocese of Northampton.Born 14 February 1791 in London, and after studying at Oscott College, William Wareing was ordained as a Catholic priest on 28 September 1815, aged 24, by Bishops Thomas Walsh, Nicholas Wiseman (later Cardinal Wiseman) and George Hilary Brown.He worked first on the mission at Moseley, then at Creswell, Staffordshire, until in 1831 when he moved to Grantham in Lincolnshire.',\n",
              " 'The University of Notre Dame du Lac (or simply Notre Dame /ˌnoʊtərˈdeɪm/ NOH-tər-DAYM) is a Catholic research university located adjacent to South Bend, Indiana, in the United States. In French, Notre Dame du Lac means \"Our Lady of the Lake\" and refers to the university\\'s patron saint, the Virgin Mary. The main campus covers 1,250 acres in a suburban setting and it contains a number of recognizable landmarks, such as the Golden Dome, the \"Word of Life\" mural (commonly known as Touchdown Jesus), and the Basilica.',\n",
              " 'Janet Mead (born 1938, Adelaide, South Australia) is an Australian Roman Catholic nun and is best known for recording a rock version of \"The Lord\\'s Prayer\". The surprise hit reached Number 3 on the Australian Singles Chart (Kent Music Report) in 1974 and Number 4 on the Billboard Hot 100 in the same year. The single earned her a Grammy Award nomination and Golden Gospel Award in 2004.',\n",
              " 'Adelaide of Poland  (Polish: Adelajda Kazimierzówna) (ca. late 1170s / early 1180s - 8 December 1211), was a Polish princess and member of the Piast dynasty.She was the daughter of Casimir II the Just, Duke of Sandomierz and High Duke of Poland, by his wife Helena of Znojmo , a Přemyslid princess.On basis of the inscription of her tombstone at the Dominican Church and Convent of St.',\n",
              " \"Archbishop Aston Ignatius Sebastian Joseph Chichester, S.J. (22 May 1879 – 24 October 1962) was the first Roman Catholic Archbishop of Salisbury (now Harare, Zimbabwe).Born in Ostende, Belgium of recusant English descent, he was educated at Mount St Mary's College, near Sheffield. He entered the Jesuits in 1913.\",\n",
              " 'Gisèle of France (ca. 968 – 1002) was the daughter of Hugh Capet and Adelaide of Aquitaine. She married Count Hugh I of Ponthieu around 994. Her children by Hugh included Enguerrand I of Ponthieu and Guy of Ponthieu.',\n",
              " 'The Apostolic Nunciature to Cologne (also Italian: Nunziatura di Germania inferiore, i.e. Nunciature of Lower Germany) was an ecclesiastical office of the Roman Catholic Church established in 1584. The nuncios were accredited to the Achbishop-Electorates of Cologne, Mainz and Trier. It was a diplomatic post of the Holy See, whose representative was called the Apostolic Nuncio at Cologne, one of the states of the Holy Roman Empire.',\n",
              " \"Charleszetta Waddles (October 7, 1912 - July 12, 2001), also known as Mother Waddles, was an African-American activist, Pentecostal church minister, and founder of Mother Waddles Perpetual Mission, an independent church in Detroit that provides support, such as food, clothing and other basic services to Detroit's poor. She is listed in the Michigan Women's Hall of Fame for her contributions to Social Work and Mission Work in the Detroit area.\",\n",
              " 'Petrus de Ibernia, also known as Peter of Ireland, writer and lecturer, fl. 1224–1252',\n",
              " 'Léonce Girardot (30 April 1864 - 7 September 1922) was a French racing driver. He drove for Panhard & Levassor, the leading brand of this era and his strongest competitors were his teammates Fernand Charron and René de Knyff.His first major race came in the 1897 season, when in the Paris-Dieppe race he took sixteenth place.',\n",
              " 'Virgilio Rosario (1499–1559) was an Italian Roman Catholic bishop and cardinal.',\n",
              " \"Charlotte Lucie Marie Adèle Stephanie Adrienne Faës, known by her stage name  Jehanne d'Alcy (20 March 1865 – 14 October 1956), was a French film actress. She was the wife of French cinema pioneer Georges Méliès from 1926 until his death in 1938.D'Alcy had achieved success in theatrical productions by 1896, but left the stage to devote herself to film, becoming one of the first performers to do so.She was born in Vaujours, Seine-Saint-Denis.\",\n",
              " 'The Apostolic Movement of Schoenstatt (German Schönstatt-Bewegung) is a Roman Catholic Marian Movement founded in Germany in 1914 by Father Joseph Kentenich.  Fr. Kentenich saw the movement as being a means of spiritual renewal in the Catholic Church.',\n",
              " \"Maria Emilia Menezes was President of the All India Catholic Union (AICU) from 2000 until 2004.She followed Norbert D'Souza and was succeeded by John Dayal.Maria Emilia Menezes is an eminent industrialist in Goa. She was President of the AICU for four years.When elected in 2000 she was the first woman to hold that post.Soon after her election it was announced that Menezes and Ines Cotta Carvalho, Secretary General of the AICU, were planning to visit Kuwait, Bahrain, the U.A.E.\",\n",
              " 'The university is the major seat of the Congregation of Holy Cross (albeit not its official headquarters, which are in Rome). Its main seminary, Moreau Seminary, is located on the campus across St. Joseph lake from the Main Building. Old College, the oldest building on campus and located near the shore of St. Mary lake, houses undergraduate seminarians. Retired priests and brothers reside in Fatima House (a former retreat center), Holy Cross House, as well as Columba Hall near the Grotto. The university through the Moreau Seminary has ties to theologian Frederick Buechner. While not Catholic, Buechner has praised writers from Notre Dame and Moreau Seminary created a Buechner Prize for Preaching.',\n",
              " 'Juana Manuel of Castile (1339 – 27 March 1381) was Queen consort of Castile from 1369 until 1379. She also was the heiress of Escalona, Villena, Peñafiel and Lara, as well as Lady of Biscay.',\n",
              " 'Zachariah Mar Athanasios born Cherian Polachirackal (19 February 1909, Tiruvalla, India – 29 September 1977, Tiruvalla), was a Saint Thomas Christian Syro-Malankara Catholic Bishop of Tiruvalla.']"
            ]
          },
          "metadata": {},
          "execution_count": 82
        }
      ]
    },
    {
      "cell_type": "markdown",
      "metadata": {
        "id": "uACLVJt9zRbV"
      },
      "source": [
        "For the question 0 we can see that we have the context 0 which is the one related to the question that appears in the first clue (in 1st position by the way). "
      ]
    },
    {
      "cell_type": "code",
      "metadata": {
        "colab": {
          "base_uri": "https://localhost:8080/"
        },
        "id": "5NELglXtyIsq",
        "outputId": "539b6b38-7ed0-4fa7-a824-67ab938befdd"
      },
      "source": [
        "find_best_context(\"What is a solar panel ?\")"
      ],
      "execution_count": 83,
      "outputs": [
        {
          "output_type": "execute_result",
          "data": {
            "text/plain": [
              "['Solar power is the conversion of sunlight into electricity, either directly using photovoltaics (PV), or indirectly using concentrated solar power (CSP). CSP systems use lenses or mirrors and tracking systems to focus a large area of sunlight into a small beam. PV converts light into electric current using the photoelectric effect.',\n",
              " 'In the last two decades, photovoltaics (PV), also known as solar PV, has evolved from a pure niche market of small scale applications towards becoming a mainstream electricity source. A solar cell is a device that converts light directly into electricity using the photoelectric effect. The first solar cell was constructed by Charles Fritts in the 1880s. In 1931 a German engineer, Dr Bruno Lange, developed a photo cell using silver selenide in place of copper oxide. Although the prototype selenium cells converted less than 1% of incident light into electricity, both Ernst Werner von Siemens and James Clerk Maxwell recognized the importance of this discovery. Following the work of Russell Ohl in the 1940s, researchers Gerald Pearson, Calvin Fuller and Daryl Chapin created the crystalline silicon solar cell in 1954. These early solar cells cost 286 USD/watt and reached efficiencies of 4.5–6%. By 2012 available efficiencies exceed 20% and the maximum efficiency of research photovoltaics is over 40%.',\n",
              " 'Solar energy is radiant light and heat from the Sun harnessed using a range of ever-evolving technologies such as solar heating, photovoltaics, solar thermal energy, solar architecture and artificial photosynthesis.',\n",
              " 'Concentrating Solar Power (CSP) systems use lenses or mirrors and tracking systems to focus a large area of sunlight into a small beam. The concentrated heat is then used as a heat source for a conventional power plant. A wide range of concentrating technologies exists; the most developed are the parabolic trough, the concentrating linear fresnel reflector, the Stirling dish and the solar power tower. Various techniques are used to track the Sun and focus light. In all of these systems a working fluid is heated by the concentrated sunlight, and is then used for power generation or energy storage.',\n",
              " 'Solar technologies are broadly characterized as either passive or active depending on the way they capture, convert and distribute sunlight and enable solar energy to be harnessed at different levels around the world, mostly depending on distance from the equator. Although solar energy refers primarily to the use of solar radiation for practical ends, all renewable energies, other than geothermal and tidal, derive their energy from the Sun in a direct or indirect way.',\n",
              " 'Solar cookers use sunlight for cooking, drying and pasteurization. They can be grouped into three broad categories: box cookers, panel cookers and reflector cookers. The simplest solar cooker is the box cooker first built by Horace de Saussure in 1767. A basic box cooker consists of an insulated container with a transparent lid. It can be used effectively with partially overcast skies and will typically reach temperatures of 90–150 °C (194–302 °F). Panel cookers use a reflective panel to direct sunlight onto an insulated container and reach temperatures comparable to box cookers. Reflector cookers use various concentrating geometries (dish, trough, Fresnel mirrors) to focus light on a cooking container. These cookers reach temperatures of 315 °C (599 °F) and above but require direct light to function properly and must be repositioned to track the Sun.',\n",
              " 'A solar balloon is a black balloon that is filled with ordinary air. As sunlight shines on the balloon, the air inside is heated and expands causing an upward buoyancy force, much like an artificially heated hot air balloon. Some solar balloons are large enough for human flight, but usage is generally limited to the toy market as the surface-area to payload-weight ratio is relatively high.',\n",
              " 'It is an important source of renewable energy and its technologies are broadly characterized as either passive solar or active solar depending on the way they capture and distribute solar energy or convert it into solar power. Active solar techniques include the use of photovoltaic systems, concentrated solar power and solar water heating to harness the energy. Passive solar techniques include orienting a building to the Sun, selecting materials with favorable thermal mass or light dispersing properties, and designing spaces that naturally circulate air.',\n",
              " 'In addition, land availability has a large effect on the available solar energy because solar panels can only be set up on land that is unowned and suitable for solar panels. Roofs have been found to be a suitable place for solar cells, as many people have discovered that they can collect energy directly from their homes this way. Other areas that are suitable for solar cells are lands that are unowned by businesses where solar plants can be established.',\n",
              " \"Solar power is anticipated to become the world's largest source of electricity by 2050, with solar photovoltaics and concentrated solar power contributing 16 and 11 percent to the global overall consumption, respectively.\",\n",
              " 'Active solar techniques use photovoltaics, concentrated solar power, solar thermal collectors, pumps, and fans to convert sunlight into useful outputs. Passive solar techniques include selecting materials with favorable thermal properties, designing spaces that naturally circulate air, and referencing the position of a building to the Sun. Active solar technologies increase the supply of energy and are considered supply side technologies, while passive solar technologies reduce the need for alternate resources and are generally considered demand side technologies.',\n",
              " 'Agriculture and horticulture seek to optimize the capture of solar energy in order to optimize the productivity of plants. Techniques such as timed planting cycles, tailored row orientation, staggered heights between rows and the mixing of plant varieties can improve crop yields. While sunlight is generally considered a plentiful resource, the exceptions highlight the importance of solar energy to agriculture. During the short growing seasons of the Little Ice Age, French and English farmers employed fruit walls to maximize the collection of solar energy. These walls acted as thermal masses and accelerated ripening by keeping plants warm. Early fruit walls were built perpendicular to the ground and facing south, but over time, sloping walls were developed to make better use of sunlight. In 1699, Nicolas Fatio de Duillier even suggested using a tracking mechanism which could pivot to follow the Sun. Applications of solar energy in agriculture aside from growing crops include pumping water, drying crops, brooding chicks and drying chicken manure. More recently the technology has been embraced by vinters, who use the energy generated by solar panels to power grape presses.',\n",
              " 'A solar chimney (or thermal chimney, in this context) is a passive solar ventilation system composed of a vertical shaft connecting the interior and exterior of a building. As the chimney warms, the air inside is heated causing an updraft that pulls air through the building. Performance can be improved by using glazing and thermal mass materials in a way that mimics greenhouses.',\n",
              " 'In 2011, a report by the International Energy Agency found that solar energy technologies such as photovoltaics, solar hot water and concentrated solar power could provide a third of the world’s energy by 2060 if politicians commit to limiting climate change. The energy from the sun could play a key role in de-carbonizing the global economy alongside improvements in energy efficiency and imposing costs on greenhouse gas emitters. \"The strength of solar is the incredible variety and flexibility of applications, from small scale to big scale\".',\n",
              " 'The International Organization for Standardization has established a number of standards relating to solar energy equipment. For example, ISO 9050 relates to glass in building while ISO 10217 relates to the materials used in solar water heaters.',\n",
              " \"The common features of passive solar architecture are orientation relative to the Sun, compact proportion (a low surface area to volume ratio), selective shading (overhangs) and thermal mass. When these features are tailored to the local climate and environment they can produce well-lit spaces that stay in a comfortable temperature range. Socrates' Megaron House is a classic example of passive solar design. The most recent approaches to solar design use computer modeling tying together solar lighting, heating and ventilation systems in an integrated solar design package. Active solar equipment such as pumps, fans and switchable windows can complement passive design and improve system performance.\",\n",
              " 'The International Energy Agency has said that solar energy can make considerable contributions to solving some of the most urgent problems the world now faces:',\n",
              " 'The large magnitude of solar energy available makes it a highly appealing source of electricity. The United Nations Development Programme in its 2000 World Energy Assessment found that the annual potential of solar energy was 1,575–49,837 exajoules (EJ). This is several times larger than the total world energy consumption, which was 559.8 EJ in 2012.',\n",
              " 'As of 2007, the total installed capacity of solar hot water systems is approximately 154 thermal gigawatt (GWth). China is the world leader in their deployment with 70 GWth installed as of 2006 and a long-term goal of 210 GWth by 2020. Israel and Cyprus are the per capita leaders in the use of solar hot water systems with over 90% of homes using them. In the United States, Canada and Australia heating swimming pools is the dominant application of solar hot water with an installed capacity of 18 GWth as of 2005.',\n",
              " 'Commercial CSP plants were first developed in the 1980s. Since 1985 the eventually 354 MW SEGS CSP installation, in the Mojave Desert of California, is the largest solar power plant in the world. Other large CSP plants include the 150 MW Solnova Solar Power Station and the 100 MW Andasol solar power station, both in Spain. The 250 MW Agua Caliente Solar Project, in the United States, and the 221 MW Charanka Solar Park in India, are the world’s largest photovoltaic plants. Solar projects exceeding 1 GW are being developed, but most of the deployed photovoltaics are in small rooftop arrays of less than 5 kW, which are grid connected using net metering and/or a feed-in tariff. In 2013 solar generated less than 1% of the worlds total grid electricity.',\n",
              " 'In 2000, the United Nations Development Programme, UN Department of Economic and Social Affairs, and World Energy Council published an estimate of the potential solar energy that could be used by humans each year that took into account factors such as insolation, cloud cover, and the land that is usable by humans. The estimate found that solar energy has a global potential of 1,575–49,837 EJ per year (see table below).',\n",
              " 'In 1975, the first practical solar boat was constructed in England. By 1995, passenger boats incorporating PV panels began appearing and are now used extensively. In 1996, Kenichi Horie made the first solar powered crossing of the Pacific Ocean, and the sun21 catamaran made the first solar powered crossing of the Atlantic Ocean in the winter of 2006–2007. There were plans to circumnavigate the globe in 2010.',\n",
              " 'Solar distillation can be used to make saline or brackish water potable. The first recorded instance of this was by 16th-century Arab alchemists. A large-scale solar distillation project was first constructed in 1872 in the Chilean mining town of Las Salinas. The plant, which had solar collection area of 4,700 m2 (51,000 sq ft), could produce up to 22,700 L (5,000 imp gal; 6,000 US gal) per day and operate for 40 years. Individual still designs include single-slope, double-slope (or greenhouse type), vertical, conical, inverted absorber, multi-wick, and multiple effect. These stills can operate in passive, active, or hybrid modes. Double-slope stills are the most economical for decentralized domestic purposes, while active multiple effect units are more suitable for large-scale applications.',\n",
              " 'Commercial solar water heaters began appearing in the United States in the 1890s. These systems saw increasing use until the 1920s but were gradually replaced by cheaper and more reliable heating fuels. As with photovoltaics, solar water heating attracted renewed attention as a result of the oil crises in the 1970s but interest subsided in the 1980s due to falling petroleum prices. Development in the solar water heating sector progressed steadily throughout the 1990s and growth rates have averaged 20% per year since 1999. Although generally underestimated, solar water heating and cooling is by far the most widely deployed solar technology with an estimated capacity of 154 GW as of 2007.',\n",
              " 'The Hambantota Solar Power Station (also known as the Buruthakanda Solar Park) is the first commercial-scale solar power station in Sri Lanka. The photovoltaic solar facility was constructed in Buruthakanda, in the Hambantota District.',\n",
              " 'Solar hot water systems use sunlight to heat water. In low geographical latitudes (below 40 degrees) from 60 to 70% of the domestic hot water use with temperatures up to 60 °C can be provided by solar heating systems. The most common types of solar water heaters are evacuated tube collectors (44%) and glazed flat plate collectors (34%) generally used for domestic hot water; and unglazed plastic collectors (21%) used mainly to heat swimming pools.',\n",
              " 'In 1974, the unmanned AstroFlight Sunrise plane made the first solar flight. On 29 April 1979, the Solar Riser made the first flight in a solar-powered, fully controlled, man carrying flying machine, reaching an altitude of 40 feet (12 m). In 1980, the Gossamer Penguin made the first piloted flights powered solely by photovoltaics. This was quickly followed by the Solar Challenger which crossed the English Channel in July 1981. In 1990 Eric Scott Raymond in 21 hops flew from California to North Carolina using solar power. Developments then turned back to unmanned aerial vehicles (UAV) with the Pathfinder (1997) and subsequent designs, culminating in the Helios which set the altitude record for a non-rocket-propelled aircraft at 29,524 metres (96,864 ft) in 2001. The Zephyr, developed by BAE Systems, is the latest in a line of record-breaking solar aircraft, making a 54-hour flight in 2007, and month-long flights were envisioned by 2010. As of 2015, Solar Impulse, an electric aircraft, is currently circumnavigating the globe. It is a single-seat plane powered by solar cells and capable of taking off under its own power. The designed allows the aircraft to remain airborne for 36 hours.',\n",
              " \"Development of a solar-powered car has been an engineering goal since the 1980s. The World Solar Challenge is a biannual solar-powered car race, where teams from universities and enterprises compete over 3,021 kilometres (1,877 mi) across central Australia from Darwin to Adelaide. In 1987, when it was founded, the winner's average speed was 67 kilometres per hour (42 mph) and by 2007 the winner's average speed had improved to 90.87 kilometres per hour (56.46 mph). The North American Solar Challenge and the planned South African Solar Challenge are comparable competitions that reflect an international interest in the engineering and development of solar powered vehicles.\",\n",
              " 'Solar concentrating technologies such as parabolic dish, trough and Scheffler reflectors can provide process heat for commercial and industrial applications. The first commercial system was the Solar Total Energy Project (STEP) in Shenandoah, Georgia, USA where a field of 114 parabolic dishes provided 50% of the process heating, air conditioning and electrical requirements for a clothing factory. This grid-connected cogeneration system provided 400 kW of electricity plus thermal energy in the form of 401 kW steam and 468 kW chilled water, and had a one-hour peak load thermal storage. Evaporation ponds are shallow pools that concentrate dissolved solids through evaporation. The use of evaporation ponds to obtain salt from sea water is one of the oldest applications of solar energy. Modern uses include concentrating brine solutions used in leach mining and removing dissolved solids from waste streams. Clothes lines, clotheshorses, and clothes racks dry clothes through evaporation by wind and sunlight without consuming electricity or gas. In some states of the United States legislation protects the \"right to dry\" clothes. Unglazed transpired collectors (UTC) are perforated sun-facing walls used for preheating ventilation air. UTCs can raise the incoming air temperature up to 22 °C (40 °F) and deliver outlet temperatures of 45–60 °C (113–140 °F). The short payback period of transpired collectors (3 to 12 years) makes them a more cost-effective alternative than glazed collection systems. As of 2003, over 80 systems with a combined collector area of 35,000 square metres (380,000 sq ft) had been installed worldwide, including an 860 m2 (9,300 sq ft) collector in Costa Rica used for drying coffee beans and a 1,300 m2 (14,000 sq ft) collector in Coimbatore, India, used for drying marigolds.',\n",
              " 'Solar energy may be used in a water stabilisation pond to treat waste water without chemicals or electricity. A further environmental advantage is that algae grow in such ponds and consume carbon dioxide in photosynthesis, although algae may produce toxic chemicals that make the water unusable.',\n",
              " 'Geography effects solar energy potential because areas that are closer to the equator have a greater amount of solar radiation. However, the use of photovoltaics that can follow the position of the sun can significantly increase the solar energy potential in areas that are farther from the equator. Time variation effects the potential of solar energy because during the nighttime there is little solar radiation on the surface of the Earth for solar panels to absorb. This limits the amount of energy that solar panels can absorb in one day. Cloud cover can effect the potential of solar panels because clouds block incoming light from the sun and reduce the light available for solar cells.',\n",
              " \"Solar chemical processes use solar energy to drive chemical reactions. These processes offset energy that would otherwise come from a fossil fuel source and can also convert solar energy into storable and transportable fuels. Solar induced chemical reactions can be divided into thermochemical or photochemical. A variety of fuels can be produced by artificial photosynthesis. The multielectron catalytic chemistry involved in making carbon-based fuels (such as methanol) from reduction of carbon dioxide is challenging; a feasible alternative is hydrogen production from protons, though use of water as the source of electrons (as plants do) requires mastering the multielectron oxidation of two water molecules to molecular oxygen. Some have envisaged working solar fuel plants in coastal metropolitan areas by 2050 –  the splitting of sea water providing hydrogen to be run through adjacent fuel-cell electric power plants and the pure water by-product going directly into the municipal water system. Another vision involves all human structures covering the earth's surface (i.e., roads, vehicles and buildings) doing photosynthesis more efficiently than plants.\",\n",
              " 'Thermal mass systems can store solar energy in the form of heat at domestically useful temperatures for daily or interseasonal durations. Thermal storage systems generally use readily available materials with high specific heat capacities such as water, earth and stone. Well-designed systems can lower peak demand, shift time-of-use to off-peak hours and reduce overall heating and cooling requirements.',\n",
              " 'In 1897, Frank Shuman, a U.S. inventor, engineer and solar energy pioneer built a small demonstration solar engine that worked by reflecting solar energy onto square boxes filled with ether, which has a lower boiling point than water, and were fitted internally with black pipes which in turn powered a steam engine. In 1908 Shuman formed the Sun Power Company with the intent of building larger solar power plants. He, along with his technical advisor A.S.E. Ackermann and British physicist Sir Charles Vernon Boys, developed an improved system using mirrors to reflect solar energy upon collector boxes, increasing heating capacity to the extent that water could now be used instead of ether. Shuman then constructed a full-scale steam engine powered by low-pressure water, enabling him to patent the entire solar engine system by 1912.',\n",
              " 'A panel nut is very thin nut with a relatively large hole commonly used to mount threaded electrical switches.These are often used where light duty precision fasteners are needed. They have width close to the diameter of the fastener they secure. These usually have low thread count.',\n",
              " 'Solar water disinfection (SODIS) involves exposing water-filled plastic polyethylene terephthalate (PET) bottles to sunlight for several hours. Exposure times vary depending on weather and climate from a minimum of six hours to two days during fully overcast conditions. It is recommended by the World Health Organization as a viable method for household water treatment and safe storage. Over two million people in developing countries use this method for their daily drinking water.',\n",
              " 'The 1973 oil embargo and 1979 energy crisis caused a reorganization of energy policies around the world and brought renewed attention to developing solar technologies. Deployment strategies focused on incentive programs such as the Federal Photovoltaic Utilization Program in the US and the Sunshine Program in Japan. Other efforts included the formation of research facilities in the US (SERI, now NREL), Japan (NEDO), and Germany (Fraunhofer Institute for Solar Energy Systems ISE).',\n",
              " \"Solar radiation is absorbed by the Earth's land surface, oceans – which cover about 71% of the globe – and atmosphere. Warm air containing evaporated water from the oceans rises, causing atmospheric circulation or convection. When the air reaches a high altitude, where the temperature is low, water vapor condenses into clouds, which rain onto the Earth's surface, completing the water cycle. The latent heat of water condensation amplifies convection, producing atmospheric phenomena such as wind, cyclones and anti-cyclones. Sunlight absorbed by the oceans and land masses keeps the surface at an average temperature of 14 °C. By photosynthesis green plants convert solar energy into chemically stored energy, which produces food, wood and the biomass from which fossil fuels are derived.\",\n",
              " 'Urban heat islands (UHI) are metropolitan areas with higher temperatures than that of the surrounding environment. The higher temperatures are a result of increased absorption of the Solar light by urban materials such as asphalt and concrete, which have lower albedos and higher heat capacities than those in the natural environment. A straightforward method of counteracting the UHI effect is to paint buildings and roads white and plant trees. Using these methods, a hypothetical \"cool communities\" program in Los Angeles has projected that urban temperatures could be reduced by approximately 3 °C at an estimated cost of US$1 billion, giving estimated total annual benefits of US$530 million from reduced air-conditioning costs and healthcare savings.',\n",
              " 'The potential solar energy that could be used by humans differs from the amount of solar energy present near the surface of the planet because factors such as geography, time variation, cloud cover, and the land available to humans limits the amount of solar energy that we can acquire.',\n",
              " 'Portugal’s national energy transmission company, Redes Energéticas Nacionais (REN), uses sophisticated modeling to predict weather, especially wind patterns, and computer programs to calculate energy from the various renewable-energy plants. Before the solar/wind revolution, Portugal had generated electricity from hydropower plants on its rivers for decades. New programs combine wind and water: wind-driven turbines pump water uphill at night, the most blustery period; then the water flows downhill by day, generating electricity, when consumer demand is highest. Portugal’s distribution system is also now a two-way street. Instead of just delivering electricity, it draws electricity from even the smallest generators, like rooftop solar panels. The government aggressively encouraged such contributions by setting a premium price for those who buy rooftop-generated solar electricity.',\n",
              " 'The Acorn Electron is a budget version of the BBC Micro educational/home computer made by Acorn Computers Ltd. It has 32 kilobytes of RAM, and its ROM includes BBC BASIC v2 along with its operating system.The Electron was able to save and load programs onto audio cassette via a supplied converter cable that connected it to any standard tape recorder that had the correct sockets.',\n",
              " 'Distributed energy, also district or decentralized energy is generated or stored by a variety of small, grid-connected devices referred to as distributed energy resources (DER) or distributed energy resource systems.Conventional power stations, such as coal-fired, gas and nuclear powered plants, as well as hydroelectric dams and large-scale solar power stations, are centralized and often require electricity to be transmitted over long distances.',\n",
              " \"Off-grid PV systems have traditionally used rechargeable batteries to store excess electricity. With grid-tied systems, excess electricity can be sent to the transmission grid, while standard grid electricity can be used to meet shortfalls. Net metering programs give household systems a credit for any electricity they deliver to the grid. This is handled by 'rolling back' the meter whenever the home produces more electricity than it consumes. If the net electricity use is below zero, the utility then rolls over the kilowatt hour credit to the next month. Other approaches involve the use of two meters, to measure electricity consumed vs. electricity produced. This is less common due to the increased installation cost of the second meter. Most standard meters accurately measure in both directions, making a second meter unnecessary.\",\n",
              " 'Solar cycle 14 was the fourteenth solar cycle since 1755, when extensive recording of solar sunspot activity began. The solar cycle lasted 11.5 years, beginning in February 1902 and ending in August 1913.  The maximum smoothed sunspot number (monthly number of sunspots averaged over a twelve-month period) observed during the solar cycle was 64.2, in February 1906 (the lowest since the Dalton Minimum), and the minimum was 1.5.',\n",
              " 'In 2011, the International Energy Agency said that \"the development of affordable, inexhaustible and clean solar energy technologies will have huge longer-term benefits. It will increase countries’ energy security through reliance on an indigenous, inexhaustible and mostly import-independent resource, enhance sustainability, reduce pollution, lower the costs of mitigating global warming, and keep fossil fuel prices lower than otherwise. These advantages are global. Hence the additional costs of the incentives for early deployment should be considered learning investments; they must be wisely spent and need to be widely shared\".',\n",
              " \"The Earth receives 174,000 terawatts (TW) of incoming solar radiation (insolation) at the upper atmosphere. Approximately 30% is reflected back to space while the rest is absorbed by clouds, oceans and land masses. The spectrum of solar light at the Earth's surface is mostly spread across the visible and near-infrared ranges with a small part in the near-ultraviolet. Most people around the world live in areas with insolation levels of 150 to 300 watts per square meter or 3.5 to 7.0 kWh/m2 per day.\",\n",
              " 'Hydrogen production technologies been a significant area of solar chemical research since the 1970s. Aside from electrolysis driven by photovoltaic or photochemical cells, several thermochemical processes have also been explored. One such route uses concentrators to split water into oxygen and hydrogen at high temperatures (2,300–2,600 °C or 4,200–4,700 °F). Another approach uses the heat from solar concentrators to drive the steam reformation of natural gas thereby increasing the overall hydrogen yield compared to conventional reforming methods. Thermochemical cycles characterized by the decomposition and regeneration of reactants present another avenue for hydrogen production. The Solzinc process under development at the Weizmann Institute uses a 1 MW solar furnace to decompose zinc oxide (ZnO) at temperatures above 1,200 °C (2,200 °F). This initial reaction produces pure zinc, which can subsequently be reacted with water to produce hydrogen.',\n",
              " \"Shuman built the world’s first solar thermal power station in Maadi, Egypt, between 1912 and 1913. Shuman’s plant used parabolic troughs to power a 45–52 kilowatts (60–70 hp) engine that pumped more than 22,000 litres (4,800 imp gal; 5,800 US gal) of water per minute from the Nile River to adjacent cotton fields. Although the outbreak of World War I and the discovery of cheap oil in the 1930s discouraged the advancement of solar energy, Shuman’s vision and basic design were resurrected in the 1970s with a new wave of interest in solar thermal energy. In 1916 Shuman was quoted in the media advocating solar energy's utilization, saying:\",\n",
              " 'Beginning with the surge in coal use which accompanied the Industrial Revolution, energy consumption has steadily transitioned from wood and biomass to fossil fuels. The early development of solar technologies starting in the 1860s was driven by an expectation that coal would soon become scarce. However, development of solar technologies stagnated in the early 20th century in the face of the increasing availability, economy, and utility of coal and petroleum.',\n",
              " 'Thermal mass is any material that can be used to store heat—heat from the Sun in the case of solar energy. Common thermal mass materials include stone, cement and water. Historically they have been used in arid climates or warm temperate regions to keep buildings cool by absorbing solar energy during the day and radiating stored heat to the cooler atmosphere at night. However, they can be used in cold temperate areas to maintain warmth as well. The size and placement of thermal mass depend on several factors such as climate, daylighting and shading conditions. When properly incorporated, thermal mass maintains space temperatures in a comfortable range and reduces the need for auxiliary heating and cooling equipment.',\n",
              " 'Anpachi (安八町, Anpachi-chō) is a town located in the Anpachi District, Gifu Prefecture, Japan.As of July 2011, the town has an estimated population of 15,274. The total area of the town is 18.19 km². The Solar Ark, an over 300m long photovoltaic power generation facility is located in the town.',\n",
              " 'Andon (Japanese: アンドン or あんどん or 行灯) is a manufacturing term referring to a system to notify management, maintenance, and other workers of a quality or process problem.  The centrepiece is a signboard incorporating signal lights to indicate which workstation has the problem. The alert can be activated manually by a worker using a pullcord or button, or may be activated automatically by the production equipment itself.',\n",
              " 'Greenhouses convert solar light to heat, enabling year-round production and the growth (in enclosed environments) of specialty crops and other plants not naturally suited to the local climate. Primitive greenhouses were first used during Roman times to produce cucumbers year-round for the Roman emperor Tiberius. The first modern greenhouses were built in Europe in the 16th century to keep exotic plants brought back from explorations abroad. Greenhouses remain an important part of horticulture today, and plastic transparent materials have also been used to similar effect in polytunnels and row covers.',\n",
              " 'Robot as a Service (or RaaS) is a cloud computing unit that facilitates the seamless integration of robot and embedded devices into Web and cloud computing environment. In terms of Service-Oriented Architecture (SOA), a RaaS unit includes services for performing functionality, a service directory for discovery and publishing, and service clients for user’s direct access.',\n",
              " 'Deciduous trees and plants have been promoted as a means of controlling solar heating and cooling. When planted on the southern side of a building in the northern hemisphere or the northern side in the southern hemisphere, their leaves provide shade during the summer, while the bare limbs allow light to pass during the winter. Since bare, leafless trees shade 1/3 to 1/2 of incident solar radiation, there is a balance between the benefits of summer shading and the corresponding loss of winter heating. In climates with significant heating loads, deciduous trees should not be planted on the Equator facing side of a building because they will interfere with winter solar availability. They can, however, be used on the east and west sides to provide a degree of summer shading without appreciably affecting winter solar gain.',\n",
              " \"The total solar energy absorbed by Earth's atmosphere, oceans and land masses is approximately 3,850,000 exajoules (EJ) per year. In 2002, this was more energy in one hour than the world used in one year. Photosynthesis captures approximately 3,000 EJ per year in biomass. The amount of solar energy reaching the surface of the planet is so vast that in one year it is about twice as much as will ever be obtained from all of the Earth's non-renewable resources of coal, oil, natural gas, and mined uranium combined,\",\n",
              " 'Stoke Incinerator is a large incineration plant in the Sideway area of Stoke-on-Trent, England. It burns municipal waste and in the process produces electricity for the National Grid.It was built in 1989 and is operated by Hanford Waste Services Ltd. The plant has a total installed generating capacity of 15.4 megawatts.',\n",
              " 'Sun xVM is a product group from Sun Microsystems that addresses virtualization technology on x86 platforms.',\n",
              " 'Phase change materials such as paraffin wax and Glauber\\'s salt are another thermal storage media. These materials are inexpensive, readily available, and can deliver domestically useful temperatures (approximately 64 °C or 147 °F). The \"Dover House\" (in Dover, Massachusetts) was the first to use a Glauber\\'s salt heating system, in 1948. Solar energy can also be stored at high temperatures using molten salts. Salts are an effective storage medium because they are low-cost, have a high specific heat capacity and can deliver heat at temperatures compatible with conventional power systems. The Solar Two used this method of energy storage, allowing it to store 1.44 terajoules (400,000 kWh) in its 68 cubic metres storage tank with an annual storage efficiency of about 99%.']"
            ]
          },
          "metadata": {},
          "execution_count": 83
        }
      ]
    },
    {
      "cell_type": "markdown",
      "metadata": {
        "id": "E1jnDUDc0Ku4"
      },
      "source": [
        "As for the question \"What is a solay panel?\" We see that the texts will not be able to bring a simple answer. Indeed, all the texts are well related to the question (especially for the first context). But on the other hand to find a definition in these contexts is not necessarily simple. Indeed it finds contexts related to the question but does not pay attention to the fact that the answer can be found there."
      ]
    },
    {
      "cell_type": "code",
      "metadata": {
        "colab": {
          "base_uri": "https://localhost:8080/"
        },
        "id": "HOrpmt_dyIy7",
        "outputId": "2d1fdd16-a492-494a-d9a4-2ca76431684f"
      },
      "source": [
        "find_best_context(\"How old are you ?\")"
      ],
      "execution_count": 84,
      "outputs": [
        {
          "output_type": "execute_result",
          "data": {
            "text/plain": [
              "['The eligible age-range for contestants is currently fifteen to twenty-eight years old. The initial age limit was sixteen to twenty-four in the first three seasons, but the upper limit was raised to twenty-eight in season four, and the lower limit was reduced to fifteen in season ten. The contestants must be legal U.S. residents, cannot have advanced to particular stages of the competition in previous seasons (varies depending on the season, currently by the semi-final stage until season thirteen), and must not hold any current recording or talent representation contract by the semi-final stage (in previous years by the audition stage).',\n",
              " 'The Newcastle 85+ Study is a longitudinal study of health and aging of people over 85 years old. It began in 2006, led by Professor Tom Kirkwood at Newcastle University, and included over 1,000 85-year olds born in 1921 and registered with GPs in Newcastle and North Tyneside.11% of those studied said their health was excellent when compared with others of the same age. About 37% of the men and about 70% of the women reported they could still manage cooking, bathing and their personal finances.',\n",
              " 'Younger is an American comedy-drama television series that premiered on March 31, 2015, on TV Land. Based on the Pamela Redmond Satran novel of the same name, Younger was created by Darren Star, and stars Sutton Foster in the lead role of Liza Miller, a 40-year-old recently divorced mother who, after finding it difficult to get a job at her age, attempts to pass herself off as a 26-year-old in order to start her life over.',\n",
              " 'The German Ageing Survey (DEAS) is a main source of information about ageing and old age as a stage of life in Germany. It is a nationally representative, cross-sectional and longitudinal survey of people in the second half of life (i. e. aged 40 and over).The comprehensive study of people in their mid- and older adulthood provides individual data for use both in social and behavioural scientific research and in reporting on social developments.',\n",
              " \"The total adult literacy rate is 99 percent. Portuguese primary school enrollments are close to 100 percent. According to the OECD's Programme for International Student Assessment (PISA) 2009, the average Portuguese 15-year-old student, when rated in terms of reading literacy, mathematics and science knowledge, is placed at the same level as those students from the United States, Sweden, Germany, Ireland, France, Denmark, United Kingdom, Hungary and Taipei, with 489 points (493 is the average). Over 35% of college-age citizens (20 years old) attend one of the country's higher education institutions (compared with 50% in the United States and 35% in the OECD countries). In addition to being a destination for international students, Portugal is also among the top places of origin for international students. All higher education students, both domestic and international, totaled 380,937 in 2005.\",\n",
              " 'Deutschland sucht den Superstar (season 11) was the eleventh season of Deutschland sucht den Superstar. The winner gets a recording contract with Universal Music Group and €500 000. Participants had to be between 16 and 30 years old and could audition in 30 cities in Germany, Austria and Switzerland. Kenneth \"Kay One\" Glöckler, Mieze Katz and Marianne Rosenberg became judges. Bill and Tom Kaulitz from Tokio Hotel and Mateo from Culcha Candela left after the completion of  season 10.',\n",
              " 'The longest-lived breeds, including Toy Poodles, Japanese Spitz, Border Terriers, and Tibetan Spaniels, have median longevities of 14 to 15 years. The median longevity of mixed-breed dogs, taken as an average of all sizes, is one or more years longer than that of purebred dogs when all breeds are averaged. The dog widely reported to be the longest-lived is \"Bluey\", who died in 1939 and was claimed to be 29.5 years old at the time of his death. On 5 December 2011, Pusuke, the world\\'s oldest living dog recognized by Guinness Book of World Records, died aged 26 years and 9 months.',\n",
              " 'The typical lifespan of dogs varies widely among breeds, but for most the median longevity, the age at which half the dogs in a population have died and half are still alive, ranges from 10 to 13 years. Individual dogs may live well beyond the median of their breed.',\n",
              " 'Year Two is an educational year group in schools in many countries including England, Wales, Australia and New Zealand. It is usually the second year of compulsory education and incorporates students aged between six and eight.',\n",
              " 'John \"Eric\" Davidson  (May 10, 1915—September 9, 2009) was one of the last survivors of the Halifax Explosion. He was 2 and 1/2 years old when he was blinded by the Halifax Explosion on December 6, 1917.  At the time of his death in 2009, Davidson was the penultimate living survivor with permanent injuries from the Halifax Explosion, which killed more than 1,600 people.Davidson was born to parents Georgina (née Williams) and John William Davidson.',\n",
              " 'Theatre for Early Years or TEY is a blanket term for theatrical events designed for audiences of pre-school children (aged under five or six years of age). TEY is considered to be a sub-category of Theatre for Young Audiences (TYA).',\n",
              " '23-year-old Candice Glover won the season with Kree Harrison taking the runner-up spot. Glover is the first female to win American Idol since Jordin Sparks. Glover released \"I Am Beautiful\" as a single while Harrison released \"All Cried Out\" immediately after the show. Glover sold poorly with her debut album, and this is also the first season that the runner-up was not signed by a music label.',\n",
              " \"The House on Falling Star Hill is a children's fantasy novel by Michael Molloy. It is intended for 9- to 12-year-olds, that is, the tween market.\",\n",
              " 'Harry Schneider (born c. 1954 (age 60–61)) is an American lawyer and partner at the firm of Perkins Coie, in Seattle, Washington.Schneider volunteered to work on behalf of Guantanamo captive Salim Ahmed Hamdan.According to an investigative report by the Seattle Times Schneider was part of a consortium which purchased the now defunct Seattle Sonics basketball team in 2001.',\n",
              " '\"SportsKid of the Year\" was introduced by Sports Illustrated magazine after the highly successful Sportsman of the Year award was introduced in 1954.  The “SportsKid of the Year” award honors a young athlete, ages seven to 15, for superior performance on the field, in the classroom and service in the community.In addition to being featured exclusively on the December Sports Illustrated Kids cover, the \"SportsKid of the Year\" receives a profiling article and fold-out poster in the issue.',\n",
              " \"Turkey's national Under-21 football team (Turkish: Ümit Milli Futbol Takımı), also known as Turkey Under-21s or Turkey U-21s, is the Under-21 years of age team of the Turkey national football team.\",\n",
              " 'Season four premiered on January 18, 2005; this was the first season of the series to be aired in high definition, although the finale of season three was also aired in high definition. The number of those attending the auditions by now had increased to over 100,000 from the 10,000 of the first season. The age limit was raised to 28 in this season, and among those who benefited from this new rule were Constantine Maroulis and Bo Bice, the two rockers of the show.',\n",
              " 'The Eclipse Award for Champion Older Dirt Female Horse is an American Thoroughbred horse racing honor awarded annually to a filly or mare, four years old and up, for performances on dirt and main track racing surfaces. In 1971, it became part of the Eclipse Awards program as the award for Champion Older Female Horse.In 1936 both the Turf & Sports Digest magazine and Daily Racing Form (DRF) began naming an annual champion.',\n",
              " 'In season ten, the total viewer numbers for the first week of shows fell 12–13%, and by up to 23% in the 18–49 demo compared to season nine. Later episodes, however, retained viewers better, and the season ended on a high with a significant increase in viewership for the finale – up 12% for the adults 18–49 demo and a 21% increase in total viewers from the season nine finale. While the overall viewer number has increased this season, its viewer demographics have continued to age year on year – the median age this season was 47.2 compared to a median age of 32.1 in its first season. By the time of the 2010–11 television season, Fox was in its seventh consecutive season of victory overall in the 18–49 demographic ratings in the United States.',\n",
              " 'Sweden entered the first Junior Eurovision Song Contest 2003, represented by the Honeypies - 10-year-old Rebecca Laakso and eleven-year-old Julia Urban - with the song \"Stoppa mig\".',\n",
              " \"Taylor Swift is the debut studio album by American singer-songwriter Taylor Swift, released on October 24, 2006, by Big Machine Records when Swift was just 16 years old. Swift wrote songs for the album during her freshman year of high school, and has writing credits on all of the albums' songs including those co-written with Liz Rose. Swift experimented with several album producers, ultimately choosing the producer of her demo album, Nathan Chapman.\",\n",
              " 'Iain Robertson Brines (born 22 July 1967) is a Scottish football referee in the Scottish Premier League. Brines has been a referee since 1989 and was a FIFA-listed referee from 2003; as of 2013, however, he is no longer included on the FIFA list, having reached the international retirement age of 45. He refereed in full international matches, as well as matches in the UEFA Champions League and UEFA Cup tournaments.',\n",
              " 'In what was to become a tradition, Clarkson performed the coronation song during the finale, and released the song immediately after the season ended. The single, \"A Moment Like This\", went on to break a 38-year-old record held by The Beatles for the biggest leap to number one on the Billboard Hot 100. Guarini did not release any song immediately after the show and remains the only runner-up not to do so. Both Clarkson and Guarini made a musical film, From Justin to Kelly, which was released in 2003 but was widely panned. Clarkson has since become the most successful Idol contestant internationally, with worldwide album sales of more than 23 million.',\n",
              " \"Passos Coelho also announced that the retirement age will be increased from 65 to 66, announced cuts in the pensions, unemployment benefits, health, education and science expenses, abolished the English obligatory classes in Basic Education, but kept the pensions of the judges, diplomats untouched and didn't raise the retirement age of the military and police forces. He has, however, cut meaningfully the politicians salaries. These policies have led to social unrest and to confrontations between several institutions, namely between the Government and the Constitutional Court. Several individualities belonging to the parties that support the government have also raised their voices against the policies that have been taken in order to try to solve the financial crisis.\",\n",
              " 'The breed with the shortest lifespan (among breeds for which there is a questionnaire survey with a reasonable sample size) is the Dogue de Bordeaux, with a median longevity of about 5.2 years, but several breeds, including Miniature Bull Terriers, Bloodhounds, and Irish Wolfhounds are nearly as short-lived, with median longevities of 6 to 7 years.',\n",
              " 'Edmund Kean (4 November 1787 – 15 May 1833) was a celebrated Shakespearean  stage actor born in England, who performed in London, Belfast, New York, Quebec, and Paris among other places. He was well known for his short stature, tumultuous personal life, and controversial divorce. He expired of dissipation at the age of 44.',\n",
              " 'Major Stephen C. Reich (May 22, 1971 – June 28, 2005) was an American soldier and Minor League Baseball player who was killed in action while on a rescue mission in Afghanistan at age 34. Reich played for the \"Team USA\" baseball team in 1993, and has more wins than any other pitcher in the history of the United States Military Academy.',\n",
              " 'The esraj (Bengali: এস্রাজ; Hindi: इसराज; English /ˈɛsrʌdʒ/; also called the Indian harp) is a string instrument found in two forms throughout the north, central, and east regions of India. It is a young instrument by Indian terms, being only about 200 years old. The dilruba (दिलरुबा) is found in the north, where it is used in religious music and light classical songs in the urban areas.',\n",
              " 'In 2013, a study found that mixed breeds live on average 1.2 years longer than pure breeds, and that increasing body-weight was negatively correlated with longevity (i.e. the heavier the dog the shorter its lifespan).',\n",
              " 'Big Bertha (17 March 1945 – 31 December 1993) was a cow who held two Guinness World Records: she was the oldest cow recorded, dying just three months short of her 49th birthday, and she also held the record for lifetime breeding, having produced 39 calves.  During her lifetime she helped raise $75,000 for cancer research and other charities.',\n",
              " '\"Linda\" is a popular song written about then one year old future star Linda McCartney. It was written by Jack Lawrence, and published in 1946.',\n",
              " \"Sir William Romney's School is a secondary school with academy status in Tetbury, Gloucestershire, England, with students aged 11–16. It serves schools around the Tetbury, Leighterton, Stroud, Cirencester, Nailsworth and Avening, also many other towns around Tetbury.There is a house system in which a student who did good work may earn points for their house, At the end of term whichever house has the most points wins a prize or non-uniforn day.\",\n",
              " \"Paul O'Connor is an Irish skier, who competed in the 2002 Winter Olympics. Despite being from Ireland, originally County Cork he lives in Provo, Utah and is a practicing Mormon. During the Olympics, he came 69th out of 72 in his race, at the Cross-country skiing. Being aged 43 during the Olympics, he was one of the oldest ever competitors in the sport.O'Connor is a convert to The Church of Jesus Christ of Latter-day Saints and is married with one daughter.\",\n",
              " 'A ragged-jacket (or, occasionally, \"raggedy-jacket\") is the name given to a harp or grey seal pup when it is undergoing its first moult, and the intermediate stage between a \"whitecoat\" and a \"beater\". The moulting begins when the pup is at an age of about 12–14 days, at which time they cease nursing. At this young age, the pups are not yet capable of swimming. The pup stays on the ice for about two weeks before the fur has moulted. It does not feed during this time and therefore loses weight.',\n",
              " 'On February 23, 1997, Ali Hassan Abu Kamal, a 69-year-old Palestinian teacher, opened fire on the observation deck of the Empire State Building in Manhattan, New York City. The gunman killed one person and wounded six others before taking his own life with a gunshot to the head.Law enforcement officials ruled it was a premeditated attack after finding notes indicating anger over Palestine and Israel.',\n",
              " 'Kongeegen (the King Oak) is an oak tree in Denmark. It grows in Jægerspris Nordskov (Jægerspris North Forest) near Jægerspris, on the island of Sjælland. It has an estimated age of 1500–2000 years, and may well be the oldest living oak in northern Europe. It probably originally grew in an open meadow, to account for its short trunk and low branching, with other taller forest trees growing up around it subsequently. The taller trees around it are now shading it and slowly killing it.',\n",
              " 'Judy Torluemke Rankin (born February 18, 1945) is an American professional golfer and golf broadcaster.  A member of the World Golf Hall of Fame, she joined the LPGA Tour in 1962 at age 17 and won 26 tour events. Rankin is currently the lead analyst for the LPGA Tour telecasts on Golf Channel, and works select PGA Tour events as an on-course reporter.',\n",
              " \"Sylvester Stadler (30 December 1910 – 23 August 1995) was a SS-Brigadeführer and Generalmajor of the Waffen-SS, a commander of the 2nd SS Division Das Reich, 9th SS Panzer Division Hohenstaufen and a winner of the Knight's Cross with Oakleaves and Swords. He was one of the youngest German generals during World War II, being only 34 years old when the war ended in 1945.\",\n",
              " 'Maddison Gabriel (born 16 September 1994) is an Australian model who gained notoriety when, at the age of 12, she was controversially named the face of the 2007 Gold Coast Fashion Week.',\n",
              " 'Gautama was now determined to complete his spiritual quest. At the age of 35, he famously sat in meditation under a Ficus religiosa tree now called the Bodhi Tree in the town of Bodh Gaya and vowed not to rise before achieving enlightenment. After many days, he finally destroyed the fetters of his mind, thereby liberating himself from the cycle of suffering and rebirth, and arose as a fully enlightened being (Skt. samyaksaṃbuddha). Soon thereafter, he attracted a band of followers and instituted a monastic order. Now, as the Buddha, he spent the rest of his life teaching the path of awakening he had discovered, traveling throughout the northeastern part of the Indian subcontinent, and died at the age of 80 (483 BCE) in Kushinagar, India. The south branch of the original fig tree available only in Anuradhapura Sri Lanka is known as Jaya Sri Maha Bodhi.',\n",
              " 'Swiss Maid (13 February 1975 – after 1992) was a British Thoroughbred racehorse and broodmare, who was rated the best three-year-old filly in Europe in 1978. Unraced as a two-year-old, she won only one of her first eight races in 1978 and appeared to be some way inferior to the best horses of her generation.',\n",
              " \"The Premio Carlo d'Alessio is a Group 3 flat horse race in Italy open to thoroughbreds aged four years or older. It is run over a distance of 2,400 metres (about 1½ miles) at Capannelle in May.\",\n",
              " 'Whitehead pointed to the limitations of language as one of the main culprits in maintaining a materialistic way of thinking, and acknowledged that it may be difficult to ever wholly move past such ideas in everyday speech. After all, each moment of each person\\'s life can hardly be given a different proper name, and it is easy and convenient to think of people and objects as remaining fundamentally the same things, rather than constantly keeping in mind that each thing is a different thing from what it was a moment ago. Yet the limitations of everyday living and everyday speech should not prevent people from realizing that \"material substances\" or \"essences\" are a convenient generalized description of a continuum of particular, concrete processes. No one questions that a ten-year-old person is quite different by the time he or she turns thirty years old, and in many ways is not the same person at all; Whitehead points out that it is not philosophically or ontologically sound to think that a person is the same from one second to the next.',\n",
              " 'Gustavo Antonio Gelpí, Jr. (born 1965) is a United States District Judge for the District of Puerto Rico. At age 40, he was the youngest judge at the time of  his appointment.',\n",
              " 'The Coral Cup is a Grade 3 National Hunt hurdle race in Great Britain which is open to horses aged four years or older. It is run on the Old Course at Cheltenham over a distance of about 2 miles and 5 furlongs (4,225 metres), and during its running there are ten hurdles to be jumped. It is a handicap race, and it is scheduled to take place each year during the Cheltenham Festival in March.The event was established in 1993, and it has been sponsored by Coral throughout its history.',\n",
              " 'Bonde das Maravilhas is a Brazilian funk carioca group who gained fame with the music video of \"Quadradinho de Oito\".The group was fronted by six young female dancers from Niteroi, Rio de Janeiro. In 2014 fans and the public were surprised when two of the girls became pregnant. The first was Renata at only 14 years old and the second was Karol who was 19. Both left the group and returned in May 2015 after the birth of their children.',\n",
              " 'Most breeds of dog are at most a few hundred years old, having been artificially selected for particular morphologies and behaviors by people for specific functional roles. Through this selective breeding, the dog has developed into hundreds of varied breeds, and shows more behavioral and morphological variation than any other land mammal. For example, height measured to the withers ranges from 15.2 centimetres (6.0 in) in the Chihuahua to about 76 cm (30 in) in the Irish Wolfhound; color varies from white through grays (usually called \"blue\") to black, and browns from light (tan) to dark (\"red\" or \"chocolate\") in a wide variation of patterns; coats can be short or long, coarse-haired to wool-like, straight, curly, or smooth. It is common for most breeds to shed this coat.',\n",
              " \"Stephen John Rixon (born 25 February 1954, Albury, New South Wales) is the current Australian cricket fielding coach.Rixon first came to public attention as a sixteen-year-old during the 1970/71 Marylebone Cricket Club tour of Australia, when England's wicket-keeper Alan Knott applauded Rixon's efforts for a Southern New South Wales team against the MCC.\",\n",
              " \"MGP Nordic (Melodi Grand Prix Nordic) is a Scandinavian song contest for children aged 8 to 15, organized by DR, NRK, SVT and Yle through Yle Fem. It originated as a 2000 spin-off of Denmark's Eurovision Song Contest national final known as De unges Melodi Grand Prix, but expanded to become MGP Nordic in 2002 with the addition of Norway and Sweden.\",\n",
              " 'The story takes place during three years (1933–35) of the Great Depression in the fictional \"tired old town\" of Maycomb, Alabama, the seat of Maycomb County. It focuses on six-year-old Jean Louise Finch (Scout), who lives with her older brother, Jem, and their widowed father, Atticus, a middle-aged lawyer. Jem and Scout befriend a boy named Dill, who visits Maycomb to stay with his aunt each summer. The three children are terrified of, and fascinated by, their neighbor, the reclusive Arthur \"Boo\" Radley. The adults of Maycomb are hesitant to talk about Boo, and, for many years few have seen him. The children feed one another\\'s imagination with rumors about his appearance and reasons for remaining hidden, and they fantasize about how to get him out of his house. After two summers of friendship with Dill, Scout and Jem find that someone leaves them small gifts in a tree outside the Radley place. Several times the mysterious Boo makes gestures of affection to the children, but, to their disappointment, he never appears in person.',\n",
              " 'One rescue team reported only 2,300 survivors from the town of Yingxiu in Wenchuan County, out of a total population of about 9,000. 3,000 to 5,000 people were killed in Beichuan County, Sichuan alone; in the same location, 10,000 people were injured and 80% of the buildings were destroyed. The old county seat of Beichuan was abandoned and preserved as part of the Beichuan Earthquake Museum. Eight schools were toppled in Dujiangyan. A 56-year-old was killed in Dujiangyan during a rescue attempt on the Lingyanshan Ropeway, where due to the earthquake 11 tourists from Taiwan had been trapped inside cable cars since May 13. A 4-year-old boy named Zhu Shaowei (traditional Chinese: 朱紹維; simplified Chinese: 朱绍维; pinyin: Zhū Shàowéi) was also killed in Mianzhu City when a house collapsed on him and another was reported missing.',\n",
              " 'Tyrnavos (17 February 1977–30 August 2003) was a British Thoroughbred racehorse and sire, best known for his win in the 1980 Irish Derby. As a two-year-old he showed promise by winning one of his three races and finishing second in the Dewhurst Stakes. In the following year he won the Craven Stakes, but was well-beaten in the 2000 Guineas, Dante Stakes and Epsom Derby, before recording a 25/1 upset victory the Irish Derby at the Curragh Racecourse.',\n",
              " '18th-century French art was dominated by the Rococo and neoclassical movements. In France, the death of Louis XIV lead to a period of licentious freedom commonly called the Régence.  The heir to Louis XIV, his great grandson Louis XV of France, was only 5 years old; for the next seven years France was ruled by the regent Philippe II of Orléans.  Versailles was abandoned from 1715 to 1722.  Painting turned toward \"fêtes galantes\", theater settings and the female nude.',\n",
              " 'The CGA Foxhunter Chase is a National Hunt chase in Great Britain for amateur riders which is open to horses aged five years or older. It is run on the New Course at Cheltenham over a distance of about 3 miles and 2½ furlongs (5,331 metres), and during its running there are twenty-two fences to be jumped.',\n",
              " 'In domestic dogs, sexual maturity begins to happen around age six to twelve months for both males and females, although this can be delayed until up to two years old for some large breeds. This is the time at which female dogs will have their first estrous cycle. They will experience subsequent estrous cycles biannually, during which the body prepares for pregnancy. At the peak of the cycle, females will come into estrus, being mentally and physically receptive to copulation. Because the ova survive and are capable of being fertilized for a week after ovulation, it is possible for a female to mate with more than one male.',\n",
              " \"Hugo Chávez, the President of Venezuela, died on 5 March 2013 at the age of 58. His death triggered a presidential election which was constitutionally obliged to be called within 30 days. Vice President Nicolás Maduro served as interim president following Chávez's death until 14 April, when he was officially elected.Chávez was first elected as president in 1998 and was re-elected in 2000, 2006 and finally in 2012.\",\n",
              " \"Mark Alexander Wallace (born 19 November 1981, Abergavenny, Monmouthshire, Wales) is a Welsh cricketer; a left-handed batsman and wicket-keeper.Wallace made his second XI debut for Glamorgan at the age of just 15, and by 1998 he was in the England U-19 team that played Pakistan, as well as accompanying them to New Zealand the following winter and playing three one-day games against Australia U-19s in the summer of 1999, a year in which he won the NBC Denis Compton Award.In September 1999, he made his bow in first-class cricket, appearing in the County Championship game against Somerset at the age of 17 years and 287 days – thus making him Glamorgan's youngest ever Championship wicket-keeper.\",\n",
              " 'The armed forces have three branches: Navy, Army and Air Force. They serve primarily as a self-defense force whose mission is to protect the territorial integrity of the country and provide humanitarian assistance and security at home and abroad. As of 2008, the three branches numbered 39,200 active personnel including 7,500 women. Portuguese military expenditure in 2009 was $5.2 billion, representing 2.1 percent of GDP. Military conscription was abolished in 2004. The minimum age for voluntary recruitment is 18 years.',\n",
              " 'The Juvenile Turf Stakes (formerly the Golden Fleece Stakes) is a Group 3 flat horse race in Ireland open to two-year-old thoroughbreds. It is run over a distance of 1 mile (1,609 metres) at Leopardstown in September.',\n",
              " 'Robert Pershing Wadlow (February 22, 1918 – July 15, 1940) also known as the Alton Giant and the Giant of Illinois, was the tallest person in recorded history for whom there is irrefutable evidence. The Alton and Illinois monikers reflect the fact that he was born and raised in Alton, Illinois.Wadlow reached 8 ft 11.1 in (2.72 m) in height and weighed 439 lb (199 kg) at his death at age 22.']"
            ]
          },
          "metadata": {},
          "execution_count": 84
        }
      ]
    },
    {
      "cell_type": "markdown",
      "metadata": {
        "id": "g-MwEmH20L6M"
      },
      "source": [
        "For the question how old are you we see here that our model is lost. What is normal indeed this question is a question that requires a context of answer, that is to say that depending on the moment or it is asked of and the person it will vary. So we can't really say that a context works or how can we know if a story about a person and a story about an event is a possible good answer? Well, we have here a first error that shows the limitations of our model."
      ]
    },
    {
      "cell_type": "code",
      "metadata": {
        "colab": {
          "base_uri": "https://localhost:8080/"
        },
        "id": "AM3V17PsyI5x",
        "outputId": "1e4753bc-ebf1-41ef-b587-1bd2e66a1bf9"
      },
      "source": [
        "find_best_context(\"Wich is the first album solo of beyonce ?\")"
      ],
      "execution_count": 85,
      "outputs": [
        {
          "output_type": "execute_result",
          "data": {
            "text/plain": [
              "['Beyoncé\\'s first solo recording was a feature on Jay Z\\'s \"\\'03 Bonnie & Clyde\" that was released in October 2002, peaking at number four on the U.S. Billboard Hot 100 chart. Her first solo album Dangerously in Love was released on June 24, 2003, after Michelle Williams and Kelly Rowland had released their solo efforts. The album sold 317,000 copies in its first week, debuted atop the Billboard 200, and has since sold 11 million copies worldwide. The album\\'s lead single, \"Crazy in Love\", featuring Jay Z, became Beyoncé\\'s first number-one single as a solo artist in the US. The single \"Baby Boy\" also reached number one, and singles, \"Me, Myself and I\" and \"Naughty Girl\", both reached the top-five. The album earned Beyoncé a then record-tying five awards at the 46th Annual Grammy Awards; Best Contemporary R&B Album, Best Female R&B Vocal Performance for \"Dangerously in Love 2\", Best R&B Song and Best Rap/Sung Collaboration for \"Crazy in Love\", and Best R&B Performance by a Duo or Group with Vocals for \"The Closer I Get to You\" with Luther Vandross.',\n",
              " 'On December 13, 2013, Beyoncé unexpectedly released her eponymous fifth studio album on the iTunes Store without any prior announcement or promotion. The album debuted atop the Billboard 200 chart, giving Beyoncé her fifth consecutive number-one album in the US. This made her the first woman in the chart\\'s history to have her first five studio albums debut at number one. Beyoncé received critical acclaim and commercial success, selling one million digital copies worldwide in six days; The New York Times noted the album\\'s unconventional, unexpected release as significant. Musically an electro-R&B album, it concerns darker themes previously unexplored in her work, such as \"bulimia, postnatal depression [and] the fears and insecurities of marriage and motherhood\". The single \"Drunk in Love\", featuring Jay Z, peaked at number two on the Billboard Hot 100 chart. In April 2014, after much speculation in the weeks before, Beyoncé and Jay Z officially announced their On the Run Tour. It served as the couple\\'s first co-headlining stadium tour together. On August 24, 2014, she received the Video Vanguard Award at the 2014 MTV Video Music Awards. Knowles also took home three competitive awards: Best Video with a Social Message and Best Cinematography for \"Pretty Hurts\", as well as best collaboration for \"Drunk in Love\". In November, Forbes reported that Beyoncé was the top-earning woman in music for the second year in a row—earning $115 million in the year, more than double her earnings in 2013. Beyoncé was reissued with new material in three forms: as an extended play, a box set, as well as a full platinum edition.',\n",
              " 'Beyoncé Giselle Knowles-Carter (/biːˈjɒnseɪ/ bee-YON-say) (born September 4, 1981) is an American singer, songwriter, record producer and actress. Born and raised in Houston, Texas, she performed in various singing and dancing competitions as a child, and rose to fame in the late 1990s as lead singer of R&B girl-group Destiny\\'s Child. Managed by her father, Mathew Knowles, the group became one of the world\\'s best-selling girl groups of all time. Their hiatus saw the release of Beyoncé\\'s debut album, Dangerously in Love (2003), which established her as a solo artist worldwide, earned five Grammy Awards and featured the Billboard Hot 100 number-one singles \"Crazy in Love\" and \"Baby Boy\".',\n",
              " 'On April 4, 2008, Beyoncé married Jay Z. She publicly revealed their marriage in a video montage at the listening party for her third studio album, I Am... Sasha Fierce, in Manhattan\\'s Sony Club on October 22, 2008. I Am... Sasha Fierce was released on November 18, 2008 in the United States. The album formally introduces Beyoncé\\'s alter ego Sasha Fierce, conceived during the making of her 2003 single \"Crazy in Love\", selling 482,000 copies in its first week, debuting atop the Billboard 200, and giving Beyoncé her third consecutive number-one album in the US. The album featured the number-one song \"Single Ladies (Put a Ring on It)\" and the top-five songs \"If I Were a Boy\" and \"Halo\". Achieving the accomplishment of becoming her longest-running Hot 100 single in her career, \"Halo\"\\'s success in the US helped Beyoncé attain more top-ten singles on the list than any other woman during the 2000s. It also included the successful \"Sweet Dreams\", and singles \"Diva\", \"Ego\", \"Broken-Hearted Girl\" and \"Video Phone\". The music video for \"Single Ladies\" has been parodied and imitated around the world, spawning the \"first major dance craze\" of the Internet age according to the Toronto Star. The video has won several awards, including Best Video at the 2009 MTV Europe Music Awards, the 2009 Scottish MOBO Awards, and the 2009 BET Awards. At the 2009 MTV Video Music Awards, the video was nominated for nine awards, ultimately winning three including Video of the Year. Its failure to win the Best Female Video category, which went to American country pop singer Taylor Swift\\'s \"You Belong with Me\", led to Kanye West interrupting the ceremony and Beyoncé improvising a re-presentation of Swift\\'s award during her own acceptance speech. In March 2009, Beyoncé embarked on the I Am... World Tour, her second headlining worldwide concert tour, consisting of 108 shows, grossing $119.5 million.',\n",
              " 'Beyoncé is believed to have first started a relationship with Jay Z after a collaboration on \"\\'03 Bonnie & Clyde\", which appeared on his seventh album The Blueprint 2: The Gift & The Curse (2002). Beyoncé appeared as Jay Z\\'s girlfriend in the music video for the song, which would further fuel speculation of their relationship. On April 4, 2008, Beyoncé and Jay Z were married without publicity. As of April 2014, the couple have sold a combined 300 million records together. The couple are known for their private relationship, although they have appeared to become more relaxed in recent years. Beyoncé suffered a miscarriage in 2010 or 2011, describing it as \"the saddest thing\" she had ever endured. She returned to the studio and wrote music in order to cope with the loss. In April 2011, Beyoncé and Jay Z traveled to Paris in order to shoot the album cover for her 4, and unexpectedly became pregnant in Paris.',\n",
              " 'Beyoncé has won 20 Grammy Awards, both as a solo artist and member of Destiny\\'s Child, making her the second most honored female artist by the Grammys, behind Alison Krauss and the most nominated woman in Grammy Award history with 52 nominations. \"Single Ladies (Put a Ring on It)\" won Song of the Year in 2010 while \"Say My Name\" and \"Crazy in Love\" had previously won Best R&B Song. Dangerously in Love, B\\'Day and I Am... Sasha Fierce have all won Best Contemporary R&B Album. Beyoncé set the record for the most Grammy awards won by a female artist in one night in 2010 when she won six awards, breaking the tie she previously held with Alicia Keys, Norah Jones, Alison Krauss, and Amy Winehouse, with Adele equaling this in 2012. Following her role in Dreamgirls she was nominated for Best Original Song for \"Listen\" and Best Actress at the Golden Globe Awards, and Outstanding Actress in a Motion Picture at the NAACP Image Awards. Beyoncé won two awards at the Broadcast Film Critics Association Awards 2006; Best Song for \"Listen\" and Best Original Soundtrack for Dreamgirls: Music from the Motion Picture.',\n",
              " 'In The New Yorker music critic Jody Rosen described Beyoncé as \"the most important and compelling popular musician of the twenty-first century..... the result, the logical end point, of a century-plus of pop.\" When The Guardian named her Artist of the Decade, Llewyn-Smith wrote, \"Why Beyoncé? [...] Because she made not one but two of the decade\\'s greatest singles, with Crazy in Love and Single Ladies (Put a Ring on It), not to mention her hits with Destiny\\'s Child; and this was the decade when singles – particularly R&B singles – regained their status as pop\\'s favourite medium. [...] [She] and not any superannuated rock star was arguably the greatest live performer of the past 10 years.\" In 2013, Beyoncé made the Time 100 list, Baz Luhrmann writing \"no one has that voice, no one moves the way she moves, no one can hold an audience the way she does... When Beyoncé does an album, when Beyoncé sings a song, when Beyoncé does anything, it\\'s an event, and it\\'s broadly influential. Right now, she is the heir-apparent diva of the USA — the reigning national voice.\" In 2014, Beyoncé was listed again on the Time 100 and also featured on the cover of the issue.',\n",
              " 'Her fourth studio album 4 was released on June 28, 2011 in the US. 4 sold 310,000 copies in its first week and debuted atop the Billboard 200 chart, giving Beyoncé her fourth consecutive number-one album in the US. The album was preceded by two of its singles \"Run the World (Girls)\" and \"Best Thing I Never Had\", which both attained moderate success. The fourth single \"Love on Top\" was a commercial success in the US. 4 also produced four other singles; \"Party\", \"Countdown\", \"I Care\" and \"End of Time\". \"Eat, Play, Love\", a cover story written by Beyoncé for Essence that detailed her 2010 career break, won her a writing award from the New York Association of Black Journalists. In late 2011, she took the stage at New York\\'s Roseland Ballroom for four nights of special performances: the 4 Intimate Nights with Beyoncé concerts saw the performance of her 4 album to a standing room only.',\n",
              " 'Beyoncé has received numerous awards. As a solo artist she has sold over 15 million albums in the US, and over 118 million records worldwide (a further 60 million additionally with Destiny\\'s Child), making her one of the best-selling music artists of all time. The Recording Industry Association of America (RIAA) listed Beyoncé as the top certified artist of the 2000s, with a total of 64 certifications. Her songs \"Crazy in Love\", \"Single Ladies (Put a Ring on It)\", \"Halo\", and \"Irreplaceable\" are some of the best-selling singles of all time worldwide. In 2009, The Observer named her the Artist of the Decade and Billboard named her the Top Female Artist and Top Radio Songs Artist of the Decade. In 2010, Billboard named her in their \"Top 50 R&B/Hip-Hop Artists of the Past 25 Years\" list at number 15. In 2012 VH1 ranked her third on their list of the \"100 Greatest Women in Music\". Beyoncé was the first female artist to be honored with the International Artist Award at the American Music Awards. She has also received the Legend Award at the 2008 World Music Awards and the Billboard Millennium Award at the 2011 Billboard Music Awards.',\n",
              " 'Beyoncé has worked with Tommy Hilfiger for the fragrances True Star (singing a cover version of \"Wishing on a Star\") and True Star Gold; she also promoted Emporio Armani\\'s Diamonds fragrance in 2007. Beyoncé launched her first official fragrance, Heat in 2010. The commercial, which featured the 1956 song \"Fever\", was shown after the water shed in the United Kingdom as it begins with an image of Beyoncé appearing to lie naked in a room. In February 2011, Beyoncé launched her second fragrance, Heat Rush. Beyoncé\\'s third fragrance, Pulse, was launched in September 2011. In 2013, The Mrs. Carter Show Limited Edition version of Heat was released. The six editions of Heat are the world\\'s best-selling celebrity fragrance line, with sales of over $400 million.',\n",
              " 'She has received co-writing credits for most of the songs recorded with Destiny\\'s Child and her solo efforts. Her early songs were personally driven and female-empowerment themed compositions like \"Independent Women\" and \"Survivor\", but after the start of her relationship with Jay Z she transitioned to more man-tending anthems such as \"Cater 2 U\". Beyoncé has also received co-producing credits for most of the records in which she has been involved, especially during her solo efforts. However, she does not formulate beats herself, but typically comes up with melodies and ideas during production, sharing them with producers.',\n",
              " 'On January 7, 2012, Beyoncé gave birth to a daughter, Blue Ivy Carter, at Lenox Hill Hospital in New York under heavy security. Two days later, Jay Z released \"Glory\", a song dedicated to their child, on his website Lifeandtimes.com. The song detailed the couple\\'s pregnancy struggles, including a miscarriage Beyoncé suffered before becoming pregnant with Blue Ivy. Blue Ivy\\'s cries are included at the end of the song, and she was officially credited as \"B.I.C.\" on it. At two days old, she became the youngest person ever to appear on a Billboard chart when \"Glory\" debuted on the Hot R&B/Hip-Hop Songs chart.',\n",
              " 'Following the disbandment of Destiny\\'s Child in June 2005, she released her second solo album, B\\'Day (2006), which contained hits \"Déjà Vu\", \"Irreplaceable\", and \"Beautiful Liar\". Beyoncé also ventured into acting, with a Golden Globe-nominated performance in Dreamgirls (2006), and starring roles in The Pink Panther (2006) and Obsessed (2009). Her marriage to rapper Jay Z and portrayal of Etta James in Cadillac Records (2008) influenced her third album, I Am... Sasha Fierce (2008), which saw the birth of her alter-ego Sasha Fierce and earned a record-setting six Grammy Awards in 2010, including Song of the Year for \"Single Ladies (Put a Ring on It)\". Beyoncé took a hiatus from music in 2010 and took over management of her career; her fourth album 4 (2011) was subsequently mellower in tone, exploring 1970s funk, 1980s pop, and 1990s soul. Her critically acclaimed fifth studio album, Beyoncé (2013), was distinguished from previous releases by its experimental production and exploration of darker themes.',\n",
              " 'At the 52nd Annual Grammy Awards, Beyoncé received ten nominations, including Album of the Year for I Am... Sasha Fierce, Record of the Year for \"Halo\", and Song of the Year for \"Single Ladies (Put a Ring on It)\", among others. She tied with Lauryn Hill for most Grammy nominations in a single year by a female artist. In 2010, Beyoncé was featured on Lady Gaga\\'s single \"Telephone\" and its music video. The song topped the US Pop Songs chart, becoming the sixth number-one for both Beyoncé and Gaga, tying them with Mariah Carey for most number-ones since the Nielsen Top 40 airplay chart launched in 1992. \"Telephone\" received a Grammy Award nomination for Best Pop Collaboration with Vocals.',\n",
              " 'At the 57th Annual Grammy Awards in February 2015, Beyoncé was nominated for six awards, ultimately winning three: Best R&B Performance and Best R&B Song for \"Drunk in Love\", and Best Surround Sound Album for Beyoncé. She was nominated for Album of the Year but the award was won by Beck for his Morning Phase album. In August, the cover of the September issue of Vogue magazine was unveiled online, Beyoncé as the cover star, becoming the first African-American artist and third African-American woman in general to cover the September issue. She headlined the 2015 Made in America festival in early September and also the Global Citizen Festival later that month. Beyoncé made an uncredited featured appearance on the track \"Hymn for the Weekend\" by British rock band Coldplay, on their seventh studio album A Head Full of Dreams (2015), which saw release in December. On January 7, 2016, Pepsi announced Beyoncé would perform alongside Coldplay at Super Bowl 50 in February. Knowles has previously performed at four Super Bowl shows throughout her career, serving as the main headliner of the 47th Super Bowl halftime show in 2013.',\n",
              " 'In July 2002, Beyoncé continued her acting career playing Foxxy Cleopatra alongside Mike Myers in the comedy film, Austin Powers in Goldmember, which spent its first weekend atop the US box office and grossed $73 million. Beyoncé released \"Work It Out\" as the lead single from its soundtrack album which entered the top ten in the UK, Norway, and Belgium. In 2003, Beyoncé starred opposite Cuba Gooding, Jr., in the musical comedy The Fighting Temptations as Lilly, a single mother whom Gooding\\'s character falls in love with. The film received mixed reviews from critics but grossed $30 million in the U.S. Beyoncé released \"Fighting Temptation\" as the lead single from the film\\'s soundtrack album, with Missy Elliott, MC Lyte, and Free which was also used to promote the film. Another of Beyoncé\\'s contributions to the soundtrack, \"Summertime\", fared better on the US charts.',\n",
              " 'A self-described \"modern-day feminist\", Beyoncé creates songs that are often characterized by themes of love, relationships, and monogamy, as well as female sexuality and empowerment. On stage, her dynamic, highly choreographed performances have led to critics hailing her as one of the best entertainers in contemporary popular music. Throughout a career spanning 19 years, she has sold over 118 million records as a solo artist, and a further 60 million with Destiny\\'s Child, making her one of the best-selling music artists of all time. She has won 20 Grammy Awards and is the most nominated woman in the award\\'s history. The Recording Industry Association of America recognized her as the Top Certified Artist in America during the 2000s decade. In 2009, Billboard named her the Top Radio Songs Artist of the Decade, the Top Female Artist of the 2000s and their Artist of the Millennium in 2011. Time listed her among the 100 most influential people in the world in 2013 and 2014. Forbes magazine also listed her as the most powerful female musician of 2015.',\n",
              " 'Beyoncé\\'s second solo album B\\'Day was released on September 5, 2006, in the US, to coincide with her twenty-fifth birthday. It sold 541,000 copies in its first week and debuted atop the Billboard 200, becoming Beyoncé\\'s second consecutive number-one album in the United States. The album\\'s lead single \"Déjà Vu\", featuring Jay Z, reached the top five on the Billboard Hot 100 chart. The second international single \"Irreplaceable\" was a commercial success worldwide, reaching number one in Australia, Hungary, Ireland, New Zealand and the United States. B\\'Day also produced three other singles; \"Ring the Alarm\", \"Get Me Bodied\", and \"Green Light\" (released in the United Kingdom only).',\n",
              " 'Her first acting role of 2006 was in the comedy film The Pink Panther starring opposite Steve Martin, grossing $158.8 million at the box office worldwide. Her second film Dreamgirls, the film version of the 1981 Broadway musical loosely based on The Supremes, received acclaim from critics and grossed $154 million internationally. In it, she starred opposite Jennifer Hudson, Jamie Foxx, and Eddie Murphy playing a pop singer based on Diana Ross. To promote the film, Beyoncé released \"Listen\" as the lead single from the soundtrack album. In April 2007, Beyoncé embarked on The Beyoncé Experience, her first worldwide concert tour, visiting 97 venues and grossed over $24 million.[note 1] Beyoncé conducted pre-concert food donation drives during six major stops in conjunction with her pastor at St. John\\'s and America\\'s Second Harvest. At the same time, B\\'Day was re-released with five additional songs, including her duet with Shakira \"Beautiful Liar\".',\n",
              " 'In January 2013, Destiny\\'s Child released Love Songs, a compilation album of the romance-themed songs from their previous albums and a newly recorded track, \"Nuclear\". Beyoncé performed the American national anthem singing along with a pre-recorded track at President Obama\\'s second inauguration in Washington, D.C. The following month, Beyoncé performed at the Super Bowl XLVII halftime show, held at the Mercedes-Benz Superdome in New Orleans. The performance stands as the second most tweeted about moment in history at 268,000 tweets per minute. At the 55th Annual Grammy Awards, Beyoncé won for Best Traditional R&B Performance for \"Love on Top\". Her feature-length documentary film, Life Is But a Dream, first aired on HBO on February 16, 2013. The film, which she directed and produced herself, featured footage from her childhood, her as a mother and businesswoman, recording, rehearsing for live performances, and her return to the spotlight following Blue Ivy\\'s birth. Its DVD release in November 2013 was accompanied by footage from the Revel Presents: Beyoncé Live concerts and a new song, \"God Made You Beautiful\". In February 2013, Beyoncé signed a global publishing agreement with Warner/Chappell Music, which would cover her future songwriting and then-upcoming studio album.',\n",
              " 'In 2001, she became the first African-American woman and second woman songwriter to win the Pop Songwriter of the Year award at the American Society of Composers, Authors, and Publishers Pop Music Awards. Beyoncé was the third woman to have writing credits on three number one songs (\"Irreplaceable\", \"Grillz\" and \"Check on It\") in the same year, after Carole King in 1971 and Mariah Carey in 1991. She is tied with American songwriter Diane Warren at third with nine songwriting credits on number-one singles. (The latter wrote her 9/11-motivated song \"I Was Here\" for 4.) In May 2011, Billboard magazine listed Beyoncé at number 17 on their list of the \"Top 20 Hot 100 Songwriters\", for having co-written eight singles that hit number one on the Billboard Hot 100 chart. She was one of only three women on that list.',\n",
              " 'In December 2015, West released a song titled \"Facts\". He announced in January 2016 on Twitter that SWISH would be released on February 11, after releasing new song \"Real Friends\" and a snippet of \"No More Parties in L.A.\" with Kendrick Lamar. This also revived the GOOD Fridays initiative in which Kanye releases new singles every Friday. On January 26, 2016, West revealed he had renamed the album from SWISH to Waves, and also announced the premier of his Yeezy Season 3 clothing line at Madison Square Garden. In early 2016, several weeks prior to the release of his new album, West became embroiled in a short-lived social media altercation with rapper Wiz Khalifa on Twitter that eventually involved their mutual ex-partner, Amber Rose, who protested to West\\'s mention of her and Khalifa\\'s child. The feud involved allegations by Rose concerning her sexual relationship with West, and received significant media attention. As of February 2, 2016, West and Khalifa had reconciled. Several days ahead of the album\\'s release, West again changed the title, this time to The Life of Pablo. On February 11, West premiered the album at Madison Square Garden as part of the presentation of his Yeezy Season 3 clothing line. Following the preview, West announced that he would be modifying the track list once more before its release to the public, and further delayed its release to finalize the recording of the track \"Waves\" at the behest of co-writer Chance the Rapper. He released the album exclusively on Tidal on 14 February 2016 following a performance on SNL.',\n",
              " \"Women and Satan First is a 2012 album by wumpscut:.Artwork for the album cover was created by German 'photo artist' Thomas Buchta depecting Satan as an elderly naked man accompanied by female nudes, in front of a tan backdrop.In November 2011 :wumpscut: announced the album with a remix contest, inviting fans to download remix packs for 'Grobian' and 'Kill That Little Fuck' and then submit their mixes.A limited edition deluxe 'Satan Box' edition was released on 6 April 2012, containing two CDs (a copy of the original album plus a disc of remixes), access to exclusive remix MP3 downloads (these remixes were made by fans in response to the competition), a shirt, a flag, a booklet, a calendar and other related items.A limited edition 180 gram vinyl edition containing a poster, booklet and download links for the tracks was also released in April 2012.\",\n",
              " 'In 2011, documents obtained by WikiLeaks revealed that Beyoncé was one of many entertainers who performed for the family of Libyan ruler Muammar Gaddafi. Rolling Stone reported that the music industry was urging them to return the money they earned for the concerts; a spokesperson for Beyoncé later confirmed to The Huffington Post that she donated the money to the Clinton Bush Haiti Fund. Later that year she became the first solo female artist to headline the main Pyramid stage at the 2011 Glastonbury Festival in over twenty years, and was named the highest-paid performer in the world per minute.',\n",
              " 'The Original is the debut album of rapper Sarai. Released in 2003 via Sweat/Epic Records. The first single released to radio was \"Pack Ya Bags\" in 2002. The official single \"Ladies\" was released in 2003. The album entered the Billboard 200 chart at No. 187.',\n",
              " \"LeToya Luckett and Roberson became unhappy with Mathew's managing of the band and eventually were replaced by Farrah Franklin and Michelle Williams. Beyoncé experienced depression following the split with Luckett and Roberson after being publicly blamed by the media, critics, and blogs for its cause. Her long-standing boyfriend left her at this time. The depression was so severe it lasted for a couple of years, during which she occasionally kept herself in her bedroom for days and refused to eat anything. Beyoncé stated that she struggled to speak about her depression because Destiny's Child had just won their first Grammy Award and she feared no one would take her seriously. Beyoncé would later speak of her mother as the person who helped her fight it. Franklin was dismissed, leaving just Beyoncé, Rowland, and Williams.\",\n",
              " 'The remaining band members recorded \"Independent Women Part I\", which appeared on the soundtrack to the 2000 film, Charlie\\'s Angels. It became their best-charting single, topping the U.S. Billboard Hot 100 chart for eleven consecutive weeks. In early 2001, while Destiny\\'s Child was completing their third album, Beyoncé landed a major role in the MTV made-for-television film, Carmen: A Hip Hopera, starring alongside American actor Mekhi Phifer. Set in Philadelphia, the film is a modern interpretation of the 19th century opera Carmen by French composer Georges Bizet. When the third album Survivor was released in May 2001, Luckett and Roberson filed a lawsuit claiming that the songs were aimed at them. The album debuted at number one on the U.S. Billboard 200, with first-week sales of 663,000 copies sold. The album spawned other number-one hits, \"Bootylicious\" and the title track, \"Survivor\", the latter of which earned the group a Grammy Award for Best R&B Performance by a Duo or Group with Vocals. After releasing their holiday album 8 Days of Christmas in October 2001, the group announced a hiatus to further pursue solo careers.',\n",
              " \"Beyoncé's music is generally R&B, but she also incorporates pop, soul and funk into her songs. 4 demonstrated Beyoncé's exploration of 90s-style R&B, as well as further use of soul and hip hop than compared to previous releases. While she almost exclusively releases English songs, Beyoncé recorded several Spanish songs for Irreemplazable (re-recordings of songs from B'Day for a Spanish-language audience), and the re-release of B'Day. To record these, Beyoncé was coached phonetically by American record producer Rudy Perez.\",\n",
              " 'West spent much of the late-1990s producing records for a number of well-known artists and music groups. The third song on Foxy Brown\\'s second studio album Chyna Doll was produced by West. Her second effort subsequently became the very first hip-hop album by a female rapper to debut at the top of the U.S. Billboard 200 chart in its first week of release. West produced three of the tracks on Harlem World\\'s first and only album The Movement alongside Jermaine Dupri and the production duo Trackmasters. His songs featured rappers Nas, Drag-On, and R&B singer Carl Thomas. The ninth track from World Party, the last Goodie Mob album to feature the rap group\\'s four founding members prior to their break-up, was co-produced by West with his manager Deric \"D-Dot\" Angelettie. At the close of the millennium, West ended up producing six songs for Tell \\'Em Why U Madd, an album that was released by D-Dot under the alias of The Madd Rapper; a fictional character he created for a skit on The Notorious B.I.G.\\'s second and final studio album Life After Death. West\\'s songs featured guest appearances from rappers such as Ma$e, Raekwon, and Eminem.',\n",
              " '\"Telling Me Lies\" is a song written by Linda Thompson and Betsy Cook, which was included on Thompson\\'s 1985 One Clear Moment album (her first solo album, after divorcing husband and former collaborator Richard Thompson).  A more famous recording of the song, however, was Linda Ronstadt, Dolly Parton and Emmylou Harris\\'s version, which they included on their 1987 collaboration Trio.  The song was also released as the album\\'s second single, and it reached the top ten on the U.S.',\n",
              " 'In June 2013, West and television personality Kim Kardashian announced the birth of their first child, North. In October 2013, the couple announced their engagement to widespread media attention. November 2013, West stated that he was beginning work on his next studio album, hoping to release it by mid-2014, with production by Rick Rubin and Q-Tip. In December 2013, Adidas announced the beginning of an official apparel collaboration with West, to be premiered the following year. In May 2014, West and Kardashian were married in a private ceremony in Florence, Italy, with a variety of artists and celebrities in attendance. West released a single, \"Only One\", featuring Paul McCartney, on December 31, 2014. \"FourFiveSeconds\", a single jointly produced with Rihanna and McCartney, was released in January 2015. West also appeared on the Saturday Night Live 40th Anniversary Special, where he premiered a new song entitled \"Wolves\", featuring Sia Furler and fellow Chicago rapper, Vic Mensa. In February 2015, West premiered his clothing collaboration with Adidas, entitled Yeezy Season 1, to generally positive reviews. This would include West\\'s Yeezy Boost sneakers. In March 2015, West released the single \"All Day\" featuring Theophilus London, Allan Kingdom and Paul McCartney. West performed the song at the 2015 BRIT Awards with a number of US rappers and UK grime MC\\'s including: Skepta, Wiley, Novelist, Fekky, Krept & Konan, Stormzy, Allan Kingdom, Theophilus London and Vic Mensa. He would premiere the second iteration of his clothing line, Yeezy Season 2, in September 2015 at New York Fashion Week.',\n",
              " '\"Mystery Virgin\" (ミステリー\\u3000ヴァージン) is the debut solo single of Japanese recording artist Ryosuke Yamada. It was the singer’s first solo single following his success as the lead member of popular Japanese boy band, Hey! Say! JUMP. The song was produced and written by Vandrythem, Erik Lidbom, and Daichi. It was first solicited to mainstream radio on November 30, 2012 and was available for digital download on December 26, 2012. The song was physically released on January 9, 2013.',\n",
              " 'In August, the couple attended the 2011 MTV Video Music Awards, at which Beyoncé performed \"Love on Top\" and started the performance saying \"Tonight I want you to stand up on your feet, I want you to feel the love that\\'s growing inside of me\". At the end of the performance, she dropped her microphone, unbuttoned her blazer and rubbed her stomach, confirming her pregnancy she had alluded to earlier in the evening. Her appearance helped that year\\'s MTV Video Music Awards become the most-watched broadcast in MTV history, pulling in 12.4 million viewers; the announcement was listed in Guinness World Records for \"most tweets per second recorded for a single event\" on Twitter, receiving 8,868 tweets per second and \"Beyonce pregnant\" was the most Googled term the week of August 29, 2011.',\n",
              " 'Beyoncé and husband Jay Z are friends with President Barack Obama and First Lady Michelle Obama. She performed \"America the Beautiful\" at the 2009 presidential inauguration, as well as \"At Last\" during the first inaugural dance at the Neighborhood Ball two days later. Beyoncé and Jay Z held a fundraiser at the latter\\'s 40/40 Club in Manhattan for Obama\\'s 2012 presidential campaign which raised $4 million. Beyoncé uploaded pictures of her paper ballot on Tumblr, confirming she had voted in support for the Democratic Party and to encourage others to do so. She also performed the American national anthem at his second inauguration, singing along with a pre-recorded track. She publicly endorsed same sex marriage on March 26, 2013, after the Supreme Court debate on California\\'s Proposition 8. In July 2013, Beyoncé and Jay-Z attended a rally in response to the acquittal of George Zimmerman for the shooting of Trayvon Martin.',\n",
              " 'The feminism and female empowerment themes on Beyoncé\\'s second solo album B\\'Day were inspired by her role in Dreamgirls and by singer Josephine Baker. Beyoncé paid homage to Baker by performing \"Déjà Vu\" at the 2006 Fashion Rocks concert wearing Baker\\'s trademark mini-hula skirt embellished with fake bananas. Beyoncé\\'s third solo album I Am... Sasha Fierce was inspired by Jay Z and especially by Etta James, whose \"boldness\" inspired Beyoncé to explore other musical genres and styles. Her fourth solo album, 4, was inspired by Fela Kuti, 1990s R&B, Earth, Wind & Fire, DeBarge, Lionel Richie, Teena Marie with additional influences by The Jackson 5, New Edition, Adele, Florence and the Machine, and Prince.',\n",
              " 'Forbes magazine began reporting on Beyoncé\\'s earnings in 2008, calculating that the $80 million earned between June 2007 to June 2008, for her music, tour, films and clothing line made her the world\\'s best-paid music personality at the time, above Madonna and Celine Dion. They placed her fourth on the Celebrity 100 list in 2009 and ninth on the \"Most Powerful Women in the World\" list in 2010. The following year, Forbes placed her eighth on the \"Best-Paid Celebrities Under 30\" list, having earned $35 million in the past year for her clothing line and endorsement deals. In 2012, Forbes placed Beyoncé at number 16 on the Celebrity 100 list, twelve places lower than three years ago yet still having earned $40 million in the past year for her album 4, clothing line and endorsement deals. In the same year, Beyoncé and Jay Z placed at number one on the \"World\\'s Highest-Paid Celebrity Couples\", for collectively earning $78 million. The couple made it into the previous year\\'s Guinness World Records as the \"highest-earning power couple\" for collectively earning $122 million in 2009. For the years 2009 to 2011, Beyoncé earned an average of $70 million per year, and earned $40 million in 2012. In 2013, Beyoncé\\'s endorsements of Pepsi and H&M made her and Jay Z the world\\'s first billion dollar couple in the music industry. That year, Beyoncé was published as the fourth most-powerful celebrity in the Forbes rankings. MTV estimated that by the end of 2014, Beyoncé would become the highest-paid black musician in history; she succeeded to do so in April 2014. In June 2014, Beyoncé ranked at #1 on the Forbes Celebrity 100 list, earning an estimated $115 million throughout June 2013 – June 2014. This in turn was the first time she had topped the Celebrity 100 list as well as being her highest yearly earnings to date. As of May 2015, her net worth is estimated to be $250 million.',\n",
              " \"Unity Band is a studio album by American jazz guitarist Pat Metheny along with Chris Potter on saxophone and bass clarinet, Ben Williams on bass, and Antonio Sánchez on drums. This is the first Metheny album featuring tenor saxophone in 32 years (since 1980's 80/81). The album was released through Nonesuch Records on June 12, 2012 and received the Grammy Award for Best Jazz Instrumental Album during the 2013 Grammy Awards, marking Metheny's 20th Grammy win.\",\n",
              " \"On January 7, 2012, Beyoncé gave birth to her first child, a daughter, Blue Ivy Carter, at Lenox Hill Hospital in New York. Five months later, she performed for four nights at Revel Atlantic City's Ovation Hall to celebrate the resort's opening, her first performances since giving birth to Blue Ivy.\",\n",
              " 'Beyoncé has stated that she is personally inspired by US First Lady Michelle Obama, saying \"She proves you can do it all\" and she has described Oprah Winfrey as \"the definition of inspiration and a strong woman\". She has also discussed how Jay Z is a continuing inspiration to her, both with what she describes as his lyrical genius and in the obstacles he has overcome in his life. Beyoncé has expressed admiration for the artist Jean-Michel Basquiat, posting in a letter \"what I find in the work of Jean-Michel Basquiat, I search for in every day in music... he is lyrical and raw\". In February 2013, Beyoncé said that Madonna inspired her to take control of her own career. She commented: \"I think about Madonna and how she took all of the great things she achieved and started the label and developed other artists. But there are not enough of those women.\".',\n",
              " 'In November 2003, she embarked on the Dangerously in Love Tour in Europe and later toured alongside Missy Elliott and Alicia Keys for the Verizon Ladies First Tour in North America. On February 1, 2004, Beyoncé performed the American national anthem at Super Bowl XXXVIII, at the Reliant Stadium in Houston, Texas. After the release of Dangerously in Love, Beyoncé had planned to produce a follow-up album using several of the left-over tracks. However, this was put on hold so she could concentrate on recording Destiny Fulfilled, the final studio album by Destiny\\'s Child. Released on November 15, 2004, in the US and peaking at number two on the Billboard 200, Destiny Fulfilled included the singles \"Lose My Breath\" and \"Soldier\", which reached the top five on the Billboard Hot 100 chart. Destiny\\'s Child embarked on a worldwide concert tour, Destiny Fulfilled... and Lovin\\' It and during the last stop of their European tour, in Barcelona on June 11, 2005, Rowland announced that Destiny\\'s Child would disband following the North American leg of the tour. The group released their first compilation album Number 1\\'s on October 25, 2005, in the US and accepted a star on the Hollywood Walk of Fame in March 2006.',\n",
              " 'Beyoncé has received praise for her stage presence and voice during live performances. Jarett Wieselman of the New York Post placed her at number one on her list of the Five Best Singer/Dancers. According to Barbara Ellen of The Guardian Beyoncé is the most in-charge female artist she\\'s seen onstage, while Alice Jones of The Independent wrote she \"takes her role as entertainer so seriously she\\'s almost too good.\" The ex-President of Def Jam L.A. Reid has described Beyoncé as the greatest entertainer alive. Jim Farber of the Daily News and Stephanie Classen of Star Phoenix both praised her strong voice and her stage presence.',\n",
              " 'On February 6, 2016, one day before her performance at the Super Bowl, Beyoncé released a new single exclusively on music streaming service Tidal called \"Formation\".',\n",
              " 'Beyoncé has been described as a having a wide-ranging sex appeal, with music journalist Touré writing that since the release of Dangerously in Love, she has \"become a crossover sex symbol\". Offstage Beyoncé says that while she likes to dress sexily, her onstage dress \"is absolutely for the stage.\" Due to her curves and the term\\'s catchiness, in the 2000s, the media often used the term \"Bootylicious\" (a portmanteau of the words booty and delicious) to describe Beyoncé, the term popularized by Destiny\\'s Child\\'s single of the same name. In 2006, it was added to the Oxford English Dictionary.',\n",
              " 'Beyoncé embarked on The Mrs. Carter Show World Tour on April 15 in Belgrade, Serbia; the tour included 132 dates that ran through to March 2014. It became the most successful tour of her career and one of the most-successful tours of all time. In May, Beyoncé\\'s cover of Amy Winehouse\\'s \"Back to Black\" with André 3000 on The Great Gatsby soundtrack was released. She was also honorary chair of the 2013 Met Gala. Beyoncé voiced Queen Tara in the 3D CGI animated film, Epic, released by 20th Century Fox on May 24, and recorded an original song for the film, \"Rise Up\", co-written with Sia.',\n",
              " 'In an interview published by Vogue in April 2013, Beyoncé was asked if she considers herself a feminist, to which she said, \"that word can be very extreme... But I guess I am a modern-day feminist. I do believe in equality\". She would later align herself more publicly with the movement, sampling \"We should all be feminists\", a speech delivered by Nigerian author Chimamanda Ngozi Adichie at a TEDxEuston conference in April 2013, in her song \"Flawless\", released later that year. She has also contributed to the Ban Bossy campaign, which uses television and social media to encourage leadership in girls.',\n",
              " \"Beyoncé's work has influenced numerous artists including Adele, Ariana Grande, Lady Gaga, Bridgit Mendler, Rihanna, Kelly Rowland, Sam Smith, Meghan Trainor, Nicole Scherzinger, Rita Ora, Zendaya, Cheryl Cole, JoJo, Alexis Jordan, Jessica Sanchez, and Azealia Banks. American indie rock band White Rabbits also cited her an inspiration for their third album Milk Famous (2012), friend Gwyneth Paltrow studied Beyoncé at her live concerts while learning to become a musical performer for the 2010 film Country Strong. Nicki Minaj has stated that seeing Beyoncé's Pepsi commercial influenced her decision to appear in the company's 2012 global campaign.\",\n",
              " 'Beyoncé names Michael Jackson as her major musical influence. Aged five, Beyoncé attended her first ever concert where Jackson performed and she claims to have realised her purpose. When she presented him with a tribute award at the World Music Awards in 2006, Beyoncé said, \"if it wasn\\'t for Michael Jackson, I would never ever have performed.\" She admires Diana Ross as an \"all-around entertainer\" and Whitney Houston, who she said \"inspired me to get up there and do what she did.\" She credits Mariah Carey\\'s singing and her song \"Vision of Love\" as influencing her to begin practicing vocal runs as a child. Her other musical influences include Aaliyah, Prince, Lauryn Hill, Sade Adu, Donna Summer, Mary J. Blige, Janet Jackson, Anita Baker and Rachelle Ferrell.',\n",
              " 'Vengo is Chilean hip-hop artist Ana Tijoux\\'s fourth solo studio album, released in March, 2014. Its debut single \"Vengo\" was released on Spin in January of the same year. Vengo was nominated for a Grammy Award for Best Latin Rock, Urban or Alternative Album at the 2015 Ceremony.',\n",
              " \"'Kiss and Swallow' is the first single to be taken from IAMX's debut album 'Kiss + Swallow'.  The song is highly erotic and deals with prostitution.\",\n",
              " 'EP 1 Odd Year & The Reverb Junkie is the first collaborative EP release by the duo Odd Year (David Gonzalez) and The Reverb Junkie (Michelle Chamuel). It was released in September 2012. The duo had previously released a single titled \"Might Not Happen\" in January 2012.',\n",
              " 'Count on My Love is the second studio album and major-label debut by Tessanne Chin, released on July 1, 2014 under Republic Records/Universal Republic. Her first official single, \"Tumbling Down\", was penned by Ryan Tedder of One Republic and his songwriting partner Noel Zancanella, and debuted immediately after her victory on The Voice.',\n",
              " 'The group changed their name to Destiny\\'s Child in 1996, based upon a passage in the Book of Isaiah. In 1997, Destiny\\'s Child released their major label debut song \"Killing Time\" on the soundtrack to the 1997 film, Men in Black. The following year, the group released their self-titled debut album, scoring their first major hit \"No, No, No\". The album established the group as a viable act in the music industry, with moderate sales and winning the group three Soul Train Lady of Soul Awards for Best R&B/Soul Album of the Year, Best R&B/Soul or Rap New Artist, and Best R&B/Soul Single for \"No, No, No\". The group released their multi-platinum second album The Writing\\'s on the Wall in 1999. The record features some of the group\\'s most widely known songs such as \"Bills, Bills, Bills\", the group\\'s first number-one single, \"Jumpin\\' Jumpin\\'\" and \"Say My Name\", which became their most successful song at the time, and would remain one of their signature songs. \"Say My Name\" won the Best R&B Performance by a Duo or Group with Vocals and the Best R&B Song at the 43rd Annual Grammy Awards. The Writing\\'s on the Wall sold more than eight million copies worldwide. During this time, Beyoncé recorded a duet with Marc Nelson, an original member of Boyz II Men, on the song \"After All Is Said and Done\" for the soundtrack to the 1999 film, The Best Man.',\n",
              " 'Beyoncé attended St. Mary\\'s Elementary School in Fredericksburg, Texas, where she enrolled in dance classes. Her singing talent was discovered when dance instructor Darlette Johnson began humming a song and she finished it, able to hit the high-pitched notes. Beyoncé\\'s interest in music and performing continued after winning a school talent show at age seven, singing John Lennon\\'s \"Imagine\" to beat 15/16-year-olds. In fall of 1990, Beyoncé enrolled in Parker Elementary School, a music magnet school in Houston, where she would perform with the school\\'s choir. She also attended the High School for the Performing and Visual Arts and later Alief Elsik High School. Beyoncé was also a member of the choir at St. John\\'s United Methodist Church as a soloist for two years.',\n",
              " 'In September 2010, Beyoncé made her runway modelling debut at Tom Ford\\'s Spring/Summer 2011 fashion show. She was named \"World\\'s Most Beautiful Woman\" by People and the \"Hottest Female Singer of All Time\" by Complex in 2012. In January 2013, GQ placed her on its cover, featuring her atop its \"100 Sexiest Women of the 21st Century\" list. VH1 listed her at number 1 on its 100 Sexiest Artists list. Several wax figures of Beyoncé are found at Madame Tussauds Wax Museums in major cities around the world, including New York, Washington, D.C., Amsterdam, Bangkok, Hollywood and Sydney.',\n",
              " 'Lovin\\' and Learnin\\', Tanya Tucker\\'s fifth album (mislabeled as \"Livin\\' and Learnin\\'\"), was the one that started her long association with producer Jerry Crutchfield, who would eventually produce fourteen of Tucker\\'s albums (although not consecutively). The two charting singles from the album were \"Don\\'t Believe My Heart Can Stand Another You\" at #4, and \"You\\'ve Got Me to Hold on To\" at #3 on the Billboard Country Singles chart, while the album itself was a #3 Country Album.',\n",
              " 'Her debut single, \"Crazy in Love\" was named VH1\\'s \"Greatest Song of the 2000s\", NME\\'s \"Best Track of the 00s\" and \"Pop Song of the Century\", considered by Rolling Stone to be one of the 500 greatest songs of all time, earned two Grammy Awards and is one of the best-selling singles of all time at around 8 million copies. The music video for \"Single Ladies (Put a Ring on It)\", which achieved fame for its intricate choreography and its deployment of jazz hands, was credited by the Toronto Star as having started the \"first major dance craze of both the new millennium and the Internet\", triggering a number of parodies of the dance choreography and a legion of amateur imitators on YouTube. In 2013, Drake released a single titled \"Girls Love Beyoncé\", which featured an interpolation from Destiny Child\\'s \"Say My Name\" and discussed his relationship with women. In January 2012, research scientist Bryan Lessard named Scaptia beyonceae, a species of horse fly found in Northern Queensland, Australia after Beyoncé due to the fly\\'s unique golden hairs on its abdomen. In July 2014, a Beyoncé exhibit was introduced into the \"Legends of Rock\" section of the Rock and Roll Hall of Fame. The black leotard from the \"Single Ladies\" video and her outfit from the Super Bowl half time performance are among several pieces housed at the museum.',\n",
              " 'Nawell Azzouz better known as Wallen (born January 23, 1978) is a French R&B singer. Her stage name comes from the rearrangement of the letters of her first name.She was born in Saint-Denis, France, to Moroccan parents. As a child, she learned to play the violin and developed a passion for singing. She grew up listening to funk, hip hop, and R&B.Influenced by Aaliyah, Wallen made her recording debut with producer Sullee B Wax, and female rapper Sté Strass.',\n",
              " 'Sessions for West\\'s sixth solo effort begin to take shape in early 2013 in his own personal loft\\'s living room at a Paris hotel. Determined to \"undermine the commercial\", he once again brought together close collaborators and attempted to incorporate Chicago drill, dancehall, acid house, and industrial music. Primarily inspired by architecture, West\\'s perfectionist tendencies led him to contact producer Rick Rubin fifteen days shy of its due date to strip down the record\\'s sound in favor of a more minimalist approach. Initial promotion of his sixth album included worldwide video projections of the album\\'s music and live television performances. Yeezus, West\\'s sixth album, was released June 18, 2013 to rave reviews from critics. It became the rapper\\'s sixth consecutive number one debut, but also marked his lowest solo opening week sales. Def Jam issued \"Black Skinhead\" to radio in July 2013 as the album\\'s lead single. On September 6, 2013, Kanye West announced he would be headlining his first solo tour in five years, to support Yeezus, with fellow American rapper Kendrick Lamar accompanying him along the way.',\n",
              " 'In December, Beyoncé along with a variety of other celebrities teamed up and produced a video campaign for \"Demand A Plan\", a bipartisan effort by a group of 950 US mayors and others designed to influence the federal government into rethinking its gun control laws, following the Sandy Hook Elementary School shooting. Beyoncé became an ambassador for the 2012 World Humanitarian Day campaign donating her song \"I Was Here\" and its music video, shot in the UN, to the campaign. In 2013, it was announced that Beyoncé would work with Salma Hayek and Frida Giannini on a Gucci \"Chime for Change\" campaign that aims to spread female empowerment. The campaign, which aired on February 28, was set to her new music. A concert for the cause took place on June 1, 2013 in London and included other acts like Ellie Goulding, Florence and the Machine, and Rita Ora. In advance of the concert, she appeared in a campaign video released on 15 May 2013, where she, along with Cameron Diaz, John Legend and Kylie Minogue, described inspiration from their mothers, while a number of other artists celebrated personal inspiration from other women, leading to a call for submission of photos of women of viewers\\' inspiration from which a selection was shown at the concert. Beyoncé said about her mother Tina Knowles that her gift was \"finding the best qualities in every human being.\" With help of the crowdfunding platform Catapult, visitors of the concert could choose between several projects promoting education of women and girls. Beyoncé is also taking part in \"Miss a Meal\", a food-donation campaign, and supporting Goodwill charity through online charity auctions at Charitybuzz that support job creation throughout Europe and the U.S.',\n",
              " \"At age eight, Beyoncé and childhood friend Kelly Rowland met LaTavia Roberson while in an audition for an all-girl entertainment group. They were placed into a group with three other girls as Girl's Tyme, and rapped and danced on the talent show circuit in Houston. After seeing the group, R&B producer Arne Frager brought them to his Northern California studio and placed them in Star Search, the largest talent show on national TV at the time. Girl's Tyme failed to win, and Beyoncé later said the song they performed was not good. In 1995 Beyoncé's father resigned from his job to manage the group. The move reduced Beyoncé's family's income by half, and her parents were forced to move into separated apartments. Mathew cut the original line-up to four and the group continued performing as an opening act for other established R&B girl groups. The girls auditioned before record labels and were finally signed to Elektra Records, moving to Atlanta Records briefly to work on their first recording, only to be cut by the company. This put further strain on the family, and Beyoncé's parents separated. On October 5, 1995, Dwayne Wiggins's Grass Roots Entertainment signed the group. In 1996, the girls began recording their debut album under an agreement with Sony Music, the Knowles family reunited, and shortly after, the group got a contract with Columbia Records.\"]"
            ]
          },
          "metadata": {},
          "execution_count": 85
        }
      ]
    },
    {
      "cell_type": "markdown",
      "metadata": {
        "id": "PvQWxhMB0LZ4"
      },
      "source": [
        "For this question we see 2 reactions of the model in fact he will detect answers that are related to the question so the first question match well the artistic history of beyonce and therefore texts that speak of his album. But we also have in the first answers a lot of things related to beyonce but not necessarily with her first album. And in addition we can also see results on other artists. So we see that our model detects the themes well but it is limited to the moment when it sees more than one theme so we could possibly add a method that increases the sore when a text addresses the whole theme of the question to have a real bonus."
      ]
    }
  ]
}